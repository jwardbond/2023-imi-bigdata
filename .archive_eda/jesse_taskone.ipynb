{
 "cells": [
  {
   "cell_type": "markdown",
   "id": "84d4e54f",
   "metadata": {},
   "source": [
    "# Jesse's Task One"
   ]
  },
  {
   "cell_type": "markdown",
   "id": "7737b3dd",
   "metadata": {},
   "source": [
    "# 1. Setup"
   ]
  },
  {
   "cell_type": "code",
   "execution_count": 64,
   "id": "f59c27bf",
   "metadata": {},
   "outputs": [],
   "source": [
    "import sys\n",
    "\n",
    "import numpy as np\n",
    "import pandas as pd\n",
    "\n",
    "import xgboost as xgb"
   ]
  },
  {
   "cell_type": "code",
   "execution_count": 23,
   "id": "0fcfe0de",
   "metadata": {},
   "outputs": [],
   "source": [
    "from sklearn.ensemble import RandomForestClassifier\n",
    "\n",
    "from sklearn.preprocessing import OneHotEncoder\n",
    "\n",
    "from sklearn.metrics import roc_curve, auc\n",
    "from sklearn.metrics import accuracy_score, classification_report\n",
    "\n",
    "from category_encoders.target_encoder import TargetEncoder"
   ]
  },
  {
   "cell_type": "code",
   "execution_count": 3,
   "id": "79e07c50",
   "metadata": {},
   "outputs": [
    {
     "name": "stdout",
     "output_type": "stream",
     "text": [
      "kaleido version: 0.2.1\n"
     ]
    }
   ],
   "source": [
    "import plotly.graph_objects as go\n",
    "from plotly.subplots import make_subplots\n",
    "import plotly.express as px\n",
    "import plotly.io as pio\n",
    "import kaleido \n",
    "print('kaleido version:', kaleido.__version__)\n",
    "\n",
    "#Inline figures\n",
    "pio.renderers.default = 'iframe'\n",
    "\n",
    "#Themeing\n",
    "# mcolors = px.colors.qualitative.Dark24\n",
    "\n",
    "pio.templates['custom'] = go.layout.Template(\n",
    "    layout=dict(\n",
    "        xaxis=dict(ticks='outside', tickcolor='lightgray', showgrid=False, showline=True),\n",
    "        yaxis=dict(ticks='outside', tickcolor='lightgray', showgrid=False, showline=True, mirror=True),\n",
    "        yaxis2=dict(ticks='outside', tickcolor='lightgray', showgrid=False,),\n",
    "        # colorway=mcolors,\n",
    "    )\n",
    "\n",
    ")\n",
    "\n",
    "\n",
    "pio.templates.default = 'plotly_white+custom'"
   ]
  },
  {
   "cell_type": "code",
   "execution_count": 4,
   "id": "4b66dcd4",
   "metadata": {},
   "outputs": [],
   "source": [
    "seed = 309"
   ]
  },
  {
   "cell_type": "markdown",
   "id": "80cf0e19",
   "metadata": {},
   "source": [
    "## 2. EDA"
   ]
  },
  {
   "cell_type": "code",
   "execution_count": 5,
   "id": "1f68ffdb",
   "metadata": {},
   "outputs": [
    {
     "data": {
      "text/html": [
       "<div>\n",
       "<style scoped>\n",
       "    .dataframe tbody tr th:only-of-type {\n",
       "        vertical-align: middle;\n",
       "    }\n",
       "\n",
       "    .dataframe tbody tr th {\n",
       "        vertical-align: top;\n",
       "    }\n",
       "\n",
       "    .dataframe thead th {\n",
       "        text-align: right;\n",
       "    }\n",
       "</style>\n",
       "<table border=\"1\" class=\"dataframe\">\n",
       "  <thead>\n",
       "    <tr style=\"text-align: right;\">\n",
       "      <th></th>\n",
       "      <th>Name</th>\n",
       "      <th>Gender</th>\n",
       "      <th>Occupation</th>\n",
       "      <th>Age</th>\n",
       "      <th>Tenure</th>\n",
       "      <th>cust_id</th>\n",
       "      <th>label</th>\n",
       "    </tr>\n",
       "  </thead>\n",
       "  <tbody>\n",
       "    <tr>\n",
       "      <th>0</th>\n",
       "      <td>JENNIFER WELLS</td>\n",
       "      <td>female</td>\n",
       "      <td>Architect</td>\n",
       "      <td>45.0</td>\n",
       "      <td>13.0</td>\n",
       "      <td>CUST82758793</td>\n",
       "      <td>0</td>\n",
       "    </tr>\n",
       "    <tr>\n",
       "      <th>1</th>\n",
       "      <td>ANTHONY ADAMS</td>\n",
       "      <td>male</td>\n",
       "      <td>Musician</td>\n",
       "      <td>52.0</td>\n",
       "      <td>8.0</td>\n",
       "      <td>CUST69248708</td>\n",
       "      <td>0</td>\n",
       "    </tr>\n",
       "    <tr>\n",
       "      <th>2</th>\n",
       "      <td>DENISE LEWIS</td>\n",
       "      <td>female</td>\n",
       "      <td>Jewelry Dealer</td>\n",
       "      <td>43.0</td>\n",
       "      <td>11.0</td>\n",
       "      <td>CUST67222818</td>\n",
       "      <td>0</td>\n",
       "    </tr>\n",
       "  </tbody>\n",
       "</table>\n",
       "</div>"
      ],
      "text/plain": [
       "             Name  Gender      Occupation   Age  Tenure       cust_id  label\n",
       "0  JENNIFER WELLS  female       Architect  45.0    13.0  CUST82758793      0\n",
       "1   ANTHONY ADAMS    male        Musician  52.0     8.0  CUST69248708      0\n",
       "2    DENISE LEWIS  female  Jewelry Dealer  43.0    11.0  CUST67222818      0"
      ]
     },
     "metadata": {},
     "output_type": "display_data"
    },
    {
     "data": {
      "text/plain": [
       "Name           object\n",
       "Gender         object\n",
       "Occupation     object\n",
       "Age           float64\n",
       "Tenure        float64\n",
       "cust_id        object\n",
       "label           int64\n",
       "dtype: object"
      ]
     },
     "metadata": {},
     "output_type": "display_data"
    }
   ],
   "source": [
    "kyc = pd.read_csv('../data/raw/kyc.csv')\n",
    "display(kyc.head(3))\n",
    "display(kyc.dtypes)"
   ]
  },
  {
   "cell_type": "code",
   "execution_count": 6,
   "id": "d8a8eddc",
   "metadata": {},
   "outputs": [
    {
     "data": {
      "text/html": [
       "<div>\n",
       "<style scoped>\n",
       "    .dataframe tbody tr th:only-of-type {\n",
       "        vertical-align: middle;\n",
       "    }\n",
       "\n",
       "    .dataframe tbody tr th {\n",
       "        vertical-align: top;\n",
       "    }\n",
       "\n",
       "    .dataframe thead tr th {\n",
       "        text-align: left;\n",
       "    }\n",
       "\n",
       "    .dataframe thead tr:last-of-type th {\n",
       "        text-align: right;\n",
       "    }\n",
       "</style>\n",
       "<table border=\"1\" class=\"dataframe\">\n",
       "  <thead>\n",
       "    <tr>\n",
       "      <th></th>\n",
       "      <th colspan=\"8\" halign=\"left\">Age</th>\n",
       "      <th colspan=\"8\" halign=\"left\">Tenure</th>\n",
       "    </tr>\n",
       "    <tr>\n",
       "      <th></th>\n",
       "      <th>count</th>\n",
       "      <th>mean</th>\n",
       "      <th>std</th>\n",
       "      <th>min</th>\n",
       "      <th>25%</th>\n",
       "      <th>50%</th>\n",
       "      <th>75%</th>\n",
       "      <th>max</th>\n",
       "      <th>count</th>\n",
       "      <th>mean</th>\n",
       "      <th>std</th>\n",
       "      <th>min</th>\n",
       "      <th>25%</th>\n",
       "      <th>50%</th>\n",
       "      <th>75%</th>\n",
       "      <th>max</th>\n",
       "    </tr>\n",
       "    <tr>\n",
       "      <th>label</th>\n",
       "      <th></th>\n",
       "      <th></th>\n",
       "      <th></th>\n",
       "      <th></th>\n",
       "      <th></th>\n",
       "      <th></th>\n",
       "      <th></th>\n",
       "      <th></th>\n",
       "      <th></th>\n",
       "      <th></th>\n",
       "      <th></th>\n",
       "      <th></th>\n",
       "      <th></th>\n",
       "      <th></th>\n",
       "      <th></th>\n",
       "      <th></th>\n",
       "    </tr>\n",
       "  </thead>\n",
       "  <tbody>\n",
       "    <tr>\n",
       "      <th>0</th>\n",
       "      <td>190275.0</td>\n",
       "      <td>35.670687</td>\n",
       "      <td>10.662419</td>\n",
       "      <td>18.0</td>\n",
       "      <td>28.0</td>\n",
       "      <td>35.0</td>\n",
       "      <td>42.0</td>\n",
       "      <td>92.0</td>\n",
       "      <td>190275.0</td>\n",
       "      <td>6.431917</td>\n",
       "      <td>5.925174</td>\n",
       "      <td>0.0</td>\n",
       "      <td>2.0</td>\n",
       "      <td>5.0</td>\n",
       "      <td>10.0</td>\n",
       "      <td>49.0</td>\n",
       "    </tr>\n",
       "    <tr>\n",
       "      <th>1</th>\n",
       "      <td>5514.0</td>\n",
       "      <td>41.428908</td>\n",
       "      <td>10.984981</td>\n",
       "      <td>18.0</td>\n",
       "      <td>34.0</td>\n",
       "      <td>41.0</td>\n",
       "      <td>49.0</td>\n",
       "      <td>80.0</td>\n",
       "      <td>5514.0</td>\n",
       "      <td>9.859086</td>\n",
       "      <td>7.400461</td>\n",
       "      <td>0.0</td>\n",
       "      <td>4.0</td>\n",
       "      <td>9.0</td>\n",
       "      <td>15.0</td>\n",
       "      <td>41.0</td>\n",
       "    </tr>\n",
       "  </tbody>\n",
       "</table>\n",
       "</div>"
      ],
      "text/plain": [
       "            Age                                                        Tenure  \\\n",
       "          count       mean        std   min   25%   50%   75%   max     count   \n",
       "label                                                                           \n",
       "0      190275.0  35.670687  10.662419  18.0  28.0  35.0  42.0  92.0  190275.0   \n",
       "1        5514.0  41.428908  10.984981  18.0  34.0  41.0  49.0  80.0    5514.0   \n",
       "\n",
       "                                                      \n",
       "           mean       std  min  25%  50%   75%   max  \n",
       "label                                                 \n",
       "0      6.431917  5.925174  0.0  2.0  5.0  10.0  49.0  \n",
       "1      9.859086  7.400461  0.0  4.0  9.0  15.0  41.0  "
      ]
     },
     "execution_count": 6,
     "metadata": {},
     "output_type": "execute_result"
    }
   ],
   "source": [
    "kyc.groupby('label')[['Age', 'Tenure']].describe()"
   ]
  },
  {
   "cell_type": "code",
   "execution_count": 7,
   "id": "09f4b2c2",
   "metadata": {},
   "outputs": [
    {
     "data": {
      "text/html": [
       "<iframe\n",
       "    scrolling=\"no\"\n",
       "    width=\"100%\"\n",
       "    height=\"545px\"\n",
       "    src=\"iframe_figures/figure_7.html\"\n",
       "    frameborder=\"0\"\n",
       "    allowfullscreen\n",
       "></iframe>\n"
      ]
     },
     "metadata": {},
     "output_type": "display_data"
    }
   ],
   "source": [
    "plot_df = kyc.groupby('Age')['label'].agg(Count='count', Sum='sum', Mean='mean')\n",
    "\n",
    "fig = make_subplots(rows=1, cols=len(plot_df.columns), subplot_titles=plot_df.columns.values, x_title='Age')\n",
    "\n",
    "for i, stat in enumerate(plot_df.columns): \n",
    "    fig.append_trace(go.Bar(\n",
    "        x=plot_df.index.values,\n",
    "        y=plot_df[stat], \n",
    "        showlegend=False\n",
    "    ), row=1, col=i+1)\n",
    "    \n",
    "    fig.update_layout()\n",
    "    \n",
    "fig.show()"
   ]
  },
  {
   "cell_type": "code",
   "execution_count": 8,
   "id": "31c8a83b",
   "metadata": {},
   "outputs": [
    {
     "data": {
      "text/html": [
       "<iframe\n",
       "    scrolling=\"no\"\n",
       "    width=\"100%\"\n",
       "    height=\"545px\"\n",
       "    src=\"iframe_figures/figure_8.html\"\n",
       "    frameborder=\"0\"\n",
       "    allowfullscreen\n",
       "></iframe>\n"
      ]
     },
     "metadata": {},
     "output_type": "display_data"
    }
   ],
   "source": [
    "plot_df = kyc.groupby('Tenure')['label'].agg(Count='count', Sum='sum', Mean='mean')\n",
    "\n",
    "fig = make_subplots(rows=1, cols=len(plot_df.columns), subplot_titles=plot_df.columns.values, x_title='Tenure')\n",
    "\n",
    "for i, stat in enumerate(plot_df.columns): \n",
    "    fig.append_trace(go.Bar(\n",
    "        x=plot_df.index.values,\n",
    "        y=plot_df[stat], \n",
    "        showlegend=False\n",
    "    ), row=1, col=i+1)\n",
    "    \n",
    "    fig.update_layout()\n",
    "\n",
    "fig.show()"
   ]
  },
  {
   "cell_type": "code",
   "execution_count": 9,
   "id": "36b9943d",
   "metadata": {},
   "outputs": [
    {
     "data": {
      "text/html": [
       "<iframe\n",
       "    scrolling=\"no\"\n",
       "    width=\"100%\"\n",
       "    height=\"545px\"\n",
       "    src=\"iframe_figures/figure_9.html\"\n",
       "    frameborder=\"0\"\n",
       "    allowfullscreen\n",
       "></iframe>\n"
      ]
     },
     "metadata": {},
     "output_type": "display_data"
    }
   ],
   "source": [
    "plot_df = kyc.groupby('Gender')['label'].agg(Count='count', Sum='sum', Mean='mean')\n",
    "\n",
    "fig = make_subplots(rows=1, cols=len(plot_df.columns), subplot_titles=plot_df.columns.values, x_title='Gender')\n",
    "\n",
    "for i, stat in enumerate(plot_df.columns): \n",
    "    fig.append_trace(go.Bar(\n",
    "        x=plot_df.index.values,\n",
    "        y=plot_df[stat], \n",
    "        showlegend=False\n",
    "    ), row=1, col=i+1)\n",
    "    \n",
    "    fig.update_layout()\n",
    "\n",
    "fig.show()"
   ]
  },
  {
   "cell_type": "code",
   "execution_count": 10,
   "id": "9490dc54",
   "metadata": {},
   "outputs": [
    {
     "name": "stdout",
     "output_type": "stream",
     "text": [
      "label                                        Occupation     0    1      freq\n",
      "110                        Import/Export Business Owner   143  105  0.423387\n",
      "160                       Online Gambling Site Operator   100   68  0.404762\n",
      "90                             Free Trade Zone Operator   103   69  0.401163\n",
      "153                                       Notary Public   201  134  0.400000\n",
      "55                                Cryptocurrency Trader   127   84  0.398104\n",
      "232                  Trust and Company Service Provider   127   83  0.395238\n",
      "32                                 Car Dealership Owner   255  161  0.387019\n",
      "187                                  Private Jet Broker    68   42  0.381818\n",
      "139                          Maritime or Shipping Agent   130   80  0.380952\n",
      "129                       Loan or Finance Company Owner   124   76  0.380000\n",
      "230                                 Travel Agency Owner   186  114  0.380000\n",
      "195                                  Real Estate Broker   295  178  0.376321\n",
      "50                                     Commodity Broker   142   82  0.366071\n",
      "242                     Virtual Asset Service Providers   104   60  0.365854\n",
      "133            Luxury Goods Dealer (e.g., Art, Jewelry)   142   81  0.363229\n",
      "188                      Private Security Company Owner    92   52  0.361111\n",
      "183                              Precious Metals Dealer   104   58  0.358025\n",
      "11                                    Art Gallery Owner   103   57  0.356250\n",
      "185                                      Private Banker   200  108  0.350649\n",
      "38                                      Casino Operator   155   82  0.345992\n",
      "57                              Currency Exchange Owner   188   98  0.342657\n",
      "151                              Nightclub or Bar Owner   165   84  0.337349\n",
      "5                                       Antiques Dealer   108   54  0.333333\n",
      "101                                  Hedge Fund Manager   168   84  0.333333\n",
      "186                         Private Equity Fund Manager    85   42  0.330709\n",
      "207                              Shell Company Operator    75   37  0.330357\n",
      "113                            International Consultant   143   69  0.325472\n",
      "223                                         Tax Advisor   199   96  0.325424\n",
      "36     Cash-intensive Business Owner (e.g., Laundromat)   212  102  0.324841\n",
      "152                    Non-profit Organization Director   154   70  0.312500\n",
      "144                        Money Service Business Owner   145   65  0.309524\n",
      "169                            Payment Processors Owner   156   68  0.303571\n",
      "159                                    Offshore Trustee   119   51  0.300000\n",
      "134                                 Luxury Yacht Broker    71   30  0.297030\n",
      "168                                     Pawn Shop Owner   158   63  0.285068\n",
      "158                         Offshore Investment Advisor   122   47  0.278107\n",
      "103                      High-End Real Estate Developer   154   59  0.276995\n",
      "16                                           Auctioneer   847  103  0.108421\n",
      "235                                             Unknown  1640  139  0.078134\n",
      "164                                               Other  2563  180  0.065622\n",
      "233                                          Unemployed  3069  167  0.051607\n",
      "114                           International Salesperson  1121   58  0.049194\n",
      "4                                        Antique Dealer   724   37  0.048620\n",
      "51                              Construction Contractor  2187  106  0.046228\n",
      "106                                            Hotelier  1473   71  0.045984\n",
      "8                                             Architect  1869   89  0.045455\n",
      "20                                               Banker  2269  104  0.043826\n",
      "214                                        Sports Agent   732   33  0.043137\n",
      "118                                            Landlord  1889   85  0.043060\n",
      "111                                Import/Export Dealer  1492   62  0.039897\n",
      "190                                    Property Manager  1416   58  0.039349\n",
      "91          Freelancer (e.g., Graphic Designer, Writer)  3737  149  0.038343\n",
      "120                                              Lawyer  1542   61  0.038054\n",
      "247                                     Wedding Planner  1422   56  0.037889\n",
      "115                                      Jewelry Dealer   775   30  0.037267\n",
      "29                                       Business Owner  1031   37  0.034644\n",
      "18                                          Auto Dealer  1467   50  0.032960\n",
      "194                                   Real Estate Agent  1883   62  0.031877\n",
      "237                                  Venture Capitalist  1103   36  0.031607\n",
      "53                                  Corporate Executive   368   12  0.031579\n",
      "216                                        Stock Broker  1491   45  0.029297\n",
      "10                                           Art Dealer   758   21  0.026958\n",
      "25                                            Biologist   720   13  0.017735\n",
      "65                                         Egyptologist    63    1  0.015625\n",
      "26                                          Book Editor   447    7  0.015419\n",
      "92                                       Game Developer   447    7  0.015419\n",
      "117                                       Kinesiologist    65    1  0.015152\n",
      "219                                            Surveyor   565    8  0.013962\n",
      "83                                            Fisherman   432    6  0.013699\n",
      "17                                               Author   436    6  0.013575\n",
      "213                                      Sound Engineer   438    6  0.013514\n",
      "27                                               Brewer   830   10  0.011905\n",
      "215                                        Statistician   585    7  0.011824\n",
      "67                                             Engineer  1672   20  0.011820\n",
      "229                                          Translator   587    7  0.011785\n",
      "56                                              Curator   434    5  0.011390\n",
      "180                                      Police Officer   873   10  0.011325\n",
      "66                                          Electrician  1179   13  0.010906\n",
      "62                                            Distiller   279    3  0.010638\n",
      "141                                            Mechanic  1131   12  0.010499\n",
      "97                                       Graphic Artist   763    8  0.010376\n",
      "178                                               Pilot   292    3  0.010169\n",
      "145                                      Music Producer   597    6  0.009950\n",
      "52                                  Construction Worker   997   10  0.009930\n",
      "21                                              Barista  1130   11  0.009641\n",
      "88                                       Food Scientist   425    4  0.009324\n",
      "140                                   Massage Therapist   746    7  0.009296\n",
      "238                                        Veterinarian   748    7  0.009272\n",
      "199                                             Retired  2895   27  0.009240\n",
      "19                                                Baker   752    7  0.009223\n",
      "226                                    Theater Director   540    5  0.009174\n",
      "166                                           Paramedic   772    7  0.008986\n",
      "80                                            Filmmaker   449    4  0.008830\n",
      "77                                     Fashion Designer   452    4  0.008772\n",
      "131                                Local Radio Operator   565    5  0.008772\n",
      "177                                           Physicist   804    7  0.008631\n",
      "245                                     Waiter/Waitress  1267   11  0.008607\n",
      "170                                        Pediatrician   586    5  0.008460\n",
      "227                                           Therapist   835    7  0.008314\n",
      "218                                             Surgeon   597    5  0.008306\n",
      "191                                        Psychologist  1568   13  0.008223\n",
      "209                                       Social Worker   983    8  0.008073\n",
      "197                                  Research Scientist   738    6  0.008065\n",
      "73                                        Event Planner   621    5  0.007987\n",
      "222                                       Tattoo Artist   754    6  0.007895\n",
      "224                                         Taxi Driver   891    7  0.007795\n",
      "203                                      Security Guard   896    7  0.007752\n",
      "116                                          Journalist   899    7  0.007726\n",
      "149                                        Nematologist   130    1  0.007634\n",
      "23                                            Beekeeper   263    2  0.007547\n",
      "46                                        Civil Servant  1453   11  0.007514\n",
      "47                                              Cleaner  1336   10  0.007429\n",
      "87                                          Food Critic   543    4  0.007313\n",
      "71                                        Ethnobotanist   273    2  0.007273\n",
      "84                                      Fitness Trainer  1092    8  0.007273\n",
      "2                                      Anesthesiologist   416    3  0.007160\n",
      "143                                               Miner   419    3  0.007109\n",
      "205                                         Semiotician   280    2  0.007092\n",
      "135                                       Makeup Artist   560    4  0.007092\n",
      "171                                          Pedologist   565    4  0.007030\n",
      "231                                        Travel Agent   576    4  0.006897\n",
      "40                                                 Chef  1011    7  0.006876\n",
      "72                                    Ethnomusicologist   293    2  0.006780\n",
      "63                                               Doctor  1046    7  0.006648\n",
      "161                                         Optometrist   598    4  0.006645\n",
      "125                                           Lifeguard   300    2  0.006623\n",
      "81                                    Financial Advisor   750    5  0.006623\n",
      "100                                         Hairstylist   910    6  0.006550\n",
      "121                                       Lepidopterist   152    1  0.006536\n",
      "163                                         Osteologist   152    1  0.006536\n",
      "112                                   Interior Designer   611    4  0.006504\n",
      "172                                         Pet Groomer  1079    7  0.006446\n",
      "123                                 Librarian Assistant  1082    7  0.006428\n",
      "95                                            Geologist   474    3  0.006289\n",
      "24                                          Bioengineer   478    3  0.006237\n",
      "33                                            Carpenter  1147    7  0.006066\n",
      "181                                 Political Scientist   834    5  0.005959\n",
      "44                                        Choreographer   838    5  0.005931\n",
      "249                                           Zookeeper   517    3  0.005769\n",
      "146                                            Musician  1392    8  0.005714\n",
      "189                                       Private Tutor   697    4  0.005706\n",
      "60                                              Dentist   897    5  0.005543\n",
      "202                                            Sculptor   539    3  0.005535\n",
      "175                                        Photographer   902    5  0.005513\n",
      "234                                University Professor   729    4  0.005457\n",
      "200                                   School Bus Driver  1141    6  0.005231\n",
      "212                                           Sommelier   573    3  0.005208\n",
      "64                                            Economist   586    3  0.005093\n",
      "122                                           Librarian   782    4  0.005089\n",
      "13                                               Artist   601    3  0.004967\n",
      "70                              Environmental Scientist   604    3  0.004942\n",
      "179                                             Plumber  1008    5  0.004936\n",
      "156                                        Nutritionist   613    3  0.004870\n",
      "196                                        Receptionist  1636    8  0.004866\n",
      "0                                                 Actor   412    2  0.004831\n",
      "31                           Call Center Representative  1667    8  0.004776\n",
      "138                                     Marine Engineer   423    2  0.004706\n",
      "211                                  Software Developer  1496    7  0.004657\n",
      "1                                               Actuary   429    2  0.004640\n",
      "246                                    Warehouse Worker  1988    9  0.004507\n",
      "42                                     Childcare Worker  1342    6  0.004451\n",
      "221                                              Tailor   453    2  0.004396\n",
      "148                                               Nanny  1370    6  0.004360\n",
      "105                                    Home Health Aide  1642    7  0.004245\n",
      "225                                        Telemarketer  1174    5  0.004241\n",
      "61                                            Dietician  1413    6  0.004228\n",
      "198                                  Retail Salesperson  2859   12  0.004180\n",
      "228                                          Tour Guide   721    3  0.004144\n",
      "82                                          Firefighter   721    3  0.004144\n",
      "76                                               Farmer   752    3  0.003974\n",
      "136                                        Malacologist   256    1  0.003891\n",
      "6                                              Arborist   258    1  0.003861\n",
      "248                                      Window Cleaner   785    3  0.003807\n",
      "210                                         Sociologist  1075    4  0.003707\n",
      "124                                          Librettist   271    1  0.003676\n",
      "220                                         TV Producer   271    1  0.003676\n",
      "96                                         Glaciologist   272    1  0.003663\n",
      "89                                             Forester   829    3  0.003606\n",
      "150                                         News Anchor   553    2  0.003604\n",
      "193                                         Radiologist  1394    5  0.003574\n",
      "132                                             Luthier   279    1  0.003571\n",
      "28                                           Bus Driver  1404    5  0.003549\n",
      "3                                        Animal Trainer   565    2  0.003527\n",
      "173                                          Pharmacist   863    3  0.003464\n",
      "108                                       Ichthyologist   288    1  0.003460\n",
      "98                                         Graphologist   290    1  0.003436\n",
      "68                                            Enologist   291    1  0.003425\n",
      "137                                    Marine Biologist   292    1  0.003413\n",
      "58                                                   DJ   292    1  0.003413\n",
      "208                                          Sinologist   293    1  0.003401\n",
      "12                                        Art Historian   588    2  0.003390\n",
      "49                                    Comic Book Artist   595    2  0.003350\n",
      "35                                           Cartoonist   601    2  0.003317\n",
      "94                                           Gemologist   304    1  0.003279\n",
      "86                                              Florist   622    2  0.003205\n",
      "74                                       Factory Worker  1615    5  0.003086\n",
      "93                                             Gardener  1359    4  0.002935\n",
      "41                                              Chemist  1401    4  0.002847\n",
      "22                                            Bartender  1422    4  0.002805\n",
      "104                                           Historian  1117    3  0.002679\n",
      "43                                         Chiropractor  1119    3  0.002674\n",
      "78                                     Fast Food Worker  2290    6  0.002613\n",
      "167                                         Pastry Chef   812    2  0.002457\n",
      "37                                              Cashier  2489    6  0.002405\n",
      "75                                         Farm Laborer   835    2  0.002389\n",
      "34                                         Cartographer   849    2  0.002350\n",
      "241                                        Videographer   439    1  0.002273\n",
      "182                                       Postal Worker  1436    3  0.002085\n",
      "142                                       Meteorologist   967    2  0.002064\n",
      "14                                           Astronomer   533    1  0.001873\n",
      "155                                               Nurse  2162    4  0.001847\n",
      "192                                          Radio Host   552    1  0.001808\n",
      "217                                             Student  5600   10  0.001783\n",
      "9                                            Art Critic   563    1  0.001773\n",
      "184                                          Printmaker   564    1  0.001770\n",
      "206                                        Set Designer   572    1  0.001745\n",
      "79                                          Film Editor   574    1  0.001739\n",
      "30                                              Butcher  1150    2  0.001736\n",
      "119                                          Landscaper  1157    2  0.001726\n",
      "130                                 Local Fair Operator   582    1  0.001715\n",
      "127                                            Linguist   586    1  0.001704\n",
      "39                                           Ceramicist   591    1  0.001689\n",
      "236                                       Urban Planner   606    1  0.001647\n",
      "85                                     Flight Attendant   637    1  0.001567\n",
      "99                                  Grocery Store Clerk  1993    3  0.001503\n",
      "201                                      School Teacher  1363    2  0.001465\n",
      "176                                  Physical Therapist  1425    2  0.001402\n",
      "239                              Veterinarian Assistant   819    1  0.001220\n",
      "240                                       Vexillologist   147    0  0.000000\n",
      "7                                         Archaeologist   540    0  0.000000\n",
      "243                                         Voice Actor   554    0  0.000000\n",
      "244                                       Volcanologist   115    0  0.000000\n",
      "157                                       Oceanographer   260    0  0.000000\n",
      "128                                     Literary Critic   562    0  0.000000\n",
      "15                                       Astrophysicist   291    0  0.000000\n",
      "45                                             Cicerone   153    0  0.000000\n",
      "48                                       Coffee Roaster   286    0  0.000000\n",
      "54                                     Cryoseismologist     3    0  0.000000\n",
      "59                                   Dendrochronologist   144    0  0.000000\n",
      "204                                        Seismologist   138    0  0.000000\n",
      "147                                          Mycologist   131    0  0.000000\n",
      "126                                         Limnologist   300    0  0.000000\n",
      "154                                         Numismatist    57    0  0.000000\n",
      "174                                         Philatelist    25    0  0.000000\n",
      "102                                       Herpetologist   157    0  0.000000\n",
      "165                                      Paleontologist   151    0  0.000000\n",
      "107                                         Hydrologist   272    0  0.000000\n",
      "162                                       Ornithologist   562    0  0.000000\n",
      "109                                         Illustrator   864    0  0.000000\n",
      "69                                         Entomologist   177    0  0.000000\n"
     ]
    }
   ],
   "source": [
    "x = pd.crosstab(kyc['Occupation'], kyc['label']).reset_index()\n",
    "x['freq'] = x[1]/(x[0]+x[1])\n",
    "\n",
    "with pd.option_context('display.max_rows', None, 'display.max_columns', None):\n",
    "    print(x.sort_values('freq', ascending=False))"
   ]
  },
  {
   "cell_type": "markdown",
   "id": "1c3eb621",
   "metadata": {},
   "source": [
    "## 3. Modeling\n",
    "### 3.1 Brute Force\n",
    "Occupations are one-hot encoded"
   ]
  },
  {
   "cell_type": "code",
   "execution_count": 11,
   "id": "4e26b952",
   "metadata": {},
   "outputs": [],
   "source": [
    "#Training Data\n",
    "train_df = pd.read_csv('../data/train/kyc_train.csv')\n",
    "Xtrain, ytrain = train_df[['Gender', 'Age', 'Occupation', 'Tenure']], train_df[['label']]\n",
    "Xtrain = pd.concat([Xtrain, pd.get_dummies(Xtrain['Gender']), pd.get_dummies(Xtrain['Occupation'])], axis=1)\n",
    "Xtrain = Xtrain.drop(['Gender', 'Occupation'], axis=1)\n",
    "\n",
    "#Validation Data\n",
    "val_df = pd.read_csv('../data/val/kyc_val.csv')\n",
    "Xval, yval = val_df[['Gender', 'Age', 'Occupation', 'Tenure']], val_df[['label']]\n",
    "Xval = pd.concat([Xval, pd.get_dummies(Xval['Gender']), pd.get_dummies(Xval['Occupation'])], axis=1)\n",
    "Xval = Xval.drop(['Gender', 'Occupation'], axis=1)\n",
    "\n",
    "#Column alignment\n",
    "#https://stackoverflow.com/questions/41335718/keep-same-dummy-variable-in-training-and-testing-data\n",
    "missing_cols = set(Xtrain.columns) - set(Xval.columns)\n",
    "for c in missing_cols:\n",
    "    Xval[c] = 0\n",
    "Xval = Xval[Xtrain.columns]"
   ]
  },
  {
   "cell_type": "code",
   "execution_count": 12,
   "id": "fee193ca",
   "metadata": {},
   "outputs": [
    {
     "data": {
      "text/html": [
       "<style>#sk-container-id-1 {color: black;}#sk-container-id-1 pre{padding: 0;}#sk-container-id-1 div.sk-toggleable {background-color: white;}#sk-container-id-1 label.sk-toggleable__label {cursor: pointer;display: block;width: 100%;margin-bottom: 0;padding: 0.3em;box-sizing: border-box;text-align: center;}#sk-container-id-1 label.sk-toggleable__label-arrow:before {content: \"▸\";float: left;margin-right: 0.25em;color: #696969;}#sk-container-id-1 label.sk-toggleable__label-arrow:hover:before {color: black;}#sk-container-id-1 div.sk-estimator:hover label.sk-toggleable__label-arrow:before {color: black;}#sk-container-id-1 div.sk-toggleable__content {max-height: 0;max-width: 0;overflow: hidden;text-align: left;background-color: #f0f8ff;}#sk-container-id-1 div.sk-toggleable__content pre {margin: 0.2em;color: black;border-radius: 0.25em;background-color: #f0f8ff;}#sk-container-id-1 input.sk-toggleable__control:checked~div.sk-toggleable__content {max-height: 200px;max-width: 100%;overflow: auto;}#sk-container-id-1 input.sk-toggleable__control:checked~label.sk-toggleable__label-arrow:before {content: \"▾\";}#sk-container-id-1 div.sk-estimator input.sk-toggleable__control:checked~label.sk-toggleable__label {background-color: #d4ebff;}#sk-container-id-1 div.sk-label input.sk-toggleable__control:checked~label.sk-toggleable__label {background-color: #d4ebff;}#sk-container-id-1 input.sk-hidden--visually {border: 0;clip: rect(1px 1px 1px 1px);clip: rect(1px, 1px, 1px, 1px);height: 1px;margin: -1px;overflow: hidden;padding: 0;position: absolute;width: 1px;}#sk-container-id-1 div.sk-estimator {font-family: monospace;background-color: #f0f8ff;border: 1px dotted black;border-radius: 0.25em;box-sizing: border-box;margin-bottom: 0.5em;}#sk-container-id-1 div.sk-estimator:hover {background-color: #d4ebff;}#sk-container-id-1 div.sk-parallel-item::after {content: \"\";width: 100%;border-bottom: 1px solid gray;flex-grow: 1;}#sk-container-id-1 div.sk-label:hover label.sk-toggleable__label {background-color: #d4ebff;}#sk-container-id-1 div.sk-serial::before {content: \"\";position: absolute;border-left: 1px solid gray;box-sizing: border-box;top: 0;bottom: 0;left: 50%;z-index: 0;}#sk-container-id-1 div.sk-serial {display: flex;flex-direction: column;align-items: center;background-color: white;padding-right: 0.2em;padding-left: 0.2em;position: relative;}#sk-container-id-1 div.sk-item {position: relative;z-index: 1;}#sk-container-id-1 div.sk-parallel {display: flex;align-items: stretch;justify-content: center;background-color: white;position: relative;}#sk-container-id-1 div.sk-item::before, #sk-container-id-1 div.sk-parallel-item::before {content: \"\";position: absolute;border-left: 1px solid gray;box-sizing: border-box;top: 0;bottom: 0;left: 50%;z-index: -1;}#sk-container-id-1 div.sk-parallel-item {display: flex;flex-direction: column;z-index: 1;position: relative;background-color: white;}#sk-container-id-1 div.sk-parallel-item:first-child::after {align-self: flex-end;width: 50%;}#sk-container-id-1 div.sk-parallel-item:last-child::after {align-self: flex-start;width: 50%;}#sk-container-id-1 div.sk-parallel-item:only-child::after {width: 0;}#sk-container-id-1 div.sk-dashed-wrapped {border: 1px dashed gray;margin: 0 0.4em 0.5em 0.4em;box-sizing: border-box;padding-bottom: 0.4em;background-color: white;}#sk-container-id-1 div.sk-label label {font-family: monospace;font-weight: bold;display: inline-block;line-height: 1.2em;}#sk-container-id-1 div.sk-label-container {text-align: center;}#sk-container-id-1 div.sk-container {/* jupyter's `normalize.less` sets `[hidden] { display: none; }` but bootstrap.min.css set `[hidden] { display: none !important; }` so we also need the `!important` here to be able to override the default hidden behavior on the sphinx rendered scikit-learn.org. See: https://github.com/scikit-learn/scikit-learn/issues/21755 */display: inline-block !important;position: relative;}#sk-container-id-1 div.sk-text-repr-fallback {display: none;}</style><div id=\"sk-container-id-1\" class=\"sk-top-container\"><div class=\"sk-text-repr-fallback\"><pre>RandomForestClassifier(max_depth=3, n_estimators=500, random_state=309)</pre><b>In a Jupyter environment, please rerun this cell to show the HTML representation or trust the notebook. <br />On GitHub, the HTML representation is unable to render, please try loading this page with nbviewer.org.</b></div><div class=\"sk-container\" hidden><div class=\"sk-item\"><div class=\"sk-estimator sk-toggleable\"><input class=\"sk-toggleable__control sk-hidden--visually\" id=\"sk-estimator-id-1\" type=\"checkbox\" checked><label for=\"sk-estimator-id-1\" class=\"sk-toggleable__label sk-toggleable__label-arrow\">RandomForestClassifier</label><div class=\"sk-toggleable__content\"><pre>RandomForestClassifier(max_depth=3, n_estimators=500, random_state=309)</pre></div></div></div></div></div>"
      ],
      "text/plain": [
       "RandomForestClassifier(max_depth=3, n_estimators=500, random_state=309)"
      ]
     },
     "execution_count": 12,
     "metadata": {},
     "output_type": "execute_result"
    }
   ],
   "source": [
    "rf_clf = RandomForestClassifier(max_depth=3, n_estimators=500, random_state=seed)\n",
    "rf_clf.fit(Xtrain, ytrain.values.ravel())"
   ]
  },
  {
   "cell_type": "code",
   "execution_count": 13,
   "id": "482716d3",
   "metadata": {},
   "outputs": [
    {
     "name": "stdout",
     "output_type": "stream",
     "text": [
      "              precision    recall  f1-score   support\n",
      "\n",
      "           0       0.97      1.00      0.99     38050\n",
      "           1       0.00      0.00      0.00      1108\n",
      "\n",
      "    accuracy                           0.97     39158\n",
      "   macro avg       0.49      0.50      0.49     39158\n",
      "weighted avg       0.94      0.97      0.96     39158\n",
      "\n"
     ]
    },
    {
     "name": "stderr",
     "output_type": "stream",
     "text": [
      "C:\\Users\\jesse\\miniconda3\\envs\\bigdata\\lib\\site-packages\\sklearn\\metrics\\_classification.py:1469: UndefinedMetricWarning:\n",
      "\n",
      "Precision and F-score are ill-defined and being set to 0.0 in labels with no predicted samples. Use `zero_division` parameter to control this behavior.\n",
      "\n",
      "C:\\Users\\jesse\\miniconda3\\envs\\bigdata\\lib\\site-packages\\sklearn\\metrics\\_classification.py:1469: UndefinedMetricWarning:\n",
      "\n",
      "Precision and F-score are ill-defined and being set to 0.0 in labels with no predicted samples. Use `zero_division` parameter to control this behavior.\n",
      "\n",
      "C:\\Users\\jesse\\miniconda3\\envs\\bigdata\\lib\\site-packages\\sklearn\\metrics\\_classification.py:1469: UndefinedMetricWarning:\n",
      "\n",
      "Precision and F-score are ill-defined and being set to 0.0 in labels with no predicted samples. Use `zero_division` parameter to control this behavior.\n",
      "\n"
     ]
    }
   ],
   "source": [
    "preds = rf_clf.predict(Xval)\n",
    "\n",
    "print(classification_report(yval, preds))"
   ]
  },
  {
   "cell_type": "code",
   "execution_count": 14,
   "id": "4d466332",
   "metadata": {},
   "outputs": [
    {
     "name": "stdout",
     "output_type": "stream",
     "text": [
      "0.8219194651726542\n"
     ]
    },
    {
     "data": {
      "text/html": [
       "<iframe\n",
       "    scrolling=\"no\"\n",
       "    width=\"520px\"\n",
       "    height=\"520\"\n",
       "    src=\"iframe_figures/figure_14.html\"\n",
       "    frameborder=\"0\"\n",
       "    allowfullscreen\n",
       "></iframe>\n"
      ]
     },
     "metadata": {},
     "output_type": "display_data"
    }
   ],
   "source": [
    "# Compute ROC curve and AUC\n",
    "probs = rf_clf.predict_proba(Xval)[:,1]\n",
    "fpr, tpr, threshold = roc_curve(yval, probs)\n",
    "roc_auc = auc(fpr, tpr)\n",
    "print(roc_auc)\n",
    "\n",
    "fig = go.Figure()\n",
    "\n",
    "fig.add_trace(\n",
    "    go.Scatter(x=fpr, y=tpr, showlegend=False)\n",
    ")\n",
    "\n",
    "fig.add_trace(\n",
    "    go.Scatter(\n",
    "        x=[0,1],\n",
    "        y=[0,1],\n",
    "        mode='lines',\n",
    "        showlegend=False,\n",
    "        line_color='#000000',\n",
    "        line_dash='dash'\n",
    "    )\n",
    ")\n",
    "\n",
    "fig.update_layout(\n",
    "    margin=dict(l=20, r=20, t=20, b=20),\n",
    "    width=500, height=500,\n",
    "    yaxis_range=[0,1],\n",
    "    xaxis_range=[0,1]\n",
    ")\n",
    "\n",
    "fig.show()"
   ]
  },
  {
   "cell_type": "markdown",
   "id": "daa1293f-d34c-420a-b59f-593a892d2fd3",
   "metadata": {},
   "source": [
    "This method predicts 0 for everything - not great. In our case false positives are more desirable than false negatives, since people can always be flagged, investigated, and then removed from the \"at risk\" list. We can try a random forest again with a much higher weight for postive (y=1) labels."
   ]
  },
  {
   "cell_type": "markdown",
   "id": "9f72bfd0-3a1e-4c0c-927a-e8919d76cf27",
   "metadata": {},
   "source": [
    "### 3.2 Weighted Random Forest"
   ]
  },
  {
   "cell_type": "code",
   "execution_count": 15,
   "id": "1cd7821a-b3e0-4544-b197-ce3e9bd4df23",
   "metadata": {},
   "outputs": [],
   "source": [
    "#Training Data\n",
    "train_df = pd.read_csv('../data/train/kyc_train.csv')\n",
    "Xtrain, ytrain = train_df[['Gender', 'Age', 'Occupation', 'Tenure']], train_df[['label']]\n",
    "Xtrain = pd.concat([Xtrain, pd.get_dummies(Xtrain['Gender']), pd.get_dummies(Xtrain['Occupation'])], axis=1)\n",
    "Xtrain = Xtrain.drop(['Gender', 'Occupation'], axis=1)\n",
    "\n",
    "#Validation Data\n",
    "val_df = pd.read_csv('../data/val/kyc_val.csv')\n",
    "Xval, yval = val_df[['Gender', 'Age', 'Occupation', 'Tenure']], val_df[['label']]\n",
    "Xval = pd.concat([Xval, pd.get_dummies(Xval['Gender']), pd.get_dummies(Xval['Occupation'])], axis=1)\n",
    "Xval = Xval.drop(['Gender', 'Occupation'], axis=1)\n",
    "\n",
    "#Column alignment\n",
    "#https://stackoverflow.com/questions/41335718/keep-same-dummy-variable-in-training-and-testing-data\n",
    "missing_cols = set(Xtrain.columns) - set(Xval.columns)\n",
    "for c in missing_cols:\n",
    "    Xval[c] = 0\n",
    "Xval = Xval[Xtrain.columns]"
   ]
  },
  {
   "cell_type": "code",
   "execution_count": 16,
   "id": "790d8056-6c3a-4084-9759-5b0c4376b4c6",
   "metadata": {},
   "outputs": [],
   "source": [
    "cweights = {1:30, 0:1}"
   ]
  },
  {
   "cell_type": "code",
   "execution_count": 17,
   "id": "5fc7adac-048f-4ab4-8f9e-eb1bf62fd6ee",
   "metadata": {},
   "outputs": [
    {
     "data": {
      "text/html": [
       "<style>#sk-container-id-2 {color: black;}#sk-container-id-2 pre{padding: 0;}#sk-container-id-2 div.sk-toggleable {background-color: white;}#sk-container-id-2 label.sk-toggleable__label {cursor: pointer;display: block;width: 100%;margin-bottom: 0;padding: 0.3em;box-sizing: border-box;text-align: center;}#sk-container-id-2 label.sk-toggleable__label-arrow:before {content: \"▸\";float: left;margin-right: 0.25em;color: #696969;}#sk-container-id-2 label.sk-toggleable__label-arrow:hover:before {color: black;}#sk-container-id-2 div.sk-estimator:hover label.sk-toggleable__label-arrow:before {color: black;}#sk-container-id-2 div.sk-toggleable__content {max-height: 0;max-width: 0;overflow: hidden;text-align: left;background-color: #f0f8ff;}#sk-container-id-2 div.sk-toggleable__content pre {margin: 0.2em;color: black;border-radius: 0.25em;background-color: #f0f8ff;}#sk-container-id-2 input.sk-toggleable__control:checked~div.sk-toggleable__content {max-height: 200px;max-width: 100%;overflow: auto;}#sk-container-id-2 input.sk-toggleable__control:checked~label.sk-toggleable__label-arrow:before {content: \"▾\";}#sk-container-id-2 div.sk-estimator input.sk-toggleable__control:checked~label.sk-toggleable__label {background-color: #d4ebff;}#sk-container-id-2 div.sk-label input.sk-toggleable__control:checked~label.sk-toggleable__label {background-color: #d4ebff;}#sk-container-id-2 input.sk-hidden--visually {border: 0;clip: rect(1px 1px 1px 1px);clip: rect(1px, 1px, 1px, 1px);height: 1px;margin: -1px;overflow: hidden;padding: 0;position: absolute;width: 1px;}#sk-container-id-2 div.sk-estimator {font-family: monospace;background-color: #f0f8ff;border: 1px dotted black;border-radius: 0.25em;box-sizing: border-box;margin-bottom: 0.5em;}#sk-container-id-2 div.sk-estimator:hover {background-color: #d4ebff;}#sk-container-id-2 div.sk-parallel-item::after {content: \"\";width: 100%;border-bottom: 1px solid gray;flex-grow: 1;}#sk-container-id-2 div.sk-label:hover label.sk-toggleable__label {background-color: #d4ebff;}#sk-container-id-2 div.sk-serial::before {content: \"\";position: absolute;border-left: 1px solid gray;box-sizing: border-box;top: 0;bottom: 0;left: 50%;z-index: 0;}#sk-container-id-2 div.sk-serial {display: flex;flex-direction: column;align-items: center;background-color: white;padding-right: 0.2em;padding-left: 0.2em;position: relative;}#sk-container-id-2 div.sk-item {position: relative;z-index: 1;}#sk-container-id-2 div.sk-parallel {display: flex;align-items: stretch;justify-content: center;background-color: white;position: relative;}#sk-container-id-2 div.sk-item::before, #sk-container-id-2 div.sk-parallel-item::before {content: \"\";position: absolute;border-left: 1px solid gray;box-sizing: border-box;top: 0;bottom: 0;left: 50%;z-index: -1;}#sk-container-id-2 div.sk-parallel-item {display: flex;flex-direction: column;z-index: 1;position: relative;background-color: white;}#sk-container-id-2 div.sk-parallel-item:first-child::after {align-self: flex-end;width: 50%;}#sk-container-id-2 div.sk-parallel-item:last-child::after {align-self: flex-start;width: 50%;}#sk-container-id-2 div.sk-parallel-item:only-child::after {width: 0;}#sk-container-id-2 div.sk-dashed-wrapped {border: 1px dashed gray;margin: 0 0.4em 0.5em 0.4em;box-sizing: border-box;padding-bottom: 0.4em;background-color: white;}#sk-container-id-2 div.sk-label label {font-family: monospace;font-weight: bold;display: inline-block;line-height: 1.2em;}#sk-container-id-2 div.sk-label-container {text-align: center;}#sk-container-id-2 div.sk-container {/* jupyter's `normalize.less` sets `[hidden] { display: none; }` but bootstrap.min.css set `[hidden] { display: none !important; }` so we also need the `!important` here to be able to override the default hidden behavior on the sphinx rendered scikit-learn.org. See: https://github.com/scikit-learn/scikit-learn/issues/21755 */display: inline-block !important;position: relative;}#sk-container-id-2 div.sk-text-repr-fallback {display: none;}</style><div id=\"sk-container-id-2\" class=\"sk-top-container\"><div class=\"sk-text-repr-fallback\"><pre>RandomForestClassifier(class_weight={0: 1, 1: 30}, max_depth=5,\n",
       "                       n_estimators=500, random_state=309)</pre><b>In a Jupyter environment, please rerun this cell to show the HTML representation or trust the notebook. <br />On GitHub, the HTML representation is unable to render, please try loading this page with nbviewer.org.</b></div><div class=\"sk-container\" hidden><div class=\"sk-item\"><div class=\"sk-estimator sk-toggleable\"><input class=\"sk-toggleable__control sk-hidden--visually\" id=\"sk-estimator-id-2\" type=\"checkbox\" checked><label for=\"sk-estimator-id-2\" class=\"sk-toggleable__label sk-toggleable__label-arrow\">RandomForestClassifier</label><div class=\"sk-toggleable__content\"><pre>RandomForestClassifier(class_weight={0: 1, 1: 30}, max_depth=5,\n",
       "                       n_estimators=500, random_state=309)</pre></div></div></div></div></div>"
      ],
      "text/plain": [
       "RandomForestClassifier(class_weight={0: 1, 1: 30}, max_depth=5,\n",
       "                       n_estimators=500, random_state=309)"
      ]
     },
     "execution_count": 17,
     "metadata": {},
     "output_type": "execute_result"
    }
   ],
   "source": [
    "rf_clf = RandomForestClassifier(max_depth=5, n_estimators=500, random_state=seed, class_weight=cweights)\n",
    "rf_clf.fit(Xtrain, ytrain.values.ravel())"
   ]
  },
  {
   "cell_type": "code",
   "execution_count": 18,
   "id": "19303851-f0ab-4af8-b213-694b3603b5d3",
   "metadata": {
    "scrolled": true
   },
   "outputs": [
    {
     "name": "stdout",
     "output_type": "stream",
     "text": [
      "              precision    recall  f1-score   support\n",
      "\n",
      "           0       0.98      0.90      0.94     38050\n",
      "           1       0.11      0.43      0.18      1108\n",
      "\n",
      "    accuracy                           0.89     39158\n",
      "   macro avg       0.55      0.66      0.56     39158\n",
      "weighted avg       0.96      0.89      0.92     39158\n",
      "\n",
      "0.106% of data positively labelled\n"
     ]
    }
   ],
   "source": [
    "preds = rf_clf.predict(Xval)\n",
    "\n",
    "print(classification_report(yval, preds))\n",
    "print(f'{sum(preds)/len(preds):.3f}% of data positively labelled')"
   ]
  },
  {
   "cell_type": "code",
   "execution_count": 19,
   "id": "acbf3cd2-ceed-49c5-b979-75f3c27db88f",
   "metadata": {},
   "outputs": [
    {
     "name": "stdout",
     "output_type": "stream",
     "text": [
      "0.7802537630990953\n"
     ]
    },
    {
     "data": {
      "text/html": [
       "<iframe\n",
       "    scrolling=\"no\"\n",
       "    width=\"520px\"\n",
       "    height=\"520\"\n",
       "    src=\"iframe_figures/figure_19.html\"\n",
       "    frameborder=\"0\"\n",
       "    allowfullscreen\n",
       "></iframe>\n"
      ]
     },
     "metadata": {},
     "output_type": "display_data"
    }
   ],
   "source": [
    "# Compute ROC curve and AUC\n",
    "probs = rf_clf.predict_proba(Xval)[:,1]\n",
    "fpr, tpr, threshold = roc_curve(yval, probs)\n",
    "roc_auc = auc(fpr, tpr)\n",
    "print(roc_auc)\n",
    "\n",
    "fig = go.Figure()\n",
    "\n",
    "fig.add_trace(\n",
    "    go.Scatter(x=fpr, y=tpr, showlegend=False)\n",
    ")\n",
    "\n",
    "fig.add_trace(\n",
    "    go.Scatter(\n",
    "        x=[0,1],\n",
    "        y=[0,1],\n",
    "        mode='lines',\n",
    "        showlegend=False,\n",
    "        line_color='#000000',\n",
    "        line_dash='dash'\n",
    "    )\n",
    ")\n",
    "\n",
    "fig.update_layout(\n",
    "    margin=dict(l=20, r=20, t=20, b=20),\n",
    "    width=500, height=500,\n",
    "    yaxis_range=[0,1],\n",
    "    xaxis_range=[0,1]\n",
    ")\n",
    "\n",
    "fig.show()"
   ]
  },
  {
   "cell_type": "markdown",
   "id": "8f9e4e33-44e7-4f8f-b574-9474d5109cd6",
   "metadata": {},
   "source": [
    "#### 3.2.1 Tuning"
   ]
  },
  {
   "cell_type": "code",
   "execution_count": 20,
   "id": "8aa6c490-0508-4a3f-b95c-a93c43d17bbb",
   "metadata": {},
   "outputs": [
    {
     "name": "stderr",
     "output_type": "stream",
     "text": [
      "C:\\Users\\jesse\\miniconda3\\envs\\bigdata\\lib\\site-packages\\sklearn\\metrics\\_classification.py:1469: UndefinedMetricWarning:\n",
      "\n",
      "Precision and F-score are ill-defined and being set to 0.0 in labels with no predicted samples. Use `zero_division` parameter to control this behavior.\n",
      "\n",
      "C:\\Users\\jesse\\miniconda3\\envs\\bigdata\\lib\\site-packages\\sklearn\\metrics\\_classification.py:1469: UndefinedMetricWarning:\n",
      "\n",
      "Precision and F-score are ill-defined and being set to 0.0 in labels with no predicted samples. Use `zero_division` parameter to control this behavior.\n",
      "\n",
      "C:\\Users\\jesse\\miniconda3\\envs\\bigdata\\lib\\site-packages\\sklearn\\metrics\\_classification.py:1469: UndefinedMetricWarning:\n",
      "\n",
      "Precision and F-score are ill-defined and being set to 0.0 in labels with no predicted samples. Use `zero_division` parameter to control this behavior.\n",
      "\n",
      "C:\\Users\\jesse\\miniconda3\\envs\\bigdata\\lib\\site-packages\\sklearn\\metrics\\_classification.py:1469: UndefinedMetricWarning:\n",
      "\n",
      "Precision and F-score are ill-defined and being set to 0.0 in labels with no predicted samples. Use `zero_division` parameter to control this behavior.\n",
      "\n",
      "C:\\Users\\jesse\\miniconda3\\envs\\bigdata\\lib\\site-packages\\sklearn\\metrics\\_classification.py:1469: UndefinedMetricWarning:\n",
      "\n",
      "Precision and F-score are ill-defined and being set to 0.0 in labels with no predicted samples. Use `zero_division` parameter to control this behavior.\n",
      "\n",
      "C:\\Users\\jesse\\miniconda3\\envs\\bigdata\\lib\\site-packages\\sklearn\\metrics\\_classification.py:1469: UndefinedMetricWarning:\n",
      "\n",
      "Precision and F-score are ill-defined and being set to 0.0 in labels with no predicted samples. Use `zero_division` parameter to control this behavior.\n",
      "\n",
      "C:\\Users\\jesse\\miniconda3\\envs\\bigdata\\lib\\site-packages\\sklearn\\metrics\\_classification.py:1469: UndefinedMetricWarning:\n",
      "\n",
      "Precision and F-score are ill-defined and being set to 0.0 in labels with no predicted samples. Use `zero_division` parameter to control this behavior.\n",
      "\n",
      "C:\\Users\\jesse\\miniconda3\\envs\\bigdata\\lib\\site-packages\\sklearn\\metrics\\_classification.py:1469: UndefinedMetricWarning:\n",
      "\n",
      "Precision and F-score are ill-defined and being set to 0.0 in labels with no predicted samples. Use `zero_division` parameter to control this behavior.\n",
      "\n",
      "C:\\Users\\jesse\\miniconda3\\envs\\bigdata\\lib\\site-packages\\sklearn\\metrics\\_classification.py:1469: UndefinedMetricWarning:\n",
      "\n",
      "Precision and F-score are ill-defined and being set to 0.0 in labels with no predicted samples. Use `zero_division` parameter to control this behavior.\n",
      "\n"
     ]
    }
   ],
   "source": [
    "pos_weights = [5, 10, 20, 40, 80]\n",
    "\n",
    "pos_pres = []\n",
    "pos_rec = []\n",
    "neg_pres = []\n",
    "neg_rec  = []\n",
    "\n",
    "for w in pos_weights:\n",
    "    cweights={1:w, 0:1}\n",
    "    rf_clf = RandomForestClassifier(max_depth=5, n_estimators=500, random_state=seed, class_weight=cweights)\n",
    "    rf_clf.fit(Xtrain, ytrain.values.ravel())\n",
    "    preds = rf_clf.predict(Xval)\n",
    "\n",
    "    outputs = classification_report(yval, preds, output_dict=True)\n",
    "    pos_pres.append(outputs['1']['precision'])\n",
    "    pos_rec.append(outputs['1']['recall'])\n",
    "    neg_pres.append(outputs['0']['precision'])\n",
    "    neg_rec.append(outputs['0']['recall'])"
   ]
  },
  {
   "cell_type": "code",
   "execution_count": 21,
   "id": "3a14a148-cdb8-4f69-abf8-263536ba929a",
   "metadata": {},
   "outputs": [
    {
     "data": {
      "text/html": [
       "<iframe\n",
       "    scrolling=\"no\"\n",
       "    width=\"100%\"\n",
       "    height=\"520\"\n",
       "    src=\"iframe_figures/figure_21.html\"\n",
       "    frameborder=\"0\"\n",
       "    allowfullscreen\n",
       "></iframe>\n"
      ]
     },
     "metadata": {},
     "output_type": "display_data"
    }
   ],
   "source": [
    "b = px.colors.qualitative.Set1\n",
    "d = px.colors.qualitative.Pastel1\n",
    "\n",
    "fig = go.Figure()\n",
    "\n",
    "fig.add_trace(\n",
    "    go.Scatter(\n",
    "        x=pos_weights,\n",
    "        y=pos_rec,\n",
    "        name='1 Recall',\n",
    "        mode='lines',\n",
    "        line_color=b[0]\n",
    "))\n",
    "\n",
    "fig.add_trace(\n",
    "    go.Scatter(\n",
    "        x=pos_weights,\n",
    "        y=pos_pres,\n",
    "        name='1 Precision',\n",
    "        mode='lines',\n",
    "        line_color= d[0]\n",
    "))\n",
    "\n",
    "\n",
    "fig.add_trace(\n",
    "    go.Scatter(\n",
    "        x=pos_weights,\n",
    "        y=neg_rec,\n",
    "        name='0 Recall',\n",
    "        mode='lines',\n",
    "        line_color=b[1]\n",
    "))\n",
    "\n",
    "fig.add_trace(\n",
    "    go.Scatter(\n",
    "        x=pos_weights,\n",
    "        y=neg_pres,\n",
    "        name='0 Precision',\n",
    "        mode='lines',\n",
    "        line_color=d[1]\n",
    "))\n",
    "\n",
    "\n",
    "\n",
    "fig.update_layout(\n",
    "    margin=dict(l=20, r=20, t=20, b=20),\n",
    "    height=500,\n",
    "    yaxis_range=[-0.01,1.1],\n",
    "    xaxis_title='Positive Class Weight'\n",
    ")\n",
    "\n",
    "fig.show()"
   ]
  },
  {
   "cell_type": "markdown",
   "id": "0a22fc79",
   "metadata": {},
   "source": [
    "### 3.3 Weighted Random Forest with Occupation Target Mean Encoding"
   ]
  },
  {
   "cell_type": "code",
   "execution_count": 32,
   "id": "90c85818",
   "metadata": {},
   "outputs": [],
   "source": [
    "#Training Data\n",
    "train_df = pd.read_csv('../data/train/kyc_train.csv')\n",
    "Xtrain, ytrain = train_df[['Gender', 'Age', 'Occupation', 'Tenure']], train_df[['label']]\n",
    "Xtrain = pd.concat([Xtrain, pd.get_dummies(Xtrain['Gender'])], axis=1)\n",
    "Xtrain = Xtrain.drop(['Gender'], axis=1)\n",
    "\n",
    "#Validation Data\n",
    "val_df = pd.read_csv('../data/val/kyc_val.csv')\n",
    "Xval, yval = val_df[['Gender', 'Age', 'Occupation', 'Tenure']], val_df[['label']]\n",
    "Xval = pd.concat([Xval, pd.get_dummies(Xval['Gender'])], axis=1)\n",
    "Xval = Xval.drop(['Gender'], axis=1)\n",
    "\n",
    "\n",
    "#Column alignment\n",
    "#https://stackoverflow.com/questions/41335718/keep-same-dummy-variable-in-training-and-testing-data\n",
    "missing_cols = set(Xtrain.columns) - set(Xval.columns)\n",
    "for c in missing_cols:\n",
    "    Xval[c] = 0\n",
    "Xval = Xval[Xtrain.columns]"
   ]
  },
  {
   "cell_type": "code",
   "execution_count": 34,
   "id": "65b7b6c8",
   "metadata": {},
   "outputs": [],
   "source": [
    "# set up the encoder\n",
    "encoder = TargetEncoder(cols=['Occupation'])\n",
    "\n",
    "# fit the encoder - finds the mean target value per category\n",
    "encoder.fit(Xtrain, ytrain)\n",
    "\n",
    "# transform data\n",
    "Xtrain_enc = encoder.transform(Xtrain)\n",
    "Xval_enc = encoder.transform(Xval)"
   ]
  },
  {
   "cell_type": "code",
   "execution_count": 55,
   "id": "04207a39",
   "metadata": {},
   "outputs": [],
   "source": [
    "cweights = {1:22, 0:1}"
   ]
  },
  {
   "cell_type": "code",
   "execution_count": 56,
   "id": "825527d7",
   "metadata": {},
   "outputs": [
    {
     "data": {
      "text/html": [
       "<style>#sk-container-id-7 {color: black;}#sk-container-id-7 pre{padding: 0;}#sk-container-id-7 div.sk-toggleable {background-color: white;}#sk-container-id-7 label.sk-toggleable__label {cursor: pointer;display: block;width: 100%;margin-bottom: 0;padding: 0.3em;box-sizing: border-box;text-align: center;}#sk-container-id-7 label.sk-toggleable__label-arrow:before {content: \"▸\";float: left;margin-right: 0.25em;color: #696969;}#sk-container-id-7 label.sk-toggleable__label-arrow:hover:before {color: black;}#sk-container-id-7 div.sk-estimator:hover label.sk-toggleable__label-arrow:before {color: black;}#sk-container-id-7 div.sk-toggleable__content {max-height: 0;max-width: 0;overflow: hidden;text-align: left;background-color: #f0f8ff;}#sk-container-id-7 div.sk-toggleable__content pre {margin: 0.2em;color: black;border-radius: 0.25em;background-color: #f0f8ff;}#sk-container-id-7 input.sk-toggleable__control:checked~div.sk-toggleable__content {max-height: 200px;max-width: 100%;overflow: auto;}#sk-container-id-7 input.sk-toggleable__control:checked~label.sk-toggleable__label-arrow:before {content: \"▾\";}#sk-container-id-7 div.sk-estimator input.sk-toggleable__control:checked~label.sk-toggleable__label {background-color: #d4ebff;}#sk-container-id-7 div.sk-label input.sk-toggleable__control:checked~label.sk-toggleable__label {background-color: #d4ebff;}#sk-container-id-7 input.sk-hidden--visually {border: 0;clip: rect(1px 1px 1px 1px);clip: rect(1px, 1px, 1px, 1px);height: 1px;margin: -1px;overflow: hidden;padding: 0;position: absolute;width: 1px;}#sk-container-id-7 div.sk-estimator {font-family: monospace;background-color: #f0f8ff;border: 1px dotted black;border-radius: 0.25em;box-sizing: border-box;margin-bottom: 0.5em;}#sk-container-id-7 div.sk-estimator:hover {background-color: #d4ebff;}#sk-container-id-7 div.sk-parallel-item::after {content: \"\";width: 100%;border-bottom: 1px solid gray;flex-grow: 1;}#sk-container-id-7 div.sk-label:hover label.sk-toggleable__label {background-color: #d4ebff;}#sk-container-id-7 div.sk-serial::before {content: \"\";position: absolute;border-left: 1px solid gray;box-sizing: border-box;top: 0;bottom: 0;left: 50%;z-index: 0;}#sk-container-id-7 div.sk-serial {display: flex;flex-direction: column;align-items: center;background-color: white;padding-right: 0.2em;padding-left: 0.2em;position: relative;}#sk-container-id-7 div.sk-item {position: relative;z-index: 1;}#sk-container-id-7 div.sk-parallel {display: flex;align-items: stretch;justify-content: center;background-color: white;position: relative;}#sk-container-id-7 div.sk-item::before, #sk-container-id-7 div.sk-parallel-item::before {content: \"\";position: absolute;border-left: 1px solid gray;box-sizing: border-box;top: 0;bottom: 0;left: 50%;z-index: -1;}#sk-container-id-7 div.sk-parallel-item {display: flex;flex-direction: column;z-index: 1;position: relative;background-color: white;}#sk-container-id-7 div.sk-parallel-item:first-child::after {align-self: flex-end;width: 50%;}#sk-container-id-7 div.sk-parallel-item:last-child::after {align-self: flex-start;width: 50%;}#sk-container-id-7 div.sk-parallel-item:only-child::after {width: 0;}#sk-container-id-7 div.sk-dashed-wrapped {border: 1px dashed gray;margin: 0 0.4em 0.5em 0.4em;box-sizing: border-box;padding-bottom: 0.4em;background-color: white;}#sk-container-id-7 div.sk-label label {font-family: monospace;font-weight: bold;display: inline-block;line-height: 1.2em;}#sk-container-id-7 div.sk-label-container {text-align: center;}#sk-container-id-7 div.sk-container {/* jupyter's `normalize.less` sets `[hidden] { display: none; }` but bootstrap.min.css set `[hidden] { display: none !important; }` so we also need the `!important` here to be able to override the default hidden behavior on the sphinx rendered scikit-learn.org. See: https://github.com/scikit-learn/scikit-learn/issues/21755 */display: inline-block !important;position: relative;}#sk-container-id-7 div.sk-text-repr-fallback {display: none;}</style><div id=\"sk-container-id-7\" class=\"sk-top-container\"><div class=\"sk-text-repr-fallback\"><pre>RandomForestClassifier(class_weight={0: 1, 1: 22}, max_depth=3,\n",
       "                       n_estimators=500, random_state=309)</pre><b>In a Jupyter environment, please rerun this cell to show the HTML representation or trust the notebook. <br />On GitHub, the HTML representation is unable to render, please try loading this page with nbviewer.org.</b></div><div class=\"sk-container\" hidden><div class=\"sk-item\"><div class=\"sk-estimator sk-toggleable\"><input class=\"sk-toggleable__control sk-hidden--visually\" id=\"sk-estimator-id-7\" type=\"checkbox\" checked><label for=\"sk-estimator-id-7\" class=\"sk-toggleable__label sk-toggleable__label-arrow\">RandomForestClassifier</label><div class=\"sk-toggleable__content\"><pre>RandomForestClassifier(class_weight={0: 1, 1: 22}, max_depth=3,\n",
       "                       n_estimators=500, random_state=309)</pre></div></div></div></div></div>"
      ],
      "text/plain": [
       "RandomForestClassifier(class_weight={0: 1, 1: 22}, max_depth=3,\n",
       "                       n_estimators=500, random_state=309)"
      ]
     },
     "execution_count": 56,
     "metadata": {},
     "output_type": "execute_result"
    }
   ],
   "source": [
    "rf_clf = RandomForestClassifier(max_depth=3, n_estimators=500, random_state=seed, class_weight=cweights)\n",
    "rf_clf.fit(Xtrain_enc, ytrain.values.ravel())"
   ]
  },
  {
   "cell_type": "code",
   "execution_count": 57,
   "id": "f09f71e3",
   "metadata": {},
   "outputs": [
    {
     "name": "stdout",
     "output_type": "stream",
     "text": [
      "              precision    recall  f1-score   support\n",
      "\n",
      "           0       0.99      0.85      0.91     38050\n",
      "           1       0.13      0.75      0.22      1108\n",
      "\n",
      "    accuracy                           0.85     39158\n",
      "   macro avg       0.56      0.80      0.56     39158\n",
      "weighted avg       0.97      0.85      0.89     39158\n",
      "\n",
      "0.169% of data positively labelled\n"
     ]
    }
   ],
   "source": [
    "preds = rf_clf.predict(Xval_enc)\n",
    "\n",
    "print(classification_report(yval, preds))\n",
    "print(f'{sum(preds)/len(preds):.3f}% of data positively labelled')"
   ]
  },
  {
   "cell_type": "code",
   "execution_count": 59,
   "id": "54df098e",
   "metadata": {},
   "outputs": [
    {
     "name": "stdout",
     "output_type": "stream",
     "text": [
      "0.8728315156287803\n"
     ]
    },
    {
     "data": {
      "text/html": [
       "<iframe\n",
       "    scrolling=\"no\"\n",
       "    width=\"520px\"\n",
       "    height=\"520\"\n",
       "    src=\"iframe_figures/figure_59.html\"\n",
       "    frameborder=\"0\"\n",
       "    allowfullscreen\n",
       "></iframe>\n"
      ]
     },
     "metadata": {},
     "output_type": "display_data"
    }
   ],
   "source": [
    "# Compute ROC curve and AUC\n",
    "probs = rf_clf.predict_proba(Xval_enc)[:,1]\n",
    "fpr, tpr, threshold = roc_curve(yval, probs)\n",
    "roc_auc = auc(fpr, tpr)\n",
    "print(roc_auc)\n",
    "\n",
    "fig = go.Figure()\n",
    "\n",
    "fig.add_trace(\n",
    "    go.Scatter(x=fpr, y=tpr, showlegend=False)\n",
    ")\n",
    "\n",
    "fig.add_trace(\n",
    "    go.Scatter(\n",
    "        x=[0,1],\n",
    "        y=[0,1],\n",
    "        mode='lines',\n",
    "        showlegend=False,\n",
    "        line_color='#000000',\n",
    "        line_dash='dash'\n",
    "    )\n",
    ")\n",
    "\n",
    "fig.update_layout(\n",
    "    margin=dict(l=20, r=20, t=20, b=20),\n",
    "    width=500, height=500,\n",
    "    yaxis_range=[0,1],\n",
    "    xaxis_range=[0,1]\n",
    ")\n",
    "\n",
    "fig.show()"
   ]
  },
  {
   "cell_type": "markdown",
   "id": "a3f001c8",
   "metadata": {},
   "source": [
    "## 3.4 XGboost with Occupation Target Mean Encoding"
   ]
  },
  {
   "cell_type": "code",
   "execution_count": 156,
   "id": "45baee42",
   "metadata": {},
   "outputs": [],
   "source": [
    "#Training Data\n",
    "train_df = pd.read_csv('../data/train/kyc_train.csv')\n",
    "Xtrain, ytrain = train_df[['Gender', 'Age', 'Occupation', 'Tenure']], train_df[['label']]\n",
    "Xtrain = pd.concat([Xtrain, pd.get_dummies(Xtrain['Gender'])], axis=1)\n",
    "Xtrain = Xtrain.drop(['Gender'], axis=1)\n",
    "\n",
    "#Validation Data\n",
    "val_df = pd.read_csv('../data/val/kyc_val.csv')\n",
    "Xval, yval = val_df[['Gender', 'Age', 'Occupation', 'Tenure']], val_df[['label']]\n",
    "Xval = pd.concat([Xval, pd.get_dummies(Xval['Gender'])], axis=1)\n",
    "Xval = Xval.drop(['Gender'], axis=1)\n",
    "\n",
    "\n",
    "#Column alignment\n",
    "#https://stackoverflow.com/questions/41335718/keep-same-dummy-variable-in-training-and-testing-data\n",
    "missing_cols = set(Xtrain.columns) - set(Xval.columns)\n",
    "for c in missing_cols:\n",
    "    Xval[c] = 0\n",
    "Xval = Xval[Xtrain.columns]"
   ]
  },
  {
   "cell_type": "code",
   "execution_count": 157,
   "id": "58cda047",
   "metadata": {},
   "outputs": [],
   "source": [
    "# set up the encoder\n",
    "encoder = TargetEncoder(cols=['Occupation'])\n",
    "\n",
    "# fit the encoder - finds the mean target value per category\n",
    "encoder.fit(Xtrain, ytrain)\n",
    "\n",
    "# transform data\n",
    "Xtrain_enc = encoder.transform(Xtrain)\n",
    "Xval_enc = encoder.transform(Xval)"
   ]
  },
  {
   "cell_type": "code",
   "execution_count": 159,
   "id": "0abbe26b",
   "metadata": {},
   "outputs": [],
   "source": [
    "# Create DMatrix for XGBoost\n",
    "dtrain = xgb.DMatrix(Xtrain_enc, label=ytrain)\n",
    "dval = xgb.DMatrix(Xval_enc, label=yval)\n",
    "\n",
    "# Define parameters (can be tuned)\n",
    "params = {\n",
    "    'max_depth': 3,\n",
    "    'eta': 0.1,\n",
    "    'objective': 'binary:logistic',\n",
    "    'eval_metric': 'logloss',\n",
    "    'scale_pos_weight': float(sum(ytrain.values==0) / sum(ytrain.values==1))\n",
    "}\n",
    "\n",
    "# Train the model\n",
    "num_rounds = 1000\n",
    "bst = xgb.train(params, dtrain, num_rounds)"
   ]
  },
  {
   "cell_type": "code",
   "execution_count": 160,
   "id": "92f256ef",
   "metadata": {},
   "outputs": [
    {
     "name": "stdout",
     "output_type": "stream",
     "text": [
      "              precision    recall  f1-score   support\n",
      "\n",
      "           0       0.99      0.81      0.89     38050\n",
      "           1       0.11      0.80      0.19      1108\n",
      "\n",
      "    accuracy                           0.81     39158\n",
      "   macro avg       0.55      0.80      0.54     39158\n",
      "weighted avg       0.97      0.81      0.87     39158\n",
      "\n",
      "0.211% of data positively labelled\n",
      "\n",
      "roc: 0.873\n"
     ]
    }
   ],
   "source": [
    "xgb_preds = [round(x) for x in bst.predict(dval)]\n",
    "\n",
    "# Classification report\n",
    "print(classification_report(yval, xgb_preds))\n",
    "\n",
    "# How much data was positively labeled\n",
    "print(f'{sum(xgb_preds)/len(preds):.3f}% of data positively labelled')\n",
    "\n",
    "# Compute ROC curve and AUC\n",
    "probs = rf_clf.predict_proba(Xval_enc)[:,1]\n",
    "fpr, tpr, threshold = roc_curve(yval, probs)\n",
    "roc_auc = auc(fpr, tpr)\n",
    "print(f'\\nroc: {roc_auc:.3f}')"
   ]
  },
  {
   "cell_type": "code",
   "execution_count": 162,
   "id": "bc1f8de5",
   "metadata": {},
   "outputs": [
    {
     "data": {
      "text/plain": [
       "<Axes: title={'center': 'Feature importance'}, xlabel='F score', ylabel='Features'>"
      ]
     },
     "execution_count": 162,
     "metadata": {},
     "output_type": "execute_result"
    },
    {
     "data": {
      "image/png": "[encoded data removed]",
      "text/plain": [
       "<Figure size 640x480 with 1 Axes>"
      ]
     },
     "metadata": {},
     "output_type": "display_data"
    }
   ],
   "source": [
    "from matplotlib import pyplot as plt\n",
    "from xgboost import plot_importance\n",
    "plot_importance(bst)"
   ]
  },
  {
   "cell_type": "markdown",
   "id": "3eac069d",
   "metadata": {},
   "source": [
    "#### 3.4.1 Tuning"
   ]
  },
  {
   "cell_type": "code",
   "execution_count": 142,
   "id": "d95aae87",
   "metadata": {},
   "outputs": [],
   "source": [
    "depths = [2, 3, 4, 5, 6, 7, 8, 9 ,10]\n",
    "\n",
    "pos_pres = []\n",
    "pos_rec = []\n",
    "neg_pres = []\n",
    "neg_rec  = []\n",
    "pos_lab = []\n",
    "\n",
    "\n",
    "for d in depths: \n",
    "    # Define parameters (can be tuned)\n",
    "    params = {\n",
    "        'max_depth': d,\n",
    "        'eta': 0.1,\n",
    "        'objective': 'binary:logistic',\n",
    "        'eval_metric': 'logloss',\n",
    "        'scale_pos_weight': float(sum(ytrain.values==0) / sum(ytrain.values==1))\n",
    "    }\n",
    "    \n",
    "\n",
    "    # Train the model\n",
    "    num_rounds = 500\n",
    "    bst = xgb.train(params, dtrain, num_rounds)\n",
    "    \n",
    "    xgb_preds = [round(x) for x in bst.predict(dval)]\n",
    "\n",
    "    outputs = classification_report(yval, xgb_preds, output_dict=True)\n",
    "    pos_pres.append(outputs['1']['precision'])\n",
    "    pos_rec.append(outputs['1']['recall'])\n",
    "    neg_pres.append(outputs['0']['precision'])\n",
    "    neg_rec.append(outputs['0']['recall'])\n",
    "    pos_lab.append(sum(xgb_preds)/len(xgb_preds)*100)"
   ]
  },
  {
   "cell_type": "code",
   "execution_count": 144,
   "id": "0989c467",
   "metadata": {},
   "outputs": [
    {
     "data": {
      "text/html": [
       "<iframe\n",
       "    scrolling=\"no\"\n",
       "    width=\"100%\"\n",
       "    height=\"520\"\n",
       "    src=\"iframe_figures/figure_144.html\"\n",
       "    frameborder=\"0\"\n",
       "    allowfullscreen\n",
       "></iframe>\n"
      ]
     },
     "metadata": {},
     "output_type": "display_data"
    }
   ],
   "source": [
    "b = px.colors.qualitative.Set1\n",
    "d = px.colors.qualitative.Pastel1\n",
    "\n",
    "fig = make_subplots(specs=[[{\"secondary_y\": True}]])\n",
    "\n",
    "fig.add_trace(\n",
    "    go.Scatter(\n",
    "        x=depths,\n",
    "        y=pos_rec,\n",
    "        name='1 Recall',\n",
    "        mode='lines',\n",
    "        line_color=b[0]\n",
    "))\n",
    "\n",
    "fig.add_trace(\n",
    "    go.Scatter(\n",
    "        x=depths,\n",
    "        y=pos_pres,\n",
    "        name='1 Precision',\n",
    "        mode='lines',\n",
    "        line_color= d[0]\n",
    "))\n",
    "\n",
    "\n",
    "fig.add_trace(\n",
    "    go.Scatter(\n",
    "        x=depths,\n",
    "        y=neg_rec,\n",
    "        name='0 Recall',\n",
    "        mode='lines',\n",
    "        line_color=b[1]\n",
    "))\n",
    "\n",
    "fig.add_trace(\n",
    "    go.Scatter(\n",
    "        x=depths,\n",
    "        y=neg_pres,\n",
    "        name='0 Precision',\n",
    "        mode='lines',\n",
    "        line_color=d[1]\n",
    "))\n",
    "\n",
    "\n",
    "\n",
    "fig.update_layout(\n",
    "    margin=dict(l=20, r=20, t=20, b=20),\n",
    "    height=500,\n",
    "    yaxis_range=[-0.01,1.1],\n",
    "    xaxis_title='Tree Depth'\n",
    ")\n",
    "\n",
    "fig.add_trace(\n",
    "    go.Scatter(\n",
    "        x=depths,\n",
    "        y=pos_lab,\n",
    "        name='% Positively Labelled',\n",
    "        mode='lines',\n",
    "        line_color='#000000',\n",
    "        line_dash='dash'\n",
    "        \n",
    "), secondary_y=True)\n",
    "\n",
    "\n",
    "fig.update_layout(\n",
    "    margin=dict(l=20, r=20, t=20, b=20),\n",
    "    height=500,\n",
    "    yaxis_range=[0,1],\n",
    "    yaxis2_range=[0,50],\n",
    "    yaxis2_title='% Positively Labelled',\n",
    "    xaxis_title='Depth'\n",
    ")\n",
    "\n",
    "fig.show()"
   ]
  },
  {
   "cell_type": "code",
   "execution_count": 154,
   "id": "84394c9c",
   "metadata": {},
   "outputs": [],
   "source": [
    "weights = list(range(10, 50, 5))\n",
    "\n",
    "pos_pres = []\n",
    "pos_rec = []\n",
    "neg_pres = []\n",
    "neg_rec  = []\n",
    "pos_lab = []\n",
    "\n",
    "for w in weights: \n",
    "    # Define parameters (can be tuned)\n",
    "    params = {\n",
    "        'max_depth': 1,\n",
    "        'eta': 0.1,\n",
    "        'objective': 'binary:logistic',\n",
    "        'eval_metric': 'logloss',\n",
    "        'scale_pos_weight': w\n",
    "    }\n",
    "    \n",
    "\n",
    "    # Train the model\n",
    "    num_rounds = 1000\n",
    "    bst = xgb.train(params, dtrain, num_rounds)\n",
    "    \n",
    "    xgb_preds = [round(x) for x in bst.predict(dval)]\n",
    "\n",
    "    outputs = classification_report(yval, xgb_preds, output_dict=True)\n",
    "    pos_pres.append(outputs['1']['precision'])\n",
    "    pos_rec.append(outputs['1']['recall'])\n",
    "    neg_pres.append(outputs['0']['precision'])\n",
    "    neg_rec.append(outputs['0']['recall'])\n",
    "    pos_lab.append(sum(xgb_preds)/len(xgb_preds)*100)"
   ]
  },
  {
   "cell_type": "code",
   "execution_count": 155,
   "id": "3692aab5",
   "metadata": {},
   "outputs": [
    {
     "data": {
      "text/html": [
       "<iframe\n",
       "    scrolling=\"no\"\n",
       "    width=\"100%\"\n",
       "    height=\"520\"\n",
       "    src=\"iframe_figures/figure_155.html\"\n",
       "    frameborder=\"0\"\n",
       "    allowfullscreen\n",
       "></iframe>\n"
      ]
     },
     "metadata": {},
     "output_type": "display_data"
    }
   ],
   "source": [
    "b = px.colors.qualitative.Set1\n",
    "d = px.colors.qualitative.Pastel1\n",
    "\n",
    "fig = make_subplots(specs=[[{\"secondary_y\": True}]])\n",
    "\n",
    "fig.add_trace(\n",
    "    go.Scatter(\n",
    "        x=weights,\n",
    "        y=pos_rec,\n",
    "        name='1 Recall',\n",
    "        mode='lines',\n",
    "        line_color=b[0]\n",
    "))\n",
    "\n",
    "fig.add_trace(\n",
    "    go.Scatter(\n",
    "        x=weights,\n",
    "        y=pos_pres,\n",
    "        name='1 Precision',\n",
    "        mode='lines',\n",
    "        line_color= d[0]\n",
    "))\n",
    "\n",
    "\n",
    "fig.add_trace(\n",
    "    go.Scatter(\n",
    "        x=weights,\n",
    "        y=neg_rec,\n",
    "        name='0 Recall',\n",
    "        mode='lines',\n",
    "        line_color=b[1]\n",
    "))\n",
    "\n",
    "fig.add_trace(\n",
    "    go.Scatter(\n",
    "        x=weights,\n",
    "        y=neg_pres,\n",
    "        name='0 Precision',\n",
    "        mode='lines',\n",
    "        line_color=d[1]\n",
    "))\n",
    "\n",
    "\n",
    "fig.add_trace(\n",
    "    go.Scatter(\n",
    "        x=weights,\n",
    "        y=pos_lab,\n",
    "        name='% Positively Labelled',\n",
    "        mode='lines',\n",
    "        line_color='#000000',\n",
    "        line_dash='dash'\n",
    "        \n",
    "), secondary_y=True)\n",
    "\n",
    "\n",
    "fig.update_layout(\n",
    "    margin=dict(l=20, r=20, t=20, b=20),\n",
    "    height=500,\n",
    "    yaxis_range=[0,1],\n",
    "    yaxis2_range=[0,50],\n",
    "    yaxis2_title='% Positively Labelled',\n",
    "    xaxis_title='Weights'\n",
    ")\n",
    "\n",
    "fig.show()"
   ]
  },
  {
   "cell_type": "code",
   "execution_count": null,
   "id": "d194550d",
   "metadata": {},
   "outputs": [],
   "source": []
  }
 ],
 "metadata": {
  "kernelspec": {
   "display_name": "Python [conda env:bigdata]",
   "language": "python",
   "name": "conda-env-bigdata-py"
  },
  "language_info": {
   "codemirror_mode": {
    "name": "ipython",
    "version": 3
   },
   "file_extension": ".py",
   "mimetype": "text/x-python",
   "name": "python",
   "nbconvert_exporter": "python",
   "pygments_lexer": "ipython3",
   "version": "3.10.13"
  }
 },
 "nbformat": 4,
 "nbformat_minor": 5
}
