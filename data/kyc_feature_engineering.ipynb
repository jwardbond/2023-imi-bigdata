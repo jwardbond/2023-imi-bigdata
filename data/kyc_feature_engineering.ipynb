{
 "cells": [
  {
   "cell_type": "code",
   "execution_count": null,
   "id": "21a2c17c",
   "metadata": {},
   "outputs": [],
   "source": [
    "import pandas as pd\n",
    "import numpy as np\n",
    "import csv"
   ]
  },
  {
   "cell_type": "markdown",
   "id": "975a8bc9",
   "metadata": {},
   "source": [
    "# KYC Feature Engineering"
   ]
  },
  {
   "cell_type": "markdown",
   "id": "2ca1ba42",
   "metadata": {},
   "source": [
    "The purpose of this notebook is to add wildlife trafficking indicators to the KYC data. Each of the indicators takes on a value $[0,1]$. These flags only depend on the characteristics of neighbours within 1-hop of the node. "
   ]
  },
  {
   "cell_type": "markdown",
   "id": "1a0d91bb",
   "metadata": {},
   "source": [
    "## Profile-Based Indicators\n",
    "Per the [Fintrac Operational Alert](https://fintrac-canafe.canada.ca/intel/operation/oai-wildlife-eng), one indicator is \"An individual is the owner, operator, employee or associated with an industry that could be used to facilitate illegal wildlife trade (e.g., import/export of goods, fisheries wholesaler, pet store, freight company, animal control).\" (**G**)\n",
    "\n",
    "The [Financial Crime Academy](https://financialcrimeacademy.org/wildlife-trade-risk-indicators-financial/?fbclid=IwAR1XSw09Vtl4mjOOQj_eTFuqZ_GKqM-SPsCJwQKcyFb-XWU4O6nO8zBo3JU) adds that another \"indicator relates to activity involving politically exposed persons and wealthy businessmen/women, particularly those with environmental, game, or forestry oversight or environmental or wildlife-related businesses.\" (**G**)\n",
    "\n",
    "We have therefore come up with the following indicators based on KYC occupation data:\n",
    "- `wealth_exp` \n",
    "    - binary \n",
    "    - 1 if the client's occupation involves frequent exposure to wealthy people, 0 otherwise.\n",
    "- `animal` \n",
    "    - binary \n",
    "    - 1 if the client's occupation involves working with animals, 0 otherwise.\n",
    "- `int_trade` \n",
    "    - binary \n",
    "    - 1 if the client works international trade, 0 otherwise."
   ]
  },
  {
   "cell_type": "code",
   "execution_count": 35,
   "id": "bdb08e8b",
   "metadata": {},
   "outputs": [
    {
     "data": {
      "text/html": [
       "<div>\n",
       "<style scoped>\n",
       "    .dataframe tbody tr th:only-of-type {\n",
       "        vertical-align: middle;\n",
       "    }\n",
       "\n",
       "    .dataframe tbody tr th {\n",
       "        vertical-align: top;\n",
       "    }\n",
       "\n",
       "    .dataframe thead th {\n",
       "        text-align: right;\n",
       "    }\n",
       "</style>\n",
       "<table border=\"1\" class=\"dataframe\">\n",
       "  <thead>\n",
       "    <tr style=\"text-align: right;\">\n",
       "      <th></th>\n",
       "      <th>Name</th>\n",
       "      <th>Gender</th>\n",
       "      <th>Occupation</th>\n",
       "      <th>Age</th>\n",
       "      <th>Tenure</th>\n",
       "      <th>cust_id</th>\n",
       "      <th>wealth_exp</th>\n",
       "      <th>animal</th>\n",
       "      <th>int_trade</th>\n",
       "      <th>label</th>\n",
       "    </tr>\n",
       "  </thead>\n",
       "  <tbody>\n",
       "    <tr>\n",
       "      <th>0</th>\n",
       "      <td>JENNIFER WELLS</td>\n",
       "      <td>female</td>\n",
       "      <td>Architect</td>\n",
       "      <td>45.0</td>\n",
       "      <td>13.0</td>\n",
       "      <td>CUST82758793</td>\n",
       "      <td>0</td>\n",
       "      <td>0</td>\n",
       "      <td>0</td>\n",
       "      <td>0</td>\n",
       "    </tr>\n",
       "    <tr>\n",
       "      <th>1</th>\n",
       "      <td>ANTHONY ADAMS</td>\n",
       "      <td>male</td>\n",
       "      <td>Musician</td>\n",
       "      <td>52.0</td>\n",
       "      <td>8.0</td>\n",
       "      <td>CUST69248708</td>\n",
       "      <td>2</td>\n",
       "      <td>0</td>\n",
       "      <td>0</td>\n",
       "      <td>0</td>\n",
       "    </tr>\n",
       "    <tr>\n",
       "      <th>2</th>\n",
       "      <td>DENISE LEWIS</td>\n",
       "      <td>female</td>\n",
       "      <td>Jewelry Dealer</td>\n",
       "      <td>43.0</td>\n",
       "      <td>11.0</td>\n",
       "      <td>CUST67222818</td>\n",
       "      <td>1</td>\n",
       "      <td>0</td>\n",
       "      <td>2</td>\n",
       "      <td>0</td>\n",
       "    </tr>\n",
       "  </tbody>\n",
       "</table>\n",
       "</div>"
      ],
      "text/plain": [
       "             Name  Gender      Occupation   Age  Tenure       cust_id  \\\n",
       "0  JENNIFER WELLS  female       Architect  45.0    13.0  CUST82758793   \n",
       "1   ANTHONY ADAMS    male        Musician  52.0     8.0  CUST69248708   \n",
       "2    DENISE LEWIS  female  Jewelry Dealer  43.0    11.0  CUST67222818   \n",
       "\n",
       "   wealth_exp  animal  int_trade  label  \n",
       "0           0       0          0      0  \n",
       "1           2       0          0      0  \n",
       "2           1       0          2      0  "
      ]
     },
     "metadata": {},
     "output_type": "display_data"
    }
   ],
   "source": [
    "# Adding the occupation-based indicators to raw data\n",
    "raw = pd.read_csv('./raw/kyc.csv')\n",
    "occ = pd.read_csv('./occupation_list.csv')\n",
    "\n",
    "merged = raw.merge(occ, 'left', on='Occupation')\n",
    "\n",
    "# Re-order columns\n",
    "cols = list(merged.columns)\n",
    "cols.append(cols.pop(cols.index('label')))\n",
    "merged = merged[cols]\n",
    "\n",
    "# Export\n",
    "display(merged.head(3))\n",
    "merged.to_csv('kyc_adj.csv', index=False)"
   ]
  },
  {
   "cell_type": "markdown",
   "id": "e7c117d5",
   "metadata": {},
   "source": [
    "## Transaction-based Indicators"
   ]
  },
  {
   "cell_type": "markdown",
   "id": "6ee6b985",
   "metadata": {},
   "source": [
    "[Fintrac Operational Alert](https://fintrac-canafe.canada.ca/intel/operation/oai-wildlife-eng) gives some transaction based indicators:\n",
    "- Transaction message indicators\n",
    "    - Message makes reference to species or animal parts of concern (e.g. ivory, tusk, scales, shark fin, tortoise, gecko). (**G**)\n",
    "    - Message makes reference to traditional medicine (**I**)\n",
    "    - Message (or email addresses) species the role of the beneficiary of the funds as being related to wildlife trafficking (e.g. poacher, coordinator, supplier, breeder, trader, courier)\n",
    "\n",
    "- Outgoing transaction indicators\n",
    "    - Wire-transfers sent to individuals and/or entities located in jurisdictions of concern for wildlife crime (e.g., China, Hong Kong, Australia, and Sub-Saharan Africa).(**I**)\n",
    "    - Transactions sent to entities operating in the traditional medicine market. (**I**)\n",
    "    - Transactions sent to shipping/postal services/cargo services (**E**)\n",
    "    - Transactions sent to animal related business that are inconsistent with the clients profile (**I**)\n",
    "    \n",
    "- Incoming transaction indicators\n",
    "    - Transactions recieved from animal related business that are inconsistent with the clients profile (**E**)\n",
    "    - Transactions recieved that reference animal parts of concern from Canada (**E**)\n",
    "\n",
    "The [Financial Crime Academy](https://financialcrimeacademy.org/wildlife-trade-risk-indicators-financial/?fbclid=IwAR1XSw09Vtl4mjOOQj_eTFuqZ_GKqM-SPsCJwQKcyFb-XWU4O6nO8zBo3JU) adds the following general indicators:\n",
    "- Transaction indicators\n",
    "    - Transactions to people involved in wildlife (larger is more suspicious)\n",
    "    - Large transactions \n",
    "- Cash transaction indicators\n",
    "    - Large deposits by gov't, customs, border control\n",
    "    - Large deposits, or multiple small deposits, from people working with wildlife\n",
    "\n"
   ]
  },
  {
   "cell_type": "markdown",
   "id": "3a6bd426",
   "metadata": {},
   "source": [
    "## Other Individual Indicators\n",
    "[Fintrac Operational Alert](https://fintrac-canafe.canada.ca/intel/operation/oai-wildlife-eng)\n",
    "- Media and/or law enforcement information links client or transacting parties to the illegal wildlife trade.(**G**)\n",
    "- The Individual or an entity has open source information linking them to the possession and/or advertising the sale of species of concern for illegal wildlife trade, particularly endangered species (e.g., geckos, turtles, and tortoises).(**G**)\n",
    "- "
   ]
  },
  {
   "cell_type": "markdown",
   "id": "1a38b2f7",
   "metadata": {},
   "source": [
    "# KYC Feature Engineering - Graph Structure\n",
    "- Recieving numerous with wildlife-trade references from several parties, followed by outgoing transfers to individuals who also recieved similar e-transfers from other parties, with very few or no other transactions in their account.(**G**)\n",
    "- "
   ]
  },
  {
   "cell_type": "code",
   "execution_count": 44,
   "id": "f7ff2bc0",
   "metadata": {},
   "outputs": [],
   "source": []
  },
  {
   "cell_type": "code",
   "execution_count": null,
   "id": "04e98bda",
   "metadata": {},
   "outputs": [],
   "source": []
  }
 ],
 "metadata": {
  "kernelspec": {
   "display_name": "Python [conda env:bigdata]",
   "language": "python",
   "name": "conda-env-bigdata-py"
  },
  "language_info": {
   "codemirror_mode": {
    "name": "ipython",
    "version": 3
   },
   "file_extension": ".py",
   "mimetype": "text/x-python",
   "name": "python",
   "nbconvert_exporter": "python",
   "pygments_lexer": "ipython3",
   "version": "3.10.13"
  }
 },
 "nbformat": 4,
 "nbformat_minor": 5
}
