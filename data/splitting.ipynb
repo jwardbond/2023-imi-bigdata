{
 "cells": [
  {
   "cell_type": "markdown",
   "id": "5f9c7e92-8d31-458d-9740-28b7a72d67c8",
   "metadata": {},
   "source": [
    "# Splitting"
   ]
  },
  {
   "cell_type": "markdown",
   "id": "35485726-5f94-406b-a0ae-758baf22005d",
   "metadata": {},
   "source": [
    "## Setup"
   ]
  },
  {
   "cell_type": "code",
   "execution_count": 1,
   "id": "b7daa3e8-411e-4a76-8406-bb88bd0cc5c7",
   "metadata": {},
   "outputs": [],
   "source": [
    "from glob import glob\n",
    "from pathlib import Path\n",
    "\n",
    "import pandas as pd\n",
    "import numpy as np\n",
    "\n",
    "import warnings"
   ]
  },
  {
   "cell_type": "code",
   "execution_count": 2,
   "id": "5f939688-dc75-410b-a4f6-b79814ef89ce",
   "metadata": {},
   "outputs": [],
   "source": [
    "seed = 789\n",
    "np.random.seed(789)"
   ]
  },
  {
   "cell_type": "code",
   "execution_count": 3,
   "id": "be50e4f4-71b9-48a2-b016-7269ab957c7e",
   "metadata": {},
   "outputs": [],
   "source": [
    "train_dir = Path.cwd() / 'train'\n",
    "train_dir.mkdir(exist_ok=True)\n",
    "\n",
    "val_dir = Path.cwd() / 'val'\n",
    "val_dir.mkdir(exist_ok=True)\n",
    "\n",
    "test_dir = Path.cwd() / 'test'\n",
    "test_dir.mkdir(exist_ok=True)"
   ]
  },
  {
   "cell_type": "markdown",
   "id": "9ba7df29-042c-439c-b32f-d4a42f9e9faa",
   "metadata": {},
   "source": [
    "## Load and Split Data\n",
    "\n",
    "Splits data into 60/20/20 Train/Val/Test"
   ]
  },
  {
   "cell_type": "code",
   "execution_count": 7,
   "id": "36e53829-03de-42b3-9f53-e11d9932db0d",
   "metadata": {},
   "outputs": [],
   "source": [
    "for filename in glob('./raw/*.csv'): \n",
    "    pth = Path(filename)\n",
    "\n",
    "    #read and shuffle\n",
    "    df = pd.read_csv(pth).sample(frac=1, random_state=seed)\n",
    "\n",
    "    #split\n",
    "    with warnings.catch_warnings(action=\"ignore\"):\n",
    "        train, val, test = np.split(df, [int(.6*len(df)), int(.8*len(df))])\n",
    "\n",
    "    #export\n",
    "    name = pth.stem\n",
    "    train.to_csv(train_dir / (name+'_train.csv'), index=False)\n",
    "    val.to_csv(val_dir / (name+'_val.csv'), index=False)\n",
    "    test.to_csv(test_dir / (name+'_test.csv'), index=False)\n",
    "    "
   ]
  },
  {
   "cell_type": "code",
   "execution_count": null,
   "id": "7e07d56d-e34e-4c53-9c95-cf9937e77202",
   "metadata": {},
   "outputs": [],
   "source": []
  }
 ],
 "metadata": {
  "kernelspec": {
   "display_name": "Python [conda env:bigdata]",
   "language": "python",
   "name": "conda-env-bigdata-py"
  },
  "language_info": {
   "codemirror_mode": {
    "name": "ipython",
    "version": 3
   },
   "file_extension": ".py",
   "mimetype": "text/x-python",
   "name": "python",
   "nbconvert_exporter": "python",
   "pygments_lexer": "ipython3",
   "version": "3.11.5"
  }
 },
 "nbformat": 4,
 "nbformat_minor": 5
}
