{
 "cells": [
  {
   "cell_type": "code",
   "execution_count": 1,
   "id": "e191c1bc",
   "metadata": {},
   "outputs": [],
   "source": [
    "import pandas as pd\n",
    "import numpy as np"
   ]
  },
  {
   "cell_type": "markdown",
   "id": "83aa4662",
   "metadata": {},
   "source": [
    "# Transaction Preprocessing"
   ]
  },
  {
   "cell_type": "markdown",
   "id": "2b4e1358",
   "metadata": {},
   "source": [
    "## E-transfer Transaction Features\n",
    "- `e_at_risk`\n",
    "    - General indicator\n",
    "    - Probability that a message references a species at risk, or parts thereof\n",
    "    - *could also be a binary flag*\n",
    "    - *can look at CITES for this list*\n",
    "- `e_cad_at_risk`\n",
    "    - Export indicator\n",
    "    - Probability that message references a species at risk in Canada, or parts thereof (bear, geese, etc.)\n",
    "    - *could also be a binary flag*\n",
    "    - *get animal list from fintrac doc and papers*\n",
    "- `e_role`\n",
    "    - General indicator\n",
    "    - Probability that a message references an IWT related role (e.g. poacher, coordinator, supplier, breeder, trader)\n",
    "    - *could also be a binary flag*\n",
    "- `e_trad_med`\n",
    "    - Import indicator\n",
    "    - Probability that a message references traditional medicine\n",
    "    - *could also be a binary flag*\n",
    " \n",
    "\n",
    "*Do we want to separate these into TO and FROM?*"
   ]
  },
  {
   "cell_type": "markdown",
   "id": "4dbe9b80",
   "metadata": {},
   "source": [
    "## Wire Transfer Transaction Features\n",
    "- `w_to_country`\n",
    "    - Import indicator\n",
    "    - Binary flag\n",
    "    - 1 if the wire transfer is to a jurisdiction of concern:\n",
    "        - China\n",
    "        - Hong Kong\n",
    "        - South Africa\n",
    "        - Australia\n",
    "        - ...\n",
    "- `w_from_country`\n",
    "    - *not listed in fintrac doc, but could be a useful flag as well*\n",
    "    - Binary flag\n",
    "    - 1 if from a jurisdiction of concern, 0 otherwise\n",
    "- `w_external_to_animal`\n",
    "    - Binary flag\n",
    "    - 1 if from a jurisdiction of concern to an animal related business, 0 otherwise"
   ]
  },
  {
   "cell_type": "markdown",
   "id": "9f743aef",
   "metadata": {},
   "source": [
    "## Cash Transaction Features\n",
    "- `c_large_dep`\n",
    "    - General indicator\n",
    "    - Binary flag\n",
    "    - 1 if large deposit from someone involved in international trade or wildlife-related business\n",
    "    - *tbd what large means*\n",
    "- `c_large_wthd`\n",
    "    - General indicator\n",
    "    - Binary flag\n",
    "    - 1 if large withdrawal from someone involved in international trade or wildlife-related business\n",
    "    - *tbd what large means*\n",
    "\n",
    "*The financial crime academy has some additional specifications for these features*"
   ]
  },
  {
   "cell_type": "markdown",
   "id": "be0632e5",
   "metadata": {},
   "source": [
    "# General Transaction Features\n",
    "- `t_to_animal`\n",
    "    - Import indicator\n",
    "    - Binary flag\n",
    "    - 1 if the transaction is to an animal related business\n",
    "- `t_from_animal`\n",
    "    - *not listed in fintrac doc, but could be a useful flag as well*\n",
    "    - Binary flag\n",
    "    - 1 if the transaction is from an animal related business\n",
    "- `t_to_animal_large`\n",
    "    - Import indicator\n",
    "    - Binary flag\n",
    "    - 1 if the transaction is from an animal related and is above a certain dollar amount, 0 otherwise\n",
    "    - *tbd the dollar amount*\n",
    "- `t_from_animal_large`\n",
    "    - *not listed in fintrac doc, but could be a useful flag as well*\n",
    "    - Binary flag\n",
    "    - 1 if the transaction is from an animal related and is above a certain dollar amount, 0 otherwise\n",
    "    - *tbd the dollar amount*\n",
    "- `t_to_shipping`\n",
    "    - Export indicator\n",
    "    - Binary flag\n",
    "    - 1 if the transaction is to someone in shipping/postal/cargo\n",
    "    - *no label for this type of occupation yet*\n"
   ]
  },
  {
   "cell_type": "code",
   "execution_count": null,
   "id": "9222b713-20ba-4842-8b53-1a4bdf2a87a2",
   "metadata": {},
   "outputs": [],
   "source": []
  }
 ],
 "metadata": {
  "kernelspec": {
   "display_name": "Python [conda env:bigdata]",
   "language": "python",
   "name": "conda-env-bigdata-py"
  },
  "language_info": {
   "codemirror_mode": {
    "name": "ipython",
    "version": 3
   },
   "file_extension": ".py",
   "mimetype": "text/x-python",
   "name": "python",
   "nbconvert_exporter": "python",
   "pygments_lexer": "ipython3",
   "version": "3.11.5"
  }
 },
 "nbformat": 4,
 "nbformat_minor": 5
}
