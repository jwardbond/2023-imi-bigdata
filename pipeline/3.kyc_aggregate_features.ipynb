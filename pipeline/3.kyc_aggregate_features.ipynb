{
 "cells": [
  {
   "cell_type": "code",
   "execution_count": 1,
   "id": "296561bb",
   "metadata": {},
   "outputs": [],
   "source": [
    "import pandas as pd\n",
    "import numpy as np"
   ]
  },
  {
   "cell_type": "markdown",
   "id": "10c0e03c",
   "metadata": {},
   "source": [
    "# KYC Feature Aggregation\n",
    "The purpose of this notebook is to:\n",
    "1. Aggregate the transaction-level features at a client level\n",
    "    - All aggregate features should be $\\in [0,1]$\n",
    "2. Determine appropriate weights for these aggregate features\n",
    "3. Combine these weighted aggregate features into a suspicion score on a per-customer level\n",
    "4. (possibly do some sort of weight-sharing of the score from 3. between nodes)"
   ]
  },
  {
   "cell_type": "code",
   "execution_count": null,
   "id": "8527bcbc",
   "metadata": {},
   "outputs": [],
   "source": []
  }
 ],
 "metadata": {
  "kernelspec": {
   "display_name": "Python [conda env:bigdata]",
   "language": "python",
   "name": "conda-env-bigdata-py"
  },
  "language_info": {
   "codemirror_mode": {
    "name": "ipython",
    "version": 3
   },
   "file_extension": ".py",
   "mimetype": "text/x-python",
   "name": "python",
   "nbconvert_exporter": "python",
   "pygments_lexer": "ipython3",
   "version": "3.10.13"
  }
 },
 "nbformat": 4,
 "nbformat_minor": 5
}
