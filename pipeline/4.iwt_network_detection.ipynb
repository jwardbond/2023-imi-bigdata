{
 "cells": [
  {
   "cell_type": "code",
   "execution_count": null,
   "id": "48841a56",
   "metadata": {},
   "outputs": [],
   "source": []
  },
  {
   "cell_type": "markdown",
   "id": "4e4a0248",
   "metadata": {},
   "source": [
    "# IWT Network Detection\n",
    "Ideas: \n",
    "- Prune nodes that are below a certain score\n",
    "- Weight edges by certain features (e.g. "
   ]
  },
  {
   "cell_type": "code",
   "execution_count": null,
   "id": "a94d2e0c",
   "metadata": {},
   "outputs": [],
   "source": [
    "- Individuals recieve transfers from suspect accounts, and transfer money to suspect accounts, with few other transactions"
   ]
  }
 ],
 "metadata": {
  "kernelspec": {
   "display_name": "Python [conda env:bigdata]",
   "language": "python",
   "name": "conda-env-bigdata-py"
  },
  "language_info": {
   "codemirror_mode": {
    "name": "ipython",
    "version": 3
   },
   "file_extension": ".py",
   "mimetype": "text/x-python",
   "name": "python",
   "nbconvert_exporter": "python",
   "pygments_lexer": "ipython3",
   "version": "3.11.5"
  }
 },
 "nbformat": 4,
 "nbformat_minor": 5
}
