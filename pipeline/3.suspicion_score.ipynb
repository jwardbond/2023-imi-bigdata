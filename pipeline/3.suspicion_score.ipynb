{
 "cells": [
  {
   "cell_type": "code",
   "execution_count": 1,
   "id": "296561bb",
   "metadata": {},
   "outputs": [],
   "source": [
    "import pandas as pd\n",
    "import numpy as np"
   ]
  },
  {
   "cell_type": "markdown",
   "id": "1498af0b-0d8c-4972-a3f3-b32911c651eb",
   "metadata": {},
   "source": [
    "# Suspicion Score\n",
    "\n",
    "There are three reasons why a node might be suspicious: \n",
    "1. The KYC data (node data, eg. occupation) is suspicious\n",
    "2. The transactions (edges, e.g. e-transfer messages) around that node are suspicious\n",
    "3. The graph structure around that node is suspicious (e.g. in a 'mule' structure)\n",
    "\n",
    "The purpose of this notebook is to aggregate those three factors (and the indicators contained therein) to come up with an explainable total node suspicion score. "
   ]
  },
  {
   "cell_type": "markdown",
   "id": "cc1ad513-f649-43f4-b2ef-41bda1af972b",
   "metadata": {},
   "source": [
    "# Node Suspicion Score"
   ]
  },
  {
   "cell_type": "markdown",
   "id": "c8526286-76ad-4480-99a8-c14486bf805c",
   "metadata": {},
   "source": [
    "*Basically weighting the occupation indicators, anything else that is in KYC data to begin with that we want to use*"
   ]
  },
  {
   "cell_type": "markdown",
   "id": "10c0e03c",
   "metadata": {},
   "source": [
    "# Edge Suspicion Score\n",
    "Features starting with **agg** are aggregates of pre-computed transaction features."
   ]
  },
  {
   "cell_type": "markdown",
   "id": "345c8f62-fae8-495d-9165-a11c5fe65fce",
   "metadata": {},
   "source": [
    "## E-transfer aggregates\n",
    "`agg_at_risk`\n",
    "`agg_cad_at_risk`\n",
    "`agg_role`\n",
    "`agg_trad_med`"
   ]
  },
  {
   "cell_type": "markdown",
   "id": "95daf1e3-ebe8-4875-a955-026ef3433035",
   "metadata": {},
   "source": [
    "## Wire transfer aggregates\n",
    "`agg_to_country`\n",
    "`agg_from_country`"
   ]
  },
  {
   "cell_type": "markdown",
   "id": "112025ad-ae98-45b8-b3c7-98bd8ea88d56",
   "metadata": {},
   "source": [
    "## Cash aggregates\n",
    "`agg_large_dep`\n",
    "`agg_large_wthd`\n",
    "\n",
    "- `total_wthd`\n",
    "    - Some sort of score for unusual total withdrawals\n",
    "- `total_dep`\n",
    "    - Some sort fo score for unusual total deposits"
   ]
  },
  {
   "cell_type": "markdown",
   "id": "7f669a22-f5df-417a-a00c-3da9968104a8",
   "metadata": {},
   "source": [
    "## General transaction aggregates\n",
    "`agg_to_animal`\n",
    "`agg_from_animal`\n",
    "`agg_to_animal_large`\n",
    "`agg_from_animal_large`\n",
    "`agg_to_shipping`"
   ]
  },
  {
   "cell_type": "markdown",
   "id": "03ba0e33-d934-4f3f-9827-6787687adb8a",
   "metadata": {},
   "source": [
    "# Graph Suspicion Score\n",
    "\n",
    "*The only ones I can think of here are examples where someone recieves a transfer and then distributes similar (total) amounts to multiple nodes later, or the reverse*"
   ]
  },
  {
   "cell_type": "markdown",
   "id": "97b67af0-4306-4d0c-9a3f-dc4a62584102",
   "metadata": {},
   "source": [
    "# Total Node Suspicion score\n",
    "Node sus + Edge sus + Graph sus\n",
    "\n",
    "*Implement pagerank here? Need something to capture the amount of transactions with other suspicious actors*"
   ]
  },
  {
   "cell_type": "code",
   "execution_count": null,
   "id": "ba53326c-8888-476d-be5a-0c4de8b868d5",
   "metadata": {},
   "outputs": [],
   "source": []
  }
 ],
 "metadata": {
  "kernelspec": {
   "display_name": "Python [conda env:bigdata]",
   "language": "python",
   "name": "conda-env-bigdata-py"
  },
  "language_info": {
   "codemirror_mode": {
    "name": "ipython",
    "version": 3
   },
   "file_extension": ".py",
   "mimetype": "text/x-python",
   "name": "python",
   "nbconvert_exporter": "python",
   "pygments_lexer": "ipython3",
   "version": "3.11.5"
  }
 },
 "nbformat": 4,
 "nbformat_minor": 5
}
