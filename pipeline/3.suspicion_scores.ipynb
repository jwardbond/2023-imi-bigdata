{
 "cells": [
  {
   "cell_type": "code",
   "execution_count": 2,
   "id": "296561bb",
   "metadata": {},
   "outputs": [],
   "source": [
    "from pathlib import Path\n",
    "import pandas as pd\n",
    "import numpy as np\n",
    "import pyarrow"
   ]
  },
  {
   "cell_type": "markdown",
   "id": "1498af0b-0d8c-4972-a3f3-b32911c651eb",
   "metadata": {},
   "source": [
    "# Suspicion Score\n",
    "\n",
    "There are three reasons why a node might be suspicious: \n",
    "1. The KYC data (node data, eg. occupation) is suspicious\n",
    "2. The transactions (edges, e.g. e-transfer messages) around that node are suspicious\n",
    "3. The graph structure around that node is suspicious (e.g. in a 'mule' structure)\n",
    "\n",
    "The purpose of this notebook is to aggregate those three factors (and the indicators contained therein) to come up with an explainable total node suspicion score. \n",
    "\n",
    "TODO:\n",
    "\n",
    "- ~Aggregate node indicators (JWB)~\n",
    "- Aggregate e-transfer features (MM)\n",
    "- Aggregate wire-transfer features (JWB)\n",
    "- ~Aggregate cash-transfer features (JWB)~\n",
    "- Aggregate general features (AGG)\n",
    "- PageRank (MM)\n",
    "- Find a suspicious network (AGG)"
   ]
  },
  {
   "cell_type": "markdown",
   "id": "cc1ad513-f649-43f4-b2ef-41bda1af972b",
   "metadata": {},
   "source": [
    "# Node Suspicion Score"
   ]
  },
  {
   "cell_type": "code",
   "execution_count": 28,
   "id": "bbc3a401-b816-41c0-8253-d1bc67063332",
   "metadata": {},
   "outputs": [],
   "source": [
    "DATAPATH = Path('../data/processed')\n",
    "KYCPATH = DATAPATH / 'kyc.parquet'\n",
    "CASHPATH = DATAPATH / 'cash.parquet'"
   ]
  },
  {
   "cell_type": "markdown",
   "id": "0469d859-30d3-4f60-8000-dc601fe0e660",
   "metadata": {},
   "source": [
    "## KYC Aggregation\n",
    "We first combine the KYC features `label`, `occ_int`, `occ_wealth`, `occ_animal` into one one KYC score. To do this, we assume that the occupation flags are additive, and then take the max of the occupation aggregate score with the `label` feature. \n",
    "\n",
    "Basically: If they have been flagged for money laundering, their node should have the heighest suspision score, otherwise we take a weighted average of the occupation flags.\n",
    "\n",
    "`kyc_agg`$=\\max$(`label`, $\\texttt{avg}$(`occ_int`, `occ_wealth`, `occ_animal`))\n"
   ]
  },
  {
   "cell_type": "code",
   "execution_count": 34,
   "id": "b34dd219-85f3-4cae-9683-1db384f4115f",
   "metadata": {},
   "outputs": [],
   "source": [
    "#Optional feature weights\n",
    "W_OCC_INT = 1/3\n",
    "W_OCC_WEALTH = 1/3\n",
    "W_OCC_ANIMAL = 1/3"
   ]
  },
  {
   "cell_type": "code",
   "execution_count": 38,
   "id": "515b78ef-5682-470c-8008-8bf911925d99",
   "metadata": {},
   "outputs": [
    {
     "data": {
      "text/html": [
       "<div>\n",
       "<style scoped>\n",
       "    .dataframe tbody tr th:only-of-type {\n",
       "        vertical-align: middle;\n",
       "    }\n",
       "\n",
       "    .dataframe tbody tr th {\n",
       "        vertical-align: top;\n",
       "    }\n",
       "\n",
       "    .dataframe thead th {\n",
       "        text-align: right;\n",
       "    }\n",
       "</style>\n",
       "<table border=\"1\" class=\"dataframe\">\n",
       "  <thead>\n",
       "    <tr style=\"text-align: right;\">\n",
       "      <th></th>\n",
       "      <th>name</th>\n",
       "      <th>gender</th>\n",
       "      <th>occupation</th>\n",
       "      <th>age</th>\n",
       "      <th>tenure</th>\n",
       "      <th>cust_id</th>\n",
       "      <th>occ_wealth</th>\n",
       "      <th>occ_animal</th>\n",
       "      <th>occ_int</th>\n",
       "      <th>label</th>\n",
       "      <th>kyc_agg</th>\n",
       "    </tr>\n",
       "  </thead>\n",
       "  <tbody>\n",
       "    <tr>\n",
       "      <th>21989</th>\n",
       "      <td>AMY JOHNSON</td>\n",
       "      <td>female</td>\n",
       "      <td>Pet Groomer</td>\n",
       "      <td>33.0</td>\n",
       "      <td>8.0</td>\n",
       "      <td>CUST68389688</td>\n",
       "      <td>0</td>\n",
       "      <td>1</td>\n",
       "      <td>0</td>\n",
       "      <td>0</td>\n",
       "      <td>0.333333</td>\n",
       "    </tr>\n",
       "    <tr>\n",
       "      <th>62717</th>\n",
       "      <td>JOHN WATKINS</td>\n",
       "      <td>male</td>\n",
       "      <td>Gardener</td>\n",
       "      <td>34.0</td>\n",
       "      <td>3.0</td>\n",
       "      <td>CUST72834415</td>\n",
       "      <td>0</td>\n",
       "      <td>0</td>\n",
       "      <td>0</td>\n",
       "      <td>0</td>\n",
       "      <td>0.000000</td>\n",
       "    </tr>\n",
       "    <tr>\n",
       "      <th>68089</th>\n",
       "      <td>DR.KELLY CARTER</td>\n",
       "      <td>female</td>\n",
       "      <td>Food Critic</td>\n",
       "      <td>33.0</td>\n",
       "      <td>7.0</td>\n",
       "      <td>CUST80817667</td>\n",
       "      <td>0</td>\n",
       "      <td>0</td>\n",
       "      <td>0</td>\n",
       "      <td>0</td>\n",
       "      <td>0.000000</td>\n",
       "    </tr>\n",
       "  </tbody>\n",
       "</table>\n",
       "</div>"
      ],
      "text/plain": [
       "                  name  gender   occupation   age  tenure       cust_id  \\\n",
       "21989      AMY JOHNSON  female  Pet Groomer  33.0     8.0  CUST68389688   \n",
       "62717     JOHN WATKINS    male     Gardener  34.0     3.0  CUST72834415   \n",
       "68089  DR.KELLY CARTER  female  Food Critic  33.0     7.0  CUST80817667   \n",
       "\n",
       "       occ_wealth  occ_animal  occ_int  label   kyc_agg  \n",
       "21989           0           1        0      0  0.333333  \n",
       "62717           0           0        0      0  0.000000  \n",
       "68089           0           0        0      0  0.000000  "
      ]
     },
     "execution_count": 38,
     "metadata": {},
     "output_type": "execute_result"
    }
   ],
   "source": [
    "kyc_df = pd.read_parquet(KYCPATH)\n",
    "\n",
    "def kyc_agg(r): \n",
    "    occ_agg = W_OCC_INT*r.occ_int + W_OCC_WEALTH*r.occ_wealth + W_OCC_ANIMAL*r.occ_animal\n",
    "    return max(r.label, occ_agg)\n",
    "\n",
    "kyc_df['kyc_agg'] = kyc_df.apply(lambda r: kyc_agg(r), axis=1)\n",
    "kyc_df.sample(3)"
   ]
  },
  {
   "cell_type": "markdown",
   "id": "1fa2c62e-08ed-4939-9424-cd80887d630f",
   "metadata": {},
   "source": [
    "## Cash Aggregation\n",
    "For the purposes of this project, we consider cash transactions as only occuring between one customer (i.e. the bank does *not* count as a customer). This prevents graph neighbourhoods from being too dense (everyone is connected to the bank, so everyone is a 2-hop neighbour). \n",
    "\n",
    "For practical purposes, this means that indicators related to deposit/withdrawal size become node scores, rather than edge scores.\n",
    "\n",
    "There is only one cash feature currently, `c_large`. `cash_agg` is therefore defined as the proportion of a customers cash transactions that have been defined as being unusually large."
   ]
  },
  {
   "cell_type": "code",
   "execution_count": 54,
   "id": "1b80fe84-1936-478c-a40e-57f7e3f095d2",
   "metadata": {},
   "outputs": [
    {
     "data": {
      "text/html": [
       "<div>\n",
       "<style scoped>\n",
       "    .dataframe tbody tr th:only-of-type {\n",
       "        vertical-align: middle;\n",
       "    }\n",
       "\n",
       "    .dataframe tbody tr th {\n",
       "        vertical-align: top;\n",
       "    }\n",
       "\n",
       "    .dataframe thead th {\n",
       "        text-align: right;\n",
       "    }\n",
       "</style>\n",
       "<table border=\"1\" class=\"dataframe\">\n",
       "  <thead>\n",
       "    <tr style=\"text-align: right;\">\n",
       "      <th></th>\n",
       "      <th>cust_id</th>\n",
       "      <th>c_agg</th>\n",
       "    </tr>\n",
       "  </thead>\n",
       "  <tbody>\n",
       "    <tr>\n",
       "      <th>13739</th>\n",
       "      <td>CUST30370806</td>\n",
       "      <td>0.0</td>\n",
       "    </tr>\n",
       "    <tr>\n",
       "      <th>60855</th>\n",
       "      <td>CUST99887405</td>\n",
       "      <td>0.0</td>\n",
       "    </tr>\n",
       "    <tr>\n",
       "      <th>26105</th>\n",
       "      <td>CUST48967972</td>\n",
       "      <td>0.0</td>\n",
       "    </tr>\n",
       "  </tbody>\n",
       "</table>\n",
       "</div>"
      ],
      "text/plain": [
       "            cust_id  c_agg\n",
       "13739  CUST30370806    0.0\n",
       "60855  CUST99887405    0.0\n",
       "26105  CUST48967972    0.0"
      ]
     },
     "execution_count": 54,
     "metadata": {},
     "output_type": "execute_result"
    }
   ],
   "source": [
    "cash_df = pd.read_parquet(CASHPATH)\n",
    "cash_agg_df = cash_df.groupby('cust_id')['c_large'].mean().reset_index()\n",
    "cash_agg_df = cash_agg_df.rename(columns={'c_large':'c_agg'})\n",
    "cash_agg_df.sample(3)"
   ]
  },
  {
   "cell_type": "markdown",
   "id": "3bdf19dd-41c6-4c2c-8093-0a775dd96d4a",
   "metadata": {},
   "source": [
    "## Node Score Calculation\n",
    "We assume that the total node suspicion score is an average of the aggregate kyc suspicion score  and the aggregate cash suspicion score above."
   ]
  },
  {
   "cell_type": "code",
   "execution_count": 62,
   "id": "d30065a1-8e54-41ad-a62a-9d68e18e1575",
   "metadata": {},
   "outputs": [
    {
     "data": {
      "text/html": [
       "<div>\n",
       "<style scoped>\n",
       "    .dataframe tbody tr th:only-of-type {\n",
       "        vertical-align: middle;\n",
       "    }\n",
       "\n",
       "    .dataframe tbody tr th {\n",
       "        vertical-align: top;\n",
       "    }\n",
       "\n",
       "    .dataframe thead th {\n",
       "        text-align: right;\n",
       "    }\n",
       "</style>\n",
       "<table border=\"1\" class=\"dataframe\">\n",
       "  <thead>\n",
       "    <tr style=\"text-align: right;\">\n",
       "      <th></th>\n",
       "      <th>cust_id</th>\n",
       "      <th>score</th>\n",
       "    </tr>\n",
       "  </thead>\n",
       "  <tbody>\n",
       "    <tr>\n",
       "      <th>150089</th>\n",
       "      <td>CUST87731042</td>\n",
       "      <td>1.0</td>\n",
       "    </tr>\n",
       "    <tr>\n",
       "      <th>165103</th>\n",
       "      <td>CUST51289421</td>\n",
       "      <td>1.0</td>\n",
       "    </tr>\n",
       "    <tr>\n",
       "      <th>110190</th>\n",
       "      <td>CUST21142684</td>\n",
       "      <td>1.0</td>\n",
       "    </tr>\n",
       "    <tr>\n",
       "      <th>180831</th>\n",
       "      <td>CUST55502501</td>\n",
       "      <td>1.0</td>\n",
       "    </tr>\n",
       "    <tr>\n",
       "      <th>57930</th>\n",
       "      <td>CUST27210892</td>\n",
       "      <td>1.0</td>\n",
       "    </tr>\n",
       "    <tr>\n",
       "      <th>...</th>\n",
       "      <td>...</td>\n",
       "      <td>...</td>\n",
       "    </tr>\n",
       "    <tr>\n",
       "      <th>73441</th>\n",
       "      <td>CUST87917518</td>\n",
       "      <td>0.0</td>\n",
       "    </tr>\n",
       "    <tr>\n",
       "      <th>73442</th>\n",
       "      <td>CUST10383819</td>\n",
       "      <td>0.0</td>\n",
       "    </tr>\n",
       "    <tr>\n",
       "      <th>73443</th>\n",
       "      <td>CUST81898171</td>\n",
       "      <td>0.0</td>\n",
       "    </tr>\n",
       "    <tr>\n",
       "      <th>73444</th>\n",
       "      <td>CUST48514678</td>\n",
       "      <td>0.0</td>\n",
       "    </tr>\n",
       "    <tr>\n",
       "      <th>195788</th>\n",
       "      <td>CUST87775775</td>\n",
       "      <td>0.0</td>\n",
       "    </tr>\n",
       "  </tbody>\n",
       "</table>\n",
       "<p>195789 rows × 2 columns</p>\n",
       "</div>"
      ],
      "text/plain": [
       "             cust_id  score\n",
       "150089  CUST87731042    1.0\n",
       "165103  CUST51289421    1.0\n",
       "110190  CUST21142684    1.0\n",
       "180831  CUST55502501    1.0\n",
       "57930   CUST27210892    1.0\n",
       "...              ...    ...\n",
       "73441   CUST87917518    0.0\n",
       "73442   CUST10383819    0.0\n",
       "73443   CUST81898171    0.0\n",
       "73444   CUST48514678    0.0\n",
       "195788  CUST87775775    0.0\n",
       "\n",
       "[195789 rows x 2 columns]"
      ]
     },
     "execution_count": 62,
     "metadata": {},
     "output_type": "execute_result"
    }
   ],
   "source": [
    "#Join KYC and Cash Data\n",
    "merged = kyc_df.merge(cash_agg_df, on='cust_id', how='left')\n",
    "merged['c_agg'] = merged['c_agg'].fillna(0)\n",
    "\n",
    "#Aggregate \n",
    "node_df = merged[['cust_id', 'kyc_agg', 'c_agg']].copy()\n",
    "node_df['score'] = (node_df['kyc_agg'] + node_df['c_agg'])/2\n",
    "\n",
    "#Clean\n",
    "node_df = node_df[['cust_id', 'score']]\n",
    "\n",
    "\n",
    "#Export\n",
    "node_df.to_parquet(DATAPATH/'node_score.parquet', index=False)\n",
    "node_df.sort_values('score', ascending=False)"
   ]
  },
  {
   "cell_type": "markdown",
   "id": "10c0e03c",
   "metadata": {},
   "source": [
    "# Edge Suspicion Score\n",
    "Features starting with **agg** are aggregates of pre-computed transaction features."
   ]
  },
  {
   "cell_type": "code",
   "execution_count": 63,
   "id": "c889365b-770f-4c22-a073-ec694fd74fd9",
   "metadata": {},
   "outputs": [],
   "source": [
    "DATAPATH = Path('../data/processed')\n",
    "WIREPATH = DATAPATH / 'wire.parquet'"
   ]
  },
  {
   "cell_type": "markdown",
   "id": "345c8f62-fae8-495d-9165-a11c5fe65fce",
   "metadata": {},
   "source": [
    "## E-transfer aggregation"
   ]
  },
  {
   "cell_type": "code",
   "execution_count": null,
   "id": "4d99a422-9b30-44f1-809a-7b12d1189237",
   "metadata": {},
   "outputs": [],
   "source": [
    "#Maaz code here"
   ]
  },
  {
   "cell_type": "markdown",
   "id": "95daf1e3-ebe8-4875-a955-026ef3433035",
   "metadata": {},
   "source": [
    "## Wire transfer aggregation\n",
    "The aggregate wire transfer score is an average of the wire transfer indicators `w_to_country`, `w_from_country`, `w_external_to_animal`."
   ]
  },
  {
   "cell_type": "code",
   "execution_count": 69,
   "id": "b1a2c162-5087-42f0-94eb-bbc350158fd2",
   "metadata": {},
   "outputs": [
    {
     "data": {
      "text/html": [
       "<div>\n",
       "<style scoped>\n",
       "    .dataframe tbody tr th:only-of-type {\n",
       "        vertical-align: middle;\n",
       "    }\n",
       "\n",
       "    .dataframe tbody tr th {\n",
       "        vertical-align: top;\n",
       "    }\n",
       "\n",
       "    .dataframe thead th {\n",
       "        text-align: right;\n",
       "    }\n",
       "</style>\n",
       "<table border=\"1\" class=\"dataframe\">\n",
       "  <thead>\n",
       "    <tr style=\"text-align: right;\">\n",
       "      <th></th>\n",
       "      <th>cust_id_sender</th>\n",
       "      <th>cust_id_receiver</th>\n",
       "      <th>name_sender</th>\n",
       "      <th>name_receiver</th>\n",
       "      <th>trxn_value</th>\n",
       "      <th>country_sender</th>\n",
       "      <th>country_receiver</th>\n",
       "      <th>trxn_id</th>\n",
       "      <th>occ_wealth_receiver</th>\n",
       "      <th>occ_animal_receiver</th>\n",
       "      <th>occ_int_receiver</th>\n",
       "      <th>label_receiver</th>\n",
       "      <th>occ_wealth_sender</th>\n",
       "      <th>occ_animal_sender</th>\n",
       "      <th>occ_int_sender</th>\n",
       "      <th>label_sender</th>\n",
       "      <th>w_to_country</th>\n",
       "      <th>w_from_country</th>\n",
       "      <th>w_external_to_animal</th>\n",
       "      <th>w_agg</th>\n",
       "    </tr>\n",
       "  </thead>\n",
       "  <tbody>\n",
       "    <tr>\n",
       "      <th>67027</th>\n",
       "      <td>CUST47410529</td>\n",
       "      <td>CUST56821551</td>\n",
       "      <td>JOHN MILLS</td>\n",
       "      <td>KAREN ALLEN</td>\n",
       "      <td>1626.5</td>\n",
       "      <td>CA</td>\n",
       "      <td>CA</td>\n",
       "      <td>VTTG41908592</td>\n",
       "      <td>0.0</td>\n",
       "      <td>0.0</td>\n",
       "      <td>0.0</td>\n",
       "      <td>1.0</td>\n",
       "      <td>0.0</td>\n",
       "      <td>0.0</td>\n",
       "      <td>1.0</td>\n",
       "      <td>1.0</td>\n",
       "      <td>0</td>\n",
       "      <td>0</td>\n",
       "      <td>0</td>\n",
       "      <td>0.0</td>\n",
       "    </tr>\n",
       "    <tr>\n",
       "      <th>9599</th>\n",
       "      <td>CUST34075912</td>\n",
       "      <td>EXTERNAL176213</td>\n",
       "      <td>SAMANTHA FERGUSON</td>\n",
       "      <td>ANNA JONES</td>\n",
       "      <td>1544.5</td>\n",
       "      <td>CA</td>\n",
       "      <td>CA</td>\n",
       "      <td>LFUF84927552</td>\n",
       "      <td>NaN</td>\n",
       "      <td>NaN</td>\n",
       "      <td>NaN</td>\n",
       "      <td>NaN</td>\n",
       "      <td>0.0</td>\n",
       "      <td>0.0</td>\n",
       "      <td>0.0</td>\n",
       "      <td>0.0</td>\n",
       "      <td>0</td>\n",
       "      <td>0</td>\n",
       "      <td>0</td>\n",
       "      <td>0.0</td>\n",
       "    </tr>\n",
       "    <tr>\n",
       "      <th>39203</th>\n",
       "      <td>EXTERNAL959844</td>\n",
       "      <td>CUST35676669</td>\n",
       "      <td>RENEE BATTA</td>\n",
       "      <td>HARRY BROWN</td>\n",
       "      <td>10900.0</td>\n",
       "      <td>IN</td>\n",
       "      <td>CA</td>\n",
       "      <td>FFMZ50593813</td>\n",
       "      <td>1.0</td>\n",
       "      <td>0.0</td>\n",
       "      <td>1.0</td>\n",
       "      <td>0.0</td>\n",
       "      <td>NaN</td>\n",
       "      <td>NaN</td>\n",
       "      <td>NaN</td>\n",
       "      <td>NaN</td>\n",
       "      <td>0</td>\n",
       "      <td>0</td>\n",
       "      <td>0</td>\n",
       "      <td>0.0</td>\n",
       "    </tr>\n",
       "  </tbody>\n",
       "</table>\n",
       "</div>"
      ],
      "text/plain": [
       "       cust_id_sender cust_id_receiver        name_sender name_receiver  \\\n",
       "67027    CUST47410529     CUST56821551         JOHN MILLS   KAREN ALLEN   \n",
       "9599     CUST34075912   EXTERNAL176213  SAMANTHA FERGUSON    ANNA JONES   \n",
       "39203  EXTERNAL959844     CUST35676669        RENEE BATTA   HARRY BROWN   \n",
       "\n",
       "       trxn_value country_sender country_receiver       trxn_id  \\\n",
       "67027      1626.5             CA               CA  VTTG41908592   \n",
       "9599       1544.5             CA               CA  LFUF84927552   \n",
       "39203     10900.0             IN               CA  FFMZ50593813   \n",
       "\n",
       "       occ_wealth_receiver  occ_animal_receiver  occ_int_receiver  \\\n",
       "67027                  0.0                  0.0               0.0   \n",
       "9599                   NaN                  NaN               NaN   \n",
       "39203                  1.0                  0.0               1.0   \n",
       "\n",
       "       label_receiver  occ_wealth_sender  occ_animal_sender  occ_int_sender  \\\n",
       "67027             1.0                0.0                0.0             1.0   \n",
       "9599              NaN                0.0                0.0             0.0   \n",
       "39203             0.0                NaN                NaN             NaN   \n",
       "\n",
       "       label_sender  w_to_country  w_from_country  w_external_to_animal  w_agg  \n",
       "67027           1.0             0               0                     0    0.0  \n",
       "9599            0.0             0               0                     0    0.0  \n",
       "39203           NaN             0               0                     0    0.0  "
      ]
     },
     "execution_count": 69,
     "metadata": {},
     "output_type": "execute_result"
    }
   ],
   "source": [
    "wire_df = pd.read_parquet(WIREPATH)\n",
    "wire_df['w_agg'] = (wire_df['w_to_country'] + wire_df['w_from_country'] + wire_df['w_external_to_animal'])/3\n",
    "wire_df.sample(3)"
   ]
  },
  {
   "cell_type": "markdown",
   "id": "6830e6aa-1167-4e7d-8493-bb1def1007be",
   "metadata": {},
   "source": [
    "## Edge Score Calculation"
   ]
  },
  {
   "cell_type": "code",
   "execution_count": 19,
   "id": "f8f57e61-5a42-41c1-9eb1-1e604a7ae912",
   "metadata": {},
   "outputs": [],
   "source": [
    "#Alex to compute total scores for wire transfer and e-transfer inc. his general flags\n",
    "#Alex to export to a csv with columns: cust_id_sender, cust_id_reciever, score, trxn_type, trxn_id"
   ]
  },
  {
   "cell_type": "markdown",
   "id": "90c7de4a-ea99-468f-8b60-226b9307914d",
   "metadata": {},
   "source": [
    "# Temp"
   ]
  },
  {
   "cell_type": "code",
   "execution_count": 9,
   "id": "051e868b-e3e7-4b57-b18b-e56719fe3aa4",
   "metadata": {},
   "outputs": [],
   "source": [
    "DATAPATH = Path('../data/processed')\n",
    "EPATH = DATAPATH / 'emt.parquet'\n",
    "WIREPATH = DATAPATH / 'wire.parquet'"
   ]
  },
  {
   "cell_type": "code",
   "execution_count": 8,
   "id": "89da1ab8-14c1-405c-90cd-efef91d65e63",
   "metadata": {},
   "outputs": [
    {
     "ename": "ValueError",
     "evalue": "Length of values (506451) does not match length of index (67872)",
     "output_type": "error",
     "traceback": [
      "\u001b[1;31m---------------------------------------------------------------------------\u001b[0m",
      "\u001b[1;31mValueError\u001b[0m                                Traceback (most recent call last)",
      "Cell \u001b[1;32mIn[8], line 9\u001b[0m\n\u001b[0;32m      7\u001b[0m wdf \u001b[38;5;241m=\u001b[39m wdf[[\u001b[38;5;124m'\u001b[39m\u001b[38;5;124mcust_id_sender\u001b[39m\u001b[38;5;124m'\u001b[39m, \u001b[38;5;124m'\u001b[39m\u001b[38;5;124mcust_id_receiver\u001b[39m\u001b[38;5;124m'\u001b[39m, \u001b[38;5;124m'\u001b[39m\u001b[38;5;124mtrxn_id\u001b[39m\u001b[38;5;124m'\u001b[39m]]\u001b[38;5;241m.\u001b[39mcopy()\n\u001b[0;32m      8\u001b[0m wdf[\u001b[38;5;124m'\u001b[39m\u001b[38;5;124mtrxn_type\u001b[39m\u001b[38;5;124m'\u001b[39m] \u001b[38;5;241m=\u001b[39m \u001b[38;5;124m'\u001b[39m\u001b[38;5;124mwire\u001b[39m\u001b[38;5;124m'\u001b[39m\n\u001b[1;32m----> 9\u001b[0m wdf[\u001b[38;5;124m'\u001b[39m\u001b[38;5;124mscore\u001b[39m\u001b[38;5;124m'\u001b[39m] \u001b[38;5;241m=\u001b[39m np\u001b[38;5;241m.\u001b[39mrandom\u001b[38;5;241m.\u001b[39muniform(\u001b[38;5;241m0\u001b[39m,\u001b[38;5;241m1\u001b[39m, size\u001b[38;5;241m=\u001b[39medf\u001b[38;5;241m.\u001b[39mshape[\u001b[38;5;241m0\u001b[39m])\n\u001b[0;32m     11\u001b[0m outdf \u001b[38;5;241m=\u001b[39m pd\u001b[38;5;241m.\u001b[39mconcat([edf,wdf], index\u001b[38;5;241m=\u001b[39m\u001b[38;5;28;01mTrue\u001b[39;00m)\n\u001b[0;32m     12\u001b[0m outdf\u001b[38;5;241m.\u001b[39mto_parquet(DATAPATH \u001b[38;5;241m/\u001b[39m \u001b[38;5;124m'\u001b[39m\u001b[38;5;124mtemp_edge_score.parquet\u001b[39m\u001b[38;5;124m'\u001b[39m, index\u001b[38;5;241m=\u001b[39m\u001b[38;5;28;01mFalse\u001b[39;00m)\n",
      "File \u001b[1;32mD:\\miniconda\\envs\\bigdata\\Lib\\site-packages\\pandas\\core\\frame.py:4091\u001b[0m, in \u001b[0;36mDataFrame.__setitem__\u001b[1;34m(self, key, value)\u001b[0m\n\u001b[0;32m   4088\u001b[0m     \u001b[38;5;28mself\u001b[39m\u001b[38;5;241m.\u001b[39m_setitem_array([key], value)\n\u001b[0;32m   4089\u001b[0m \u001b[38;5;28;01melse\u001b[39;00m:\n\u001b[0;32m   4090\u001b[0m     \u001b[38;5;66;03m# set column\u001b[39;00m\n\u001b[1;32m-> 4091\u001b[0m     \u001b[38;5;28mself\u001b[39m\u001b[38;5;241m.\u001b[39m_set_item(key, value)\n",
      "File \u001b[1;32mD:\\miniconda\\envs\\bigdata\\Lib\\site-packages\\pandas\\core\\frame.py:4300\u001b[0m, in \u001b[0;36mDataFrame._set_item\u001b[1;34m(self, key, value)\u001b[0m\n\u001b[0;32m   4290\u001b[0m \u001b[38;5;28;01mdef\u001b[39;00m \u001b[38;5;21m_set_item\u001b[39m(\u001b[38;5;28mself\u001b[39m, key, value) \u001b[38;5;241m-\u001b[39m\u001b[38;5;241m>\u001b[39m \u001b[38;5;28;01mNone\u001b[39;00m:\n\u001b[0;32m   4291\u001b[0m \u001b[38;5;250m    \u001b[39m\u001b[38;5;124;03m\"\"\"\u001b[39;00m\n\u001b[0;32m   4292\u001b[0m \u001b[38;5;124;03m    Add series to DataFrame in specified column.\u001b[39;00m\n\u001b[0;32m   4293\u001b[0m \n\u001b[1;32m   (...)\u001b[0m\n\u001b[0;32m   4298\u001b[0m \u001b[38;5;124;03m    ensure homogeneity.\u001b[39;00m\n\u001b[0;32m   4299\u001b[0m \u001b[38;5;124;03m    \"\"\"\u001b[39;00m\n\u001b[1;32m-> 4300\u001b[0m     value, refs \u001b[38;5;241m=\u001b[39m \u001b[38;5;28mself\u001b[39m\u001b[38;5;241m.\u001b[39m_sanitize_column(value)\n\u001b[0;32m   4302\u001b[0m     \u001b[38;5;28;01mif\u001b[39;00m (\n\u001b[0;32m   4303\u001b[0m         key \u001b[38;5;129;01min\u001b[39;00m \u001b[38;5;28mself\u001b[39m\u001b[38;5;241m.\u001b[39mcolumns\n\u001b[0;32m   4304\u001b[0m         \u001b[38;5;129;01mand\u001b[39;00m value\u001b[38;5;241m.\u001b[39mndim \u001b[38;5;241m==\u001b[39m \u001b[38;5;241m1\u001b[39m\n\u001b[0;32m   4305\u001b[0m         \u001b[38;5;129;01mand\u001b[39;00m \u001b[38;5;129;01mnot\u001b[39;00m \u001b[38;5;28misinstance\u001b[39m(value\u001b[38;5;241m.\u001b[39mdtype, ExtensionDtype)\n\u001b[0;32m   4306\u001b[0m     ):\n\u001b[0;32m   4307\u001b[0m         \u001b[38;5;66;03m# broadcast across multiple columns if necessary\u001b[39;00m\n\u001b[0;32m   4308\u001b[0m         \u001b[38;5;28;01mif\u001b[39;00m \u001b[38;5;129;01mnot\u001b[39;00m \u001b[38;5;28mself\u001b[39m\u001b[38;5;241m.\u001b[39mcolumns\u001b[38;5;241m.\u001b[39mis_unique \u001b[38;5;129;01mor\u001b[39;00m \u001b[38;5;28misinstance\u001b[39m(\u001b[38;5;28mself\u001b[39m\u001b[38;5;241m.\u001b[39mcolumns, MultiIndex):\n",
      "File \u001b[1;32mD:\\miniconda\\envs\\bigdata\\Lib\\site-packages\\pandas\\core\\frame.py:5039\u001b[0m, in \u001b[0;36mDataFrame._sanitize_column\u001b[1;34m(self, value)\u001b[0m\n\u001b[0;32m   5036\u001b[0m     \u001b[38;5;28;01mreturn\u001b[39;00m _reindex_for_setitem(value, \u001b[38;5;28mself\u001b[39m\u001b[38;5;241m.\u001b[39mindex)\n\u001b[0;32m   5038\u001b[0m \u001b[38;5;28;01mif\u001b[39;00m is_list_like(value):\n\u001b[1;32m-> 5039\u001b[0m     com\u001b[38;5;241m.\u001b[39mrequire_length_match(value, \u001b[38;5;28mself\u001b[39m\u001b[38;5;241m.\u001b[39mindex)\n\u001b[0;32m   5040\u001b[0m \u001b[38;5;28;01mreturn\u001b[39;00m sanitize_array(value, \u001b[38;5;28mself\u001b[39m\u001b[38;5;241m.\u001b[39mindex, copy\u001b[38;5;241m=\u001b[39m\u001b[38;5;28;01mTrue\u001b[39;00m, allow_2d\u001b[38;5;241m=\u001b[39m\u001b[38;5;28;01mTrue\u001b[39;00m), \u001b[38;5;28;01mNone\u001b[39;00m\n",
      "File \u001b[1;32mD:\\miniconda\\envs\\bigdata\\Lib\\site-packages\\pandas\\core\\common.py:561\u001b[0m, in \u001b[0;36mrequire_length_match\u001b[1;34m(data, index)\u001b[0m\n\u001b[0;32m    557\u001b[0m \u001b[38;5;250m\u001b[39m\u001b[38;5;124;03m\"\"\"\u001b[39;00m\n\u001b[0;32m    558\u001b[0m \u001b[38;5;124;03mCheck the length of data matches the length of the index.\u001b[39;00m\n\u001b[0;32m    559\u001b[0m \u001b[38;5;124;03m\"\"\"\u001b[39;00m\n\u001b[0;32m    560\u001b[0m \u001b[38;5;28;01mif\u001b[39;00m \u001b[38;5;28mlen\u001b[39m(data) \u001b[38;5;241m!=\u001b[39m \u001b[38;5;28mlen\u001b[39m(index):\n\u001b[1;32m--> 561\u001b[0m     \u001b[38;5;28;01mraise\u001b[39;00m \u001b[38;5;167;01mValueError\u001b[39;00m(\n\u001b[0;32m    562\u001b[0m         \u001b[38;5;124m\"\u001b[39m\u001b[38;5;124mLength of values \u001b[39m\u001b[38;5;124m\"\u001b[39m\n\u001b[0;32m    563\u001b[0m         \u001b[38;5;124mf\u001b[39m\u001b[38;5;124m\"\u001b[39m\u001b[38;5;124m(\u001b[39m\u001b[38;5;132;01m{\u001b[39;00m\u001b[38;5;28mlen\u001b[39m(data)\u001b[38;5;132;01m}\u001b[39;00m\u001b[38;5;124m) \u001b[39m\u001b[38;5;124m\"\u001b[39m\n\u001b[0;32m    564\u001b[0m         \u001b[38;5;124m\"\u001b[39m\u001b[38;5;124mdoes not match length of index \u001b[39m\u001b[38;5;124m\"\u001b[39m\n\u001b[0;32m    565\u001b[0m         \u001b[38;5;124mf\u001b[39m\u001b[38;5;124m\"\u001b[39m\u001b[38;5;124m(\u001b[39m\u001b[38;5;132;01m{\u001b[39;00m\u001b[38;5;28mlen\u001b[39m(index)\u001b[38;5;132;01m}\u001b[39;00m\u001b[38;5;124m)\u001b[39m\u001b[38;5;124m\"\u001b[39m\n\u001b[0;32m    566\u001b[0m     )\n",
      "\u001b[1;31mValueError\u001b[0m: Length of values (506451) does not match length of index (67872)"
     ]
    }
   ],
   "source": [
    "edf = pd.read_parquet(EPATH)\n",
    "edf = edf[['cust_id_sender', 'cust_id_receiver', 'trxn_id']].copy()\n",
    "edf['trxn_type'] = 'emt'\n",
    "edf['score'] = np.random.uniform(0,1, size=edf.shape[0])\n",
    "\n",
    "wdf = pd.read_parquet(WIREPATH)\n",
    "wdf = wdf[['cust_id_sender', 'cust_id_receiver', 'trxn_id']].copy()\n",
    "wdf['trxn_type'] = 'wire'\n",
    "wdf['score'] = np.random.uniform(0,1, size=edf.shape[0])\n",
    "\n",
    "outdf = pd.concat([edf,wdf], index=True)\n",
    "outdf.to_parquet(DATAPATH / 'temp_edge_score.parquet', index=False)"
   ]
  },
  {
   "cell_type": "code",
   "execution_count": null,
   "id": "ee097f39-05b0-4722-827e-a48bfdf4ba8f",
   "metadata": {},
   "outputs": [],
   "source": []
  }
 ],
 "metadata": {
  "kernelspec": {
   "display_name": "Python [conda env:bigdata]",
   "language": "python",
   "name": "conda-env-bigdata-py"
  },
  "language_info": {
   "codemirror_mode": {
    "name": "ipython",
    "version": 3
   },
   "file_extension": ".py",
   "mimetype": "text/x-python",
   "name": "python",
   "nbconvert_exporter": "python",
   "pygments_lexer": "ipython3",
   "version": "3.11.5"
  }
 },
 "nbformat": 4,
 "nbformat_minor": 5
}
