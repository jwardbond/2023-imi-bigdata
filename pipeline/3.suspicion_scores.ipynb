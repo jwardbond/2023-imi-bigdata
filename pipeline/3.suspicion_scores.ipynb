{
 "cells": [
  {
   "cell_type": "code",
   "execution_count": 1,
   "id": "296561bb",
   "metadata": {},
   "outputs": [],
   "source": [
    "import pandas as pd\n",
    "import numpy as np"
   ]
  },
  {
   "cell_type": "markdown",
   "id": "1498af0b-0d8c-4972-a3f3-b32911c651eb",
   "metadata": {},
   "source": [
    "# Suspicion Score\n",
    "\n",
    "There are three reasons why a node might be suspicious: \n",
    "1. The KYC data (node data, eg. occupation) is suspicious\n",
    "2. The transactions (edges, e.g. e-transfer messages) around that node are suspicious\n",
    "3. The graph structure around that node is suspicious (e.g. in a 'mule' structure)\n",
    "\n",
    "The purpose of this notebook is to aggregate those three factors (and the indicators contained therein) to come up with an explainable total node suspicion score. \n",
    "\n",
    "TODO:\n",
    "\n",
    "- Aggregate node indicators (JWB)\n",
    "- Aggregate e-transfer features (MM)\n",
    "- Aggregate wire-transfer features (JWB)\n",
    "- Aggregate cash-transfer features (JWB)\n",
    "- Aggregate general features (AGG)\n",
    "- PageRank (MM)\n",
    "- Find a suspicious network (AGG)"
   ]
  },
  {
   "cell_type": "markdown",
   "id": "cc1ad513-f649-43f4-b2ef-41bda1af972b",
   "metadata": {},
   "source": [
    "# Node Suspicion Score"
   ]
  },
  {
   "cell_type": "markdown",
   "id": "c8526286-76ad-4480-99a8-c14486bf805c",
   "metadata": {},
   "source": [
    "*Basically weighting the occupation indicators, anything else that is in KYC data to begin with that we want to use*"
   ]
  },
  {
   "cell_type": "markdown",
   "id": "0469d859-30d3-4f60-8000-dc601fe0e660",
   "metadata": {},
   "source": [
    "## KYC Aggregation"
   ]
  },
  {
   "cell_type": "code",
   "execution_count": 2,
   "id": "515b78ef-5682-470c-8008-8bf911925d99",
   "metadata": {},
   "outputs": [],
   "source": [
    "#Jesse code here"
   ]
  },
  {
   "cell_type": "markdown",
   "id": "1fa2c62e-08ed-4939-9424-cd80887d630f",
   "metadata": {},
   "source": [
    "## Cash Aggregation\n",
    "For the purposes of this project, we consider cash transactions as only occuring between one customer (i.e. the bank does *not* count as a customer). This prevents graph neighbourhoods from being too dense (everyone is connected to the bank, so everyone is a 2-hop neighbour). \n",
    "\n",
    "For practical purposes, this means that indicators related to deposit/withdrawal size become node scores, rather than edge scores."
   ]
  },
  {
   "cell_type": "code",
   "execution_count": 1,
   "id": "2032d2de-4f7a-4319-a41c-7777cef9ae62",
   "metadata": {},
   "outputs": [],
   "source": [
    "#Jesse code here"
   ]
  },
  {
   "cell_type": "markdown",
   "id": "3bdf19dd-41c6-4c2c-8093-0a775dd96d4a",
   "metadata": {},
   "source": [
    "## Node Score Calculation"
   ]
  },
  {
   "cell_type": "code",
   "execution_count": 3,
   "id": "835ea415-ca2e-4a3e-9fd3-461d2f0df29a",
   "metadata": {},
   "outputs": [],
   "source": [
    "#Jesse to combine cash + kyc aggregates into node score\n",
    "#Jesse to export to cust_id, score csv"
   ]
  },
  {
   "cell_type": "markdown",
   "id": "10c0e03c",
   "metadata": {},
   "source": [
    "# Edge Suspicion Score\n",
    "Features starting with **agg** are aggregates of pre-computed transaction features."
   ]
  },
  {
   "cell_type": "markdown",
   "id": "345c8f62-fae8-495d-9165-a11c5fe65fce",
   "metadata": {},
   "source": [
    "## E-transfer aggregation"
   ]
  },
  {
   "cell_type": "code",
   "execution_count": null,
   "id": "4d99a422-9b30-44f1-809a-7b12d1189237",
   "metadata": {},
   "outputs": [],
   "source": [
    "#Maaz code here"
   ]
  },
  {
   "cell_type": "markdown",
   "id": "95daf1e3-ebe8-4875-a955-026ef3433035",
   "metadata": {},
   "source": [
    "## Wire transfer aggregation"
   ]
  },
  {
   "cell_type": "code",
   "execution_count": null,
   "id": "b1a2c162-5087-42f0-94eb-bbc350158fd2",
   "metadata": {},
   "outputs": [],
   "source": [
    "#Jesse code here"
   ]
  },
  {
   "cell_type": "markdown",
   "id": "6830e6aa-1167-4e7d-8493-bb1def1007be",
   "metadata": {},
   "source": [
    "## Edge Score Calculation"
   ]
  },
  {
   "cell_type": "code",
   "execution_count": null,
   "id": "f8f57e61-5a42-41c1-9eb1-1e604a7ae912",
   "metadata": {},
   "outputs": [],
   "source": [
    "#Alex to add general transaction scores\n",
    "#Alex to combine all transaction aggegration flags\n",
    "#Alex to export to 2x csv with cust_id_sender, cust_id_reciever, score"
   ]
  },
  {
   "cell_type": "markdown",
   "id": "7f669a22-f5df-417a-a00c-3da9968104a8",
   "metadata": {},
   "source": [
    "## General transaction aggregates"
   ]
  }
 ],
 "metadata": {
  "kernelspec": {
   "display_name": "Python [conda env:bigdata]",
   "language": "python",
   "name": "conda-env-bigdata-py"
  },
  "language_info": {
   "codemirror_mode": {
    "name": "ipython",
    "version": 3
   },
   "file_extension": ".py",
   "mimetype": "text/x-python",
   "name": "python",
   "nbconvert_exporter": "python",
   "pygments_lexer": "ipython3",
   "version": "3.11.5"
  }
 },
 "nbformat": 4,
 "nbformat_minor": 5
}
