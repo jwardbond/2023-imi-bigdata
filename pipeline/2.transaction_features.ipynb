{
 "cells": [
  {
   "cell_type": "code",
   "execution_count": 1,
   "id": "e191c1bc",
   "metadata": {},
   "outputs": [],
   "source": [
    "import pandas as pd\n",
    "import numpy as np"
   ]
  },
  {
   "cell_type": "markdown",
   "id": "83aa4662",
   "metadata": {},
   "source": [
    "# Transaction Feature Engineering"
   ]
  },
  {
   "cell_type": "markdown",
   "id": "2b4e1358",
   "metadata": {},
   "source": [
    "## E-transfer Transaction Features\n",
    "- msg contents?"
   ]
  },
  {
   "cell_type": "markdown",
   "id": "4dbe9b80",
   "metadata": {},
   "source": [
    "## Wire Transfer Transaction Features\n",
    "- sus country?"
   ]
  },
  {
   "cell_type": "markdown",
   "id": "9f743aef",
   "metadata": {},
   "source": [
    "## Cash Transaction Features"
   ]
  },
  {
   "cell_type": "markdown",
   "id": "be0632e5",
   "metadata": {},
   "source": [
    "- unusual/large amounts?"
   ]
  }
 ],
 "metadata": {
  "kernelspec": {
   "display_name": "Python [conda env:bigdata]",
   "language": "python",
   "name": "conda-env-bigdata-py"
  },
  "language_info": {
   "codemirror_mode": {
    "name": "ipython",
    "version": 3
   },
   "file_extension": ".py",
   "mimetype": "text/x-python",
   "name": "python",
   "nbconvert_exporter": "python",
   "pygments_lexer": "ipython3",
   "version": "3.10.13"
  }
 },
 "nbformat": 4,
 "nbformat_minor": 5
}
