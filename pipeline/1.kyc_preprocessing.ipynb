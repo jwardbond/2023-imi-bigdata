{
 "cells": [
  {
   "cell_type": "code",
   "execution_count": 2,
   "id": "0fb1b737",
   "metadata": {},
   "outputs": [],
   "source": [
    "import pandas as pd\n",
    "import numpy as np\n",
    "import csv"
   ]
  },
  {
   "cell_type": "markdown",
   "id": "01881ef8",
   "metadata": {},
   "source": [
    "# KYC Preprocessing"
   ]
  },
  {
   "cell_type": "markdown",
   "id": "28846497",
   "metadata": {},
   "source": [
    "The purpose of this notebook is to add occupation-specific indicators to the KYC data. Indicators are binary flags representing whether or not a client's occupation is part of a specific subset of occupations. These subsets were determined using Fintrac and financial crime recommendations. Mainly:\n",
    "\n",
    "Per the [Fintrac Operational Alert](https://fintrac-canafe.canada.ca/intel/operation/oai-wildlife-eng), one indicator is \"An individual is the owner, operator, employee or associated with an industry that could be used to facilitate illegal wildlife trade (e.g., import/export of goods, fisheries wholesaler, pet store, freight company, animal control).\" (**G**)\n",
    "\n",
    "The [Financial Crime Academy](https://financialcrimeacademy.org/wildlife-trade-risk-indicators-financial/?fbclid=IwAR1XSw09Vtl4mjOOQj_eTFuqZ_GKqM-SPsCJwQKcyFb-XWU4O6nO8zBo3JU) adds that another \"indicator relates to activity involving politically exposed persons and wealthy businessmen/women, particularly those with environmental, game, or forestry oversight or environmental or wildlife-related businesses.\" (**G**)\n",
    "\n",
    "We have therefore come up with the following indicators based on KYC occupation data:\n",
    "- `occ_wealth` \n",
    "    - binary \n",
    "    - 1 if the client's occupation involves frequent exposure to wealthy people, 0 otherwise.\n",
    "- `occ_animal` \n",
    "    - binary \n",
    "    - 1 if the client's occupation involves working with animals, 0 otherwise.\n",
    "- `occ_int` \n",
    "    - binary \n",
    "    - 1 if the client works international trade, 0 otherwise.\n",
    "- `occ_shipping`\n",
    "    - binary\n",
    "    - 1 if the client works in shipping/postal/cargo services\n",
    "    - *there are no examples of this in our data*"
   ]
  },
  {
   "cell_type": "code",
   "execution_count": 1,
   "id": "5305f0ab",
   "metadata": {},
   "outputs": [
    {
     "ename": "NameError",
     "evalue": "name 'pd' is not defined",
     "output_type": "error",
     "traceback": [
      "\u001b[1;31m---------------------------------------------------------------------------\u001b[0m",
      "\u001b[1;31mNameError\u001b[0m                                 Traceback (most recent call last)",
      "Cell \u001b[1;32mIn[1], line 2\u001b[0m\n\u001b[0;32m      1\u001b[0m \u001b[38;5;66;03m# Adding the occupation-based indicators to raw data\u001b[39;00m\n\u001b[1;32m----> 2\u001b[0m raw \u001b[38;5;241m=\u001b[39m pd\u001b[38;5;241m.\u001b[39mread_csv(\u001b[38;5;124m'\u001b[39m\u001b[38;5;124m../../data/raw/kyc.csv\u001b[39m\u001b[38;5;124m'\u001b[39m)\n\u001b[0;32m      3\u001b[0m occ \u001b[38;5;241m=\u001b[39m pd\u001b[38;5;241m.\u001b[39mread_csv(\u001b[38;5;124m'\u001b[39m\u001b[38;5;124m../../data/occupation_list.csv\u001b[39m\u001b[38;5;124m'\u001b[39m)\n\u001b[0;32m      5\u001b[0m merged \u001b[38;5;241m=\u001b[39m raw\u001b[38;5;241m.\u001b[39mmerge(occ, \u001b[38;5;124m'\u001b[39m\u001b[38;5;124mleft\u001b[39m\u001b[38;5;124m'\u001b[39m, on\u001b[38;5;241m=\u001b[39m\u001b[38;5;124m'\u001b[39m\u001b[38;5;124mOccupation\u001b[39m\u001b[38;5;124m'\u001b[39m)\n",
      "\u001b[1;31mNameError\u001b[0m: name 'pd' is not defined"
     ]
    }
   ],
   "source": [
    "# Adding the occupation-based indicators to raw data\n",
    "raw = pd.read_csv('../../data/raw/kyc.csv')\n",
    "occ = pd.read_csv('../../data/occupation_list.csv')\n",
    "\n",
    "merged = raw.merge(occ, 'left', on='Occupation')\n",
    "\n",
    "# Re-order columns\n",
    "cols = list(merged.columns)\n",
    "cols.append(cols.pop(cols.index('label')))\n",
    "merged = merged[cols]\n",
    "\n",
    "# Export\n",
    "display(merged.head(3))\n",
    "merged.to_csv('kyc_adj.csv', index=False)"
   ]
  },
  {
   "cell_type": "code",
   "execution_count": null,
   "id": "8f4d93bd-2c44-417d-8369-a57b27b06af2",
   "metadata": {},
   "outputs": [],
   "source": []
  }
 ],
 "metadata": {
  "kernelspec": {
   "display_name": "Python [conda env:bigdata]",
   "language": "python",
   "name": "conda-env-bigdata-py"
  },
  "language_info": {
   "codemirror_mode": {
    "name": "ipython",
    "version": 3
   },
   "file_extension": ".py",
   "mimetype": "text/x-python",
   "name": "python",
   "nbconvert_exporter": "python",
   "pygments_lexer": "ipython3",
   "version": "3.11.5"
  }
 },
 "nbformat": 4,
 "nbformat_minor": 5
}
