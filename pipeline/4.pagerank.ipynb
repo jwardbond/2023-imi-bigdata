{
 "cells": [
  {
   "cell_type": "code",
   "execution_count": 2,
   "id": "5dfea226-5f01-48bd-a0bd-8abd9d5206af",
   "metadata": {},
   "outputs": [],
   "source": [
    "from sklearn.preprocessing import LabelEncoder\n",
    "from scipy.sparse import coo_array\n",
    "from pathlib import Path\n",
    "import networkx as nx\n",
    "import pandas as pd\n",
    "import numpy as np\n",
    "# from cdlib import algorithms"
   ]
  },
  {
   "cell_type": "markdown",
   "id": "4493be64-7605-45cd-9dde-560d7c5522ae",
   "metadata": {},
   "source": [
    "# TODO \n",
    "- May need to find a better way of incorporating # of transactions\n",
    "- Method 2 (multiplicative)\n",
    "- CHANGE EDGE DATASETS TO USE ACTUAL DATA\n",
    "- In 1. Add starting suspicions\n",
    "- In 3. Add reverse edges"
   ]
  },
  {
   "cell_type": "markdown",
   "id": "7914ab7e-e930-43d8-b860-bcce7867125b",
   "metadata": {},
   "source": [
    "# 1. Appending Node Scores\n",
    "1. Calculate pagerank with edge score only\n",
    "2. Scale pageranks by min and max pageranks\n",
    "3. Add node scores to pageranks"
   ]
  },
  {
   "cell_type": "code",
   "execution_count": 4,
   "id": "498e8bb4-e774-475c-a125-a5a750fc7fef",
   "metadata": {},
   "outputs": [],
   "source": [
    "DATAPATH = Path('../data/processed')\n",
    "\n",
    "n_df = pd.read_parquet(DATAPATH / 'node_score.parquet')\n",
    "e_df = pd.read_parquet(DATAPATH / 'temp_edge_score.parquet')"
   ]
  },
  {
   "cell_type": "code",
   "execution_count": 9,
   "id": "78d30053-d258-4e05-8a3e-0f7fcbdbf02b",
   "metadata": {},
   "outputs": [],
   "source": [
    "# Combine identical edges\n",
    "e_df = e_df.groupby(['cust_id_sender', 'cust_id_receiver'], as_index=False)['score'].sum()\n",
    "\n",
    "# Construct graph\n",
    "G = nx.from_pandas_edgelist(e_df, 'cust_id_sender', 'cust_id_receiver', edge_attr='score', create_using=nx.DiGraph())\n",
    "\n",
    "# Pagerank\n",
    "pr = nx.pagerank(G, weight='score')"
   ]
  },
  {
   "cell_type": "code",
   "execution_count": 17,
   "id": "8ee6d77f-f281-40bb-b7a1-fb34e5adfc90",
   "metadata": {},
   "outputs": [
    {
     "data": {
      "text/html": [
       "<div>\n",
       "<style scoped>\n",
       "    .dataframe tbody tr th:only-of-type {\n",
       "        vertical-align: middle;\n",
       "    }\n",
       "\n",
       "    .dataframe tbody tr th {\n",
       "        vertical-align: top;\n",
       "    }\n",
       "\n",
       "    .dataframe thead th {\n",
       "        text-align: right;\n",
       "    }\n",
       "</style>\n",
       "<table border=\"1\" class=\"dataframe\">\n",
       "  <thead>\n",
       "    <tr style=\"text-align: right;\">\n",
       "      <th></th>\n",
       "      <th>cust_id</th>\n",
       "      <th>score</th>\n",
       "    </tr>\n",
       "  </thead>\n",
       "  <tbody>\n",
       "    <tr>\n",
       "      <th>226904</th>\n",
       "      <td>EXTERNAL388508</td>\n",
       "      <td>0.000000</td>\n",
       "    </tr>\n",
       "    <tr>\n",
       "      <th>110410</th>\n",
       "      <td>CUST43942889</td>\n",
       "      <td>0.259206</td>\n",
       "    </tr>\n",
       "    <tr>\n",
       "      <th>119704</th>\n",
       "      <td>CUST48571588</td>\n",
       "      <td>0.081349</td>\n",
       "    </tr>\n",
       "  </tbody>\n",
       "</table>\n",
       "</div>"
      ],
      "text/plain": [
       "               cust_id     score\n",
       "226904  EXTERNAL388508  0.000000\n",
       "110410    CUST43942889  0.259206\n",
       "119704    CUST48571588  0.081349"
      ]
     },
     "execution_count": 17,
     "metadata": {},
     "output_type": "execute_result"
    }
   ],
   "source": [
    "# Scaling\n",
    "pr_df = pd.DataFrame.from_dict(pr, orient='index').reset_index()\n",
    "pr_df = pr_df.rename(columns={'index': 'cust_id', 0:'score'})\n",
    "\n",
    "max_score = pr_df['score'].max()\n",
    "min_score = pr_df['score'].min()\n",
    "pr_df['score'] = (pr_df['score'] - min_score)/(max_score - min_score)\n",
    "\n",
    "# Adding node scores\n",
    "# pr_df = pr_df.merge(n_df, on='cust_id', how='left')\n",
    "# pr_df['score_y'] = pr_df['score_y'].fillna(0)\n",
    "# pr_df['score'] = pr_df['score_x']+pr_df['score_y']\n",
    "pr_df = pr_df[['cust_id', 'score']]\n",
    "\n",
    "# Exporting\n",
    "pr_df.to_parquet(DATAPATH / 'pagerank_1.parquet')\n",
    "pr_df.sample(3)"
   ]
  },
  {
   "cell_type": "markdown",
   "id": "21192d75-7058-4bc2-b2d6-ec11e7095b9b",
   "metadata": {},
   "source": [
    "# 2. Cdlib"
   ]
  },
  {
   "cell_type": "code",
   "execution_count": 52,
   "id": "531c297d",
   "metadata": {},
   "outputs": [],
   "source": [
    "DATAPATH = Path('../data/processed')\n",
    "\n",
    "n_df = pd.read_parquet(DATAPATH / 'node_score.parquet')\n",
    "n_df.set_index('cust_id', inplace=True)\n",
    "e_df = pd.read_parquet(DATAPATH / 'temp_edge_score.parquet')"
   ]
  },
  {
   "cell_type": "code",
   "execution_count": 54,
   "id": "26362394",
   "metadata": {},
   "outputs": [],
   "source": [
    "e_df = e_df[(e_df['cust_id_receiver'].isin(n_df.index)) & (e_df['cust_id_sender'].isin(n_df.index)) ] # for some reason e_df had nodes which were not in n_df"
   ]
  },
  {
   "cell_type": "code",
   "execution_count": 58,
   "id": "043879be",
   "metadata": {},
   "outputs": [],
   "source": [
    "G = nx.from_pandas_edgelist(e_df, 'cust_id_sender', 'cust_id_receiver', edge_attr='score', create_using=nx.Graph())"
   ]
  },
  {
   "cell_type": "code",
   "execution_count": 63,
   "id": "e54f1392",
   "metadata": {},
   "outputs": [],
   "source": [
    "# ran this for an hour, it did not finish\n",
    "# other option from cdlib is algorithms.ilouvain, but when I tried running that, it said it would need 40 gb memory lol\n",
    "\n",
    "# communities = algorithms.eva(G, n_df.to_dict(orient='index'))"
   ]
  },
  {
   "cell_type": "markdown",
   "id": "633721e6-cf0d-4cd7-9df0-28a3d0316785",
   "metadata": {},
   "source": [
    "# 3. Zhang et al. Method\n",
    "This method uses the pagerank technique outlined in [Zhang *et al.,* 2022](https://arxiv.org/abs/2104.02764). \n",
    "\n",
    "Mainly: \n",
    "\n",
    "Let $M$ be a transition matrix with: \n",
    "$$m_{ij} = \\begin{cases}\n",
    "    \\theta w_{ji}/s_j^{out} + (1-\\theta)a_{ji}/d_j^{out} && \\texttt{if}\\; d_j^{out}\\neq 0\\\\\n",
    "    \\beta_{i}/\\sum_{i\\in V}\\beta_i && \\texttt{if}\\; d_j^{out}=0\n",
    "\\end{cases}$$\n",
    "Where: \n",
    "- $\\theta$ is a tunable parameter that represents how important weights should be in the pagerank alg\n",
    "- $w_{ji}$ is the weight of an edge from node $j \\rightarrow i$\n",
    "- $s_j^{out} = \\sum_{v \\in V|j \\rightarrow v}w_{jv}$ is the \"strength\" of outgoing edges from node $j$\n",
    "- $a_{ji}$ = $1 \\:\\texttt{if}\\: j \\rightarrow i \\:\\texttt{else}\\: 0$\n",
    "- $d_j^{out} = \\sum_{v \\in V|j \\rightarrow v}a_{jv}$\n",
    "- $\\beta_i$ is the node importance score\n",
    "  \n",
    "\n",
    "\n",
    "Then the pagerank can be calculated with power iterations on\n",
    "$$P=\\gamma MP + (1-\\gamma)\\boldsymbol{\\beta}/||\\boldsymbol{\\beta}||_1$$\n",
    "\n",
    "Where:\n",
    "- $1-\\gamma$ is a tunable parameter representing the probability of restarting a random walk (typically 0.8-0.9)\n",
    "\n",
    "---\n",
    "*note the other formulation in the paper results in a dense transition matrix that is nxn.... too big*\n",
    "\n",
    "*note that for $m_{ij}$, $i$ is the target and $j$ is the source*"
   ]
  },
  {
   "cell_type": "code",
   "execution_count": 3,
   "id": "a1b46f95-cf7e-4c31-b530-35bb784e7e75",
   "metadata": {},
   "outputs": [],
   "source": [
    "THETA = 0\n",
    "GAMMA = 0.5\n",
    "\n",
    "DATAPATH = Path('../data/processed')\n",
    "\n",
    "n_df = pd.read_parquet(DATAPATH / 'node_score.parquet')\n",
    "e_df = pd.read_parquet(DATAPATH / 'temp_edge_score.parquet')\n",
    "e_df = e_df[['cust_id_sender', 'cust_id_receiver', 'score']].copy()"
   ]
  },
  {
   "cell_type": "markdown",
   "id": "6452c23d-0ff9-4ea8-84b6-e0a6a4e752d7",
   "metadata": {},
   "source": [
    "## Constructing $\\boldsymbol{\\beta}/||\\boldsymbol{\\beta}||_1$"
   ]
  },
  {
   "cell_type": "code",
   "execution_count": 4,
   "id": "f6e38a9d-d87d-47df-a950-ea2e0614c03d",
   "metadata": {},
   "outputs": [],
   "source": [
    "# Get all nodes in the graph\n",
    "node_list = []\n",
    "node_list.extend(e_df.cust_id_sender.tolist() + e_df.cust_id_receiver.tolist())\n",
    "node_list = list(set(node_list)) #hack to remove duplicates"
   ]
  },
  {
   "cell_type": "code",
   "execution_count": 5,
   "id": "d9da848d-28fa-4ba7-a223-01ab53da7074",
   "metadata": {},
   "outputs": [
    {
     "data": {
      "text/html": [
       "<div>\n",
       "<style scoped>\n",
       "    .dataframe tbody tr th:only-of-type {\n",
       "        vertical-align: middle;\n",
       "    }\n",
       "\n",
       "    .dataframe tbody tr th {\n",
       "        vertical-align: top;\n",
       "    }\n",
       "\n",
       "    .dataframe thead th {\n",
       "        text-align: right;\n",
       "    }\n",
       "</style>\n",
       "<table border=\"1\" class=\"dataframe\">\n",
       "  <thead>\n",
       "    <tr style=\"text-align: right;\">\n",
       "      <th></th>\n",
       "      <th>cust_id</th>\n",
       "      <th>b_i</th>\n",
       "    </tr>\n",
       "  </thead>\n",
       "  <tbody>\n",
       "    <tr>\n",
       "      <th>229569</th>\n",
       "      <td>CUST20015461</td>\n",
       "      <td>0.000093</td>\n",
       "    </tr>\n",
       "    <tr>\n",
       "      <th>143147</th>\n",
       "      <td>CUST55502501</td>\n",
       "      <td>0.000093</td>\n",
       "    </tr>\n",
       "    <tr>\n",
       "      <th>187219</th>\n",
       "      <td>CUST46707759</td>\n",
       "      <td>0.000093</td>\n",
       "    </tr>\n",
       "  </tbody>\n",
       "</table>\n",
       "</div>"
      ],
      "text/plain": [
       "             cust_id       b_i\n",
       "229569  CUST20015461  0.000093\n",
       "143147  CUST55502501  0.000093\n",
       "187219  CUST46707759  0.000093"
      ]
     },
     "execution_count": 5,
     "metadata": {},
     "output_type": "execute_result"
    }
   ],
   "source": [
    "# Construct B\n",
    "b_df = pd.DataFrame(data={'cust_id':node_list})\n",
    "b_df = b_df.merge(n_df, on='cust_id', how='left')\n",
    "b_df = b_df.rename(columns={'score':'b_i'})\n",
    "b_df = b_df.fillna(0)\n",
    "\n",
    "one_norm = abs(b_df['b_i']).sum()\n",
    "\n",
    "b_df['b_i'] = b_df['b_i'] / one_norm\n",
    "\n",
    "b_df.sort_values('b_i', ascending=False).head(3)"
   ]
  },
  {
   "cell_type": "markdown",
   "id": "94ec027c-8c55-4a4a-81ee-2d2275cd2b4a",
   "metadata": {},
   "source": [
    "## Node Encoding\n",
    "This section encodes the cust_ids ordinally."
   ]
  },
  {
   "cell_type": "code",
   "execution_count": 6,
   "id": "c43742b6-a5f3-48ea-a997-cb989d64106e",
   "metadata": {},
   "outputs": [
    {
     "data": {
      "text/html": [
       "<div>\n",
       "<style scoped>\n",
       "    .dataframe tbody tr th:only-of-type {\n",
       "        vertical-align: middle;\n",
       "    }\n",
       "\n",
       "    .dataframe tbody tr th {\n",
       "        vertical-align: top;\n",
       "    }\n",
       "\n",
       "    .dataframe thead th {\n",
       "        text-align: right;\n",
       "    }\n",
       "</style>\n",
       "<table border=\"1\" class=\"dataframe\">\n",
       "  <thead>\n",
       "    <tr style=\"text-align: right;\">\n",
       "      <th></th>\n",
       "      <th>cust_id_sender</th>\n",
       "      <th>cust_id_receiver</th>\n",
       "      <th>score</th>\n",
       "    </tr>\n",
       "  </thead>\n",
       "  <tbody>\n",
       "    <tr>\n",
       "      <th>428821</th>\n",
       "      <td>258084</td>\n",
       "      <td>38623</td>\n",
       "      <td>0.0</td>\n",
       "    </tr>\n",
       "    <tr>\n",
       "      <th>489061</th>\n",
       "      <td>41523</td>\n",
       "      <td>35674</td>\n",
       "      <td>0.0</td>\n",
       "    </tr>\n",
       "    <tr>\n",
       "      <th>303</th>\n",
       "      <td>263741</td>\n",
       "      <td>113920</td>\n",
       "      <td>0.0</td>\n",
       "    </tr>\n",
       "  </tbody>\n",
       "</table>\n",
       "</div>"
      ],
      "text/plain": [
       "        cust_id_sender  cust_id_receiver  score\n",
       "428821          258084             38623    0.0\n",
       "489061           41523             35674    0.0\n",
       "303             263741            113920    0.0"
      ]
     },
     "execution_count": 6,
     "metadata": {},
     "output_type": "execute_result"
    }
   ],
   "source": [
    "le = LabelEncoder()\n",
    "le.fit(node_list)\n",
    "\n",
    "e_df['cust_id_sender'] = le.transform(e_df['cust_id_sender'])\n",
    "e_df['cust_id_receiver'] = le.transform(e_df['cust_id_receiver'])\n",
    "\n",
    "b_df['cust_id'] = le.transform(b_df['cust_id'])\n",
    "\n",
    "e_df.sample(3)"
   ]
  },
  {
   "cell_type": "markdown",
   "id": "df2b898d-f086-43e6-940d-7431d9abf66c",
   "metadata": {},
   "source": [
    "## Constructing $M$\n",
    "*note that for $m_{ij}$, $i$ is the target node and $j$ is the source node*"
   ]
  },
  {
   "cell_type": "code",
   "execution_count": 7,
   "id": "c33008b5-31d1-42be-b60f-504b34e97c62",
   "metadata": {},
   "outputs": [
    {
     "data": {
      "text/html": [
       "<div>\n",
       "<style scoped>\n",
       "    .dataframe tbody tr th:only-of-type {\n",
       "        vertical-align: middle;\n",
       "    }\n",
       "\n",
       "    .dataframe tbody tr th {\n",
       "        vertical-align: top;\n",
       "    }\n",
       "\n",
       "    .dataframe thead th {\n",
       "        text-align: right;\n",
       "    }\n",
       "</style>\n",
       "<table border=\"1\" class=\"dataframe\">\n",
       "  <thead>\n",
       "    <tr style=\"text-align: right;\">\n",
       "      <th></th>\n",
       "      <th>cust_id_sender</th>\n",
       "      <th>cust_id_receiver</th>\n",
       "      <th>score</th>\n",
       "      <th>w_ji</th>\n",
       "      <th>a_ji</th>\n",
       "      <th>s_j</th>\n",
       "      <th>d_j</th>\n",
       "      <th>cust_id</th>\n",
       "      <th>b_i</th>\n",
       "    </tr>\n",
       "  </thead>\n",
       "  <tbody>\n",
       "    <tr>\n",
       "      <th>20456</th>\n",
       "      <td>171591</td>\n",
       "      <td>78444</td>\n",
       "      <td>0.0</td>\n",
       "      <td>0.0</td>\n",
       "      <td>1</td>\n",
       "      <td>0.0</td>\n",
       "      <td>2</td>\n",
       "      <td>78444</td>\n",
       "      <td>0.00000</td>\n",
       "    </tr>\n",
       "    <tr>\n",
       "      <th>210359</th>\n",
       "      <td>245590</td>\n",
       "      <td>4923</td>\n",
       "      <td>0.0</td>\n",
       "      <td>0.0</td>\n",
       "      <td>1</td>\n",
       "      <td>1.5</td>\n",
       "      <td>6</td>\n",
       "      <td>4923</td>\n",
       "      <td>0.00005</td>\n",
       "    </tr>\n",
       "    <tr>\n",
       "      <th>473256</th>\n",
       "      <td>136945</td>\n",
       "      <td>118838</td>\n",
       "      <td>0.0</td>\n",
       "      <td>0.0</td>\n",
       "      <td>1</td>\n",
       "      <td>0.0</td>\n",
       "      <td>6</td>\n",
       "      <td>118838</td>\n",
       "      <td>0.00000</td>\n",
       "    </tr>\n",
       "  </tbody>\n",
       "</table>\n",
       "</div>"
      ],
      "text/plain": [
       "        cust_id_sender  cust_id_receiver  score  w_ji  a_ji  s_j  d_j  \\\n",
       "20456           171591             78444    0.0   0.0     1  0.0    2   \n",
       "210359          245590              4923    0.0   0.0     1  1.5    6   \n",
       "473256          136945            118838    0.0   0.0     1  0.0    6   \n",
       "\n",
       "        cust_id      b_i  \n",
       "20456     78444  0.00000  \n",
       "210359     4923  0.00005  \n",
       "473256   118838  0.00000  "
      ]
     },
     "execution_count": 7,
     "metadata": {},
     "output_type": "execute_result"
    }
   ],
   "source": [
    "#Calculate w_ji\n",
    "w_df = e_df.groupby(['cust_id_sender', 'cust_id_receiver'], as_index=False)['score'].sum()\n",
    "w_df = w_df.rename(columns={'score':'w_ji'})\n",
    "e_df = e_df.merge(w_df, on=['cust_id_sender', 'cust_id_receiver'], how='left')\n",
    "\n",
    "#Calculate a_ji\n",
    "a_df = e_df.groupby(['cust_id_sender', 'cust_id_receiver'], as_index=False)['score'].count()\n",
    "a_df = a_df.rename(columns={'score':'a_ji'})\n",
    "e_df = e_df.merge(a_df, on=['cust_id_sender', 'cust_id_receiver'], how='left')\n",
    "\n",
    "#Calculate s_j\n",
    "s_df = e_df.groupby(['cust_id_sender'], as_index=False)['score'].sum()\n",
    "s_df = s_df.rename(columns={'score':'s_j'})\n",
    "e_df = e_df.merge(s_df, on='cust_id_sender', how='left')\n",
    "\n",
    "#Calculate d_j\n",
    "d_df = e_df.groupby(['cust_id_sender'], as_index=False)['score'].count()\n",
    "d_df = d_df.rename(columns={'score':'d_j'})\n",
    "e_df = e_df.merge(d_df, on='cust_id_sender', how='left')\n",
    "\n",
    "#Merge b_i\n",
    "e_df = e_df.merge(b_df, how='left', left_on='cust_id_receiver', right_on='cust_id')\n",
    "e_df.sample(3)"
   ]
  },
  {
   "cell_type": "code",
   "execution_count": 8,
   "id": "a03c3ebd-dac6-4a8d-b3d4-f48df33f1e53",
   "metadata": {},
   "outputs": [
    {
     "name": "stderr",
     "output_type": "stream",
     "text": [
      "C:\\Users\\jesse\\AppData\\Local\\Temp\\ipykernel_28548\\2773269423.py:5: RuntimeWarning: invalid value encountered in double_scalars\n",
      "  m = THETA*r.w_ji/r.s_j + (1-THETA)*r.a_ji/r.d_j\n"
     ]
    },
    {
     "data": {
      "text/html": [
       "<div>\n",
       "<style scoped>\n",
       "    .dataframe tbody tr th:only-of-type {\n",
       "        vertical-align: middle;\n",
       "    }\n",
       "\n",
       "    .dataframe tbody tr th {\n",
       "        vertical-align: top;\n",
       "    }\n",
       "\n",
       "    .dataframe thead th {\n",
       "        text-align: right;\n",
       "    }\n",
       "</style>\n",
       "<table border=\"1\" class=\"dataframe\">\n",
       "  <thead>\n",
       "    <tr style=\"text-align: right;\">\n",
       "      <th></th>\n",
       "      <th>cust_id_sender</th>\n",
       "      <th>cust_id_receiver</th>\n",
       "      <th>score</th>\n",
       "      <th>w_ji</th>\n",
       "      <th>a_ji</th>\n",
       "      <th>s_j</th>\n",
       "      <th>d_j</th>\n",
       "      <th>cust_id</th>\n",
       "      <th>b_i</th>\n",
       "      <th>m</th>\n",
       "    </tr>\n",
       "  </thead>\n",
       "  <tbody>\n",
       "    <tr>\n",
       "      <th>255255</th>\n",
       "      <td>166440</td>\n",
       "      <td>163229</td>\n",
       "      <td>0.0</td>\n",
       "      <td>0.0</td>\n",
       "      <td>1</td>\n",
       "      <td>0.0</td>\n",
       "      <td>2</td>\n",
       "      <td>163229</td>\n",
       "      <td>0.000015</td>\n",
       "      <td>NaN</td>\n",
       "    </tr>\n",
       "    <tr>\n",
       "      <th>525393</th>\n",
       "      <td>74704</td>\n",
       "      <td>263212</td>\n",
       "      <td>0.0</td>\n",
       "      <td>0.0</td>\n",
       "      <td>1</td>\n",
       "      <td>0.0</td>\n",
       "      <td>2</td>\n",
       "      <td>263212</td>\n",
       "      <td>0.000000</td>\n",
       "      <td>NaN</td>\n",
       "    </tr>\n",
       "    <tr>\n",
       "      <th>357938</th>\n",
       "      <td>21109</td>\n",
       "      <td>60786</td>\n",
       "      <td>0.0</td>\n",
       "      <td>0.0</td>\n",
       "      <td>1</td>\n",
       "      <td>0.0</td>\n",
       "      <td>2</td>\n",
       "      <td>60786</td>\n",
       "      <td>0.000000</td>\n",
       "      <td>NaN</td>\n",
       "    </tr>\n",
       "  </tbody>\n",
       "</table>\n",
       "</div>"
      ],
      "text/plain": [
       "        cust_id_sender  cust_id_receiver  score  w_ji  a_ji  s_j  d_j  \\\n",
       "255255          166440            163229    0.0   0.0     1  0.0    2   \n",
       "525393           74704            263212    0.0   0.0     1  0.0    2   \n",
       "357938           21109             60786    0.0   0.0     1  0.0    2   \n",
       "\n",
       "        cust_id       b_i   m  \n",
       "255255   163229  0.000015 NaN  \n",
       "525393   263212  0.000000 NaN  \n",
       "357938    60786  0.000000 NaN  "
      ]
     },
     "execution_count": 8,
     "metadata": {},
     "output_type": "execute_result"
    }
   ],
   "source": [
    "def calc_m(r): \n",
    "    if r.d_j == 0: \n",
    "        m = b_i\n",
    "    else:\n",
    "        m = THETA*r.w_ji/r.s_j + (1-THETA)*r.a_ji/r.d_j\n",
    "    return m\n",
    "\n",
    "#calculate m_ij for sender j, receiver i\n",
    "e_df['m'] = e_df.apply(lambda r: calc_m(r), axis=1)\n",
    "e_df.sample(3)"
   ]
  },
  {
   "cell_type": "markdown",
   "id": "4da69d5b-0a20-46fa-a495-b1f26a55a21e",
   "metadata": {},
   "source": [
    "## Pagerank"
   ]
  },
  {
   "cell_type": "code",
   "execution_count": 9,
   "id": "f892e140-700e-4eba-b736-d417d34a5d70",
   "metadata": {},
   "outputs": [
    {
     "name": "stdout",
     "output_type": "stream",
     "text": [
      "M at i=35453 and j=238577 is 0.0\n"
     ]
    }
   ],
   "source": [
    "i = e_df['cust_id_receiver'].values\n",
    "j = e_df['cust_id_sender'].values\n",
    "m = e_df['m'].values\n",
    "\n",
    "N = b_df.shape[0]\n",
    "B = b_df.sort_values('cust_id')['b_i'].values\n",
    "\n",
    "# Construct sparse matrix\n",
    "M = coo_array((m,(i,j)), shape=(N,N))\n",
    "\n",
    "# Verify that data is stored correctly\n",
    "test_i = 35453\n",
    "test_j = 238577\n",
    "print(f'M at i={test_i} and j={test_j} is {M.tocsr()[test_i,test_j]}')\n",
    "\n",
    "# Pagerank\n",
    "P = np.full(N, 1/N)\n",
    "max_diff = 1 #TODO implement\n",
    "iter = 0 #TODO implement\n",
    "for i in range(100):\n",
    "    iter += 1\n",
    "    P_int = GAMMA*M.dot(P) + (1-GAMMA)*B\n",
    "    max_diff = np.absolute(P-P_int).max()\n",
    "    P = P_int\n",
    "\n",
    "# Scaling\n",
    "P = (P - P.min())/(P.max() - P.min())"
   ]
  },
  {
   "cell_type": "code",
   "execution_count": 10,
   "id": "e88c7b2c-35ba-43b2-9fcd-d66b78e60195",
   "metadata": {},
   "outputs": [],
   "source": [
    "# Exporting\n",
    "P_df = pd.DataFrame(data=P, columns=['score'])\n",
    "P_df['cust_id'] = P_df.index\n",
    "P_df['cust_id'] = le.inverse_transform(P_df['cust_id']) #transform back to actual IDS\n",
    "P_df = P_df[['cust_id','score']]\n",
    "P_df.to_parquet(DATAPATH / 'pagerank_3.parquet')"
   ]
  },
  {
   "cell_type": "markdown",
   "id": "ecd2c6de-4df0-4542-990b-dbe9c4fa8d15",
   "metadata": {},
   "source": [
    "# Vis"
   ]
  },
  {
   "cell_type": "code",
   "execution_count": 11,
   "id": "5ce0838f-edd8-465f-813d-1e10e39ce345",
   "metadata": {},
   "outputs": [
    {
     "name": "stdout",
     "output_type": "stream",
     "text": [
      "kaleido version: 0.2.1\n"
     ]
    }
   ],
   "source": [
    "import plotly.graph_objects as go\n",
    "from plotly.subplots import make_subplots\n",
    "import plotly.express as px\n",
    "import plotly.io as pio\n",
    "import kaleido \n",
    "print('kaleido version:', kaleido.__version__)\n",
    "\n",
    "#Inline figures\n",
    "pio.renderers.default = 'iframe'\n",
    "\n",
    "#Themeing\n",
    "# mcolors = px.colors.qualitative.Dark24\n",
    "\n",
    "pio.templates['custom'] = go.layout.Template(\n",
    "    layout=dict(\n",
    "        xaxis=dict(ticks='outside', tickcolor='lightgray', showgrid=False, showline=True),\n",
    "        yaxis=dict(ticks='outside', tickcolor='lightgray', showgrid=False, showline=True, mirror=True),\n",
    "        yaxis2=dict(ticks='outside', tickcolor='lightgray', showgrid=False,),\n",
    "        # colorway=mcolors,\n",
    "    )\n",
    "\n",
    ")\n",
    "\n",
    "pio.templates.default = 'plotly_white+custom'"
   ]
  },
  {
   "cell_type": "code",
   "execution_count": 111,
   "id": "0eede181-ff34-4593-8df9-c009739f0e56",
   "metadata": {},
   "outputs": [
    {
     "data": {
      "text/html": [
       "<iframe\n",
       "    scrolling=\"no\"\n",
       "    width=\"100%\"\n",
       "    height=\"545px\"\n",
       "    src=\"iframe_figures/figure_111.html\"\n",
       "    frameborder=\"0\"\n",
       "    allowfullscreen\n",
       "></iframe>\n"
      ]
     },
     "metadata": {},
     "output_type": "display_data"
    }
   ],
   "source": [
    "fig = px.histogram(P_df[P_df['score']>=0.5], x='score')\n",
    "fig.show()\n"
   ]
  },
  {
   "cell_type": "code",
   "execution_count": 112,
   "id": "f7284259-f39d-4781-ac11-c9971009c151",
   "metadata": {},
   "outputs": [
    {
     "data": {
      "text/html": [
       "<iframe\n",
       "    scrolling=\"no\"\n",
       "    width=\"100%\"\n",
       "    height=\"545px\"\n",
       "    src=\"iframe_figures/figure_112.html\"\n",
       "    frameborder=\"0\"\n",
       "    allowfullscreen\n",
       "></iframe>\n"
      ]
     },
     "metadata": {},
     "output_type": "display_data"
    }
   ],
   "source": [
    "fig = px.histogram(n_df, x='score')\n",
    "fig.show()\n"
   ]
  },
  {
   "cell_type": "code",
   "execution_count": 113,
   "id": "5f143aed-8b12-4000-854a-454316859b06",
   "metadata": {},
   "outputs": [
    {
     "data": {
      "text/html": [
       "<iframe\n",
       "    scrolling=\"no\"\n",
       "    width=\"100%\"\n",
       "    height=\"545px\"\n",
       "    src=\"iframe_figures/figure_113.html\"\n",
       "    frameborder=\"0\"\n",
       "    allowfullscreen\n",
       "></iframe>\n"
      ]
     },
     "metadata": {},
     "output_type": "display_data"
    }
   ],
   "source": [
    "fig = px.histogram(P_df, x='score')\n",
    "fig.show()"
   ]
  },
  {
   "cell_type": "code",
   "execution_count": 114,
   "id": "adf218bf-7610-4122-bb78-c05c5acbd882",
   "metadata": {},
   "outputs": [
    {
     "data": {
      "text/html": [
       "<div>\n",
       "<style scoped>\n",
       "    .dataframe tbody tr th:only-of-type {\n",
       "        vertical-align: middle;\n",
       "    }\n",
       "\n",
       "    .dataframe tbody tr th {\n",
       "        vertical-align: top;\n",
       "    }\n",
       "\n",
       "    .dataframe thead th {\n",
       "        text-align: right;\n",
       "    }\n",
       "</style>\n",
       "<table border=\"1\" class=\"dataframe\">\n",
       "  <thead>\n",
       "    <tr style=\"text-align: right;\">\n",
       "      <th></th>\n",
       "      <th>cust_id</th>\n",
       "      <th>score</th>\n",
       "    </tr>\n",
       "  </thead>\n",
       "  <tbody>\n",
       "    <tr>\n",
       "      <th>113256</th>\n",
       "      <td>CUST70977942</td>\n",
       "      <td>1.000000</td>\n",
       "    </tr>\n",
       "    <tr>\n",
       "      <th>90586</th>\n",
       "      <td>CUST58785793</td>\n",
       "      <td>0.841370</td>\n",
       "    </tr>\n",
       "    <tr>\n",
       "      <th>23431</th>\n",
       "      <td>CUST22549711</td>\n",
       "      <td>0.836228</td>\n",
       "    </tr>\n",
       "    <tr>\n",
       "      <th>23101</th>\n",
       "      <td>CUST22362657</td>\n",
       "      <td>0.807643</td>\n",
       "    </tr>\n",
       "    <tr>\n",
       "      <th>153072</th>\n",
       "      <td>CUST92429485</td>\n",
       "      <td>0.760642</td>\n",
       "    </tr>\n",
       "    <tr>\n",
       "      <th>55793</th>\n",
       "      <td>CUST40191937</td>\n",
       "      <td>0.752005</td>\n",
       "    </tr>\n",
       "    <tr>\n",
       "      <th>56020</th>\n",
       "      <td>CUST40302821</td>\n",
       "      <td>0.745428</td>\n",
       "    </tr>\n",
       "    <tr>\n",
       "      <th>76531</th>\n",
       "      <td>CUST51289421</td>\n",
       "      <td>0.730183</td>\n",
       "    </tr>\n",
       "    <tr>\n",
       "      <th>118728</th>\n",
       "      <td>CUST73958429</td>\n",
       "      <td>0.724819</td>\n",
       "    </tr>\n",
       "    <tr>\n",
       "      <th>20445</th>\n",
       "      <td>CUST21010424</td>\n",
       "      <td>0.719274</td>\n",
       "    </tr>\n",
       "  </tbody>\n",
       "</table>\n",
       "</div>"
      ],
      "text/plain": [
       "             cust_id     score\n",
       "113256  CUST70977942  1.000000\n",
       "90586   CUST58785793  0.841370\n",
       "23431   CUST22549711  0.836228\n",
       "23101   CUST22362657  0.807643\n",
       "153072  CUST92429485  0.760642\n",
       "55793   CUST40191937  0.752005\n",
       "56020   CUST40302821  0.745428\n",
       "76531   CUST51289421  0.730183\n",
       "118728  CUST73958429  0.724819\n",
       "20445   CUST21010424  0.719274"
      ]
     },
     "execution_count": 114,
     "metadata": {},
     "output_type": "execute_result"
    }
   ],
   "source": [
    "P_df.sort_values('score', ascending=False).head(10)"
   ]
  },
  {
   "cell_type": "code",
   "execution_count": 119,
   "id": "9faed0b1-a02c-4480-a5f3-037fa579828e",
   "metadata": {},
   "outputs": [
    {
     "data": {
      "text/html": [
       "<div>\n",
       "<style scoped>\n",
       "    .dataframe tbody tr th:only-of-type {\n",
       "        vertical-align: middle;\n",
       "    }\n",
       "\n",
       "    .dataframe tbody tr th {\n",
       "        vertical-align: top;\n",
       "    }\n",
       "\n",
       "    .dataframe thead th {\n",
       "        text-align: right;\n",
       "    }\n",
       "</style>\n",
       "<table border=\"1\" class=\"dataframe\">\n",
       "  <thead>\n",
       "    <tr style=\"text-align: right;\">\n",
       "      <th></th>\n",
       "      <th>name</th>\n",
       "      <th>gender</th>\n",
       "      <th>occupation</th>\n",
       "      <th>age</th>\n",
       "      <th>tenure</th>\n",
       "      <th>cust_id</th>\n",
       "      <th>occ_wealth</th>\n",
       "      <th>occ_animal</th>\n",
       "      <th>occ_int</th>\n",
       "      <th>label</th>\n",
       "      <th>kyc_agg</th>\n",
       "    </tr>\n",
       "  </thead>\n",
       "  <tbody>\n",
       "    <tr>\n",
       "      <th>89083</th>\n",
       "      <td>ELLEN HANSEN</td>\n",
       "      <td>female</td>\n",
       "      <td>Warehouse Worker</td>\n",
       "      <td>29.0</td>\n",
       "      <td>8.0</td>\n",
       "      <td>CUST22549711</td>\n",
       "      <td>0</td>\n",
       "      <td>0</td>\n",
       "      <td>0</td>\n",
       "      <td>1</td>\n",
       "      <td>1.0</td>\n",
       "    </tr>\n",
       "  </tbody>\n",
       "</table>\n",
       "</div>"
      ],
      "text/plain": [
       "               name  gender        occupation   age  tenure       cust_id  \\\n",
       "89083  ELLEN HANSEN  female  Warehouse Worker  29.0     8.0  CUST22549711   \n",
       "\n",
       "       occ_wealth  occ_animal  occ_int  label  kyc_agg  \n",
       "89083           0           0        0      1      1.0  "
      ]
     },
     "execution_count": 119,
     "metadata": {},
     "output_type": "execute_result"
    }
   ],
   "source": [
    "kdf = pd.read_parquet(DATAPATH/'kyc.parquet')\n",
    "cust_id = 'CUST22549711'\n",
    "kdf[kdf.cust_id == cust_id]"
   ]
  },
  {
   "cell_type": "code",
   "execution_count": null,
   "id": "c8efcaf8-8032-4b5c-a7d8-2d0d2005c3ea",
   "metadata": {},
   "outputs": [],
   "source": []
  }
 ],
 "metadata": {
  "kernelspec": {
   "display_name": "Python [conda env:bigdata]",
   "language": "python",
   "name": "conda-env-bigdata-py"
  },
  "language_info": {
   "codemirror_mode": {
    "name": "ipython",
    "version": 3
   },
   "file_extension": ".py",
   "mimetype": "text/x-python",
   "name": "python",
   "nbconvert_exporter": "python",
   "pygments_lexer": "ipython3",
   "version": "3.10.13"
  }
 },
 "nbformat": 4,
 "nbformat_minor": 5
}
