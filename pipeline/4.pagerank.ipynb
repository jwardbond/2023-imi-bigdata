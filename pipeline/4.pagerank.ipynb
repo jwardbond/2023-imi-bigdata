{
 "cells": [
  {
   "cell_type": "code",
   "execution_count": 1,
   "id": "5dfea226-5f01-48bd-a0bd-8abd9d5206af",
   "metadata": {},
   "outputs": [],
   "source": [
    "from sklearn.preprocessing import LabelEncoder\n",
    "from scipy.sparse import coo_array\n",
    "from pathlib import Path\n",
    "import networkx as nx\n",
    "import pandas as pd\n",
    "import numpy as np"
   ]
  },
  {
   "cell_type": "markdown",
   "id": "4493be64-7605-45cd-9dde-560d7c5522ae",
   "metadata": {},
   "source": [
    "# TODO \n",
    "- May need to find a better way of incorporating # of transactions\n",
    "- Method 2\n",
    "- CHANGE EDGE DATASETS TO USE ACTUAL DATA"
   ]
  },
  {
   "cell_type": "markdown",
   "id": "7914ab7e-e930-43d8-b860-bcce7867125b",
   "metadata": {},
   "source": [
    "# 1. Appending Node Scores\n",
    "1. Calculate pagerank with edge score only\n",
    "2. Scale pageranks by min and max pageranks\n",
    "3. Add node scores to pageranks"
   ]
  },
  {
   "cell_type": "code",
   "execution_count": 2,
   "id": "498e8bb4-e774-475c-a125-a5a750fc7fef",
   "metadata": {},
   "outputs": [],
   "source": [
    "DATAPATH = Path('../data/processed')\n",
    "\n",
    "n_df = pd.read_parquet(DATAPATH / 'node_score.parquet')\n",
    "e_df = pd.read_parquet(DATAPATH / 'temp_edge_score.parquet')"
   ]
  },
  {
   "cell_type": "code",
   "execution_count": 3,
   "id": "78d30053-d258-4e05-8a3e-0f7fcbdbf02b",
   "metadata": {},
   "outputs": [],
   "source": [
    "# Combine identical edges\n",
    "e_df = e_df.groupby(['cust_id_sender', 'cust_id_receiver'], as_index=False)['score'].sum()\n",
    "\n",
    "# Construct graph\n",
    "G = nx.from_pandas_edgelist(e_df, 'cust_id_sender', 'cust_id_receiver', edge_attr='score', create_using=nx.DiGraph())\n",
    "\n",
    "# Pagerank\n",
    "pr = nx.pagerank(G, weight='score')"
   ]
  },
  {
   "cell_type": "code",
   "execution_count": 4,
   "id": "8ee6d77f-f281-40bb-b7a1-fb34e5adfc90",
   "metadata": {},
   "outputs": [
    {
     "data": {
      "text/html": [
       "<div>\n",
       "<style scoped>\n",
       "    .dataframe tbody tr th:only-of-type {\n",
       "        vertical-align: middle;\n",
       "    }\n",
       "\n",
       "    .dataframe tbody tr th {\n",
       "        vertical-align: top;\n",
       "    }\n",
       "\n",
       "    .dataframe thead th {\n",
       "        text-align: right;\n",
       "    }\n",
       "</style>\n",
       "<table border=\"1\" class=\"dataframe\">\n",
       "  <thead>\n",
       "    <tr style=\"text-align: right;\">\n",
       "      <th></th>\n",
       "      <th>cust_id</th>\n",
       "      <th>score</th>\n",
       "    </tr>\n",
       "  </thead>\n",
       "  <tbody>\n",
       "    <tr>\n",
       "      <th>163925</th>\n",
       "      <td>CUST65878723</td>\n",
       "      <td>0.000000</td>\n",
       "    </tr>\n",
       "    <tr>\n",
       "      <th>95717</th>\n",
       "      <td>CUST37378780</td>\n",
       "      <td>0.187013</td>\n",
       "    </tr>\n",
       "    <tr>\n",
       "      <th>222858</th>\n",
       "      <td>CUST43570661</td>\n",
       "      <td>0.186988</td>\n",
       "    </tr>\n",
       "  </tbody>\n",
       "</table>\n",
       "</div>"
      ],
      "text/plain": [
       "             cust_id     score\n",
       "163925  CUST65878723  0.000000\n",
       "95717   CUST37378780  0.187013\n",
       "222858  CUST43570661  0.186988"
      ]
     },
     "execution_count": 4,
     "metadata": {},
     "output_type": "execute_result"
    }
   ],
   "source": [
    "# Scaling\n",
    "pr_df = pd.DataFrame.from_dict(pr, orient='index').reset_index()\n",
    "pr_df = pr_df.rename(columns={'index': 'cust_id', 0:'score'})\n",
    "\n",
    "max_score = pr_df['score'].max()\n",
    "min_score = pr_df['score'].min()\n",
    "pr_df['score'] = (pr_df['score'] - min_score)/(max_score - min_score)\n",
    "\n",
    "# Adding node scores\n",
    "pr_df = pr_df.merge(n_df, on='cust_id', how='left')\n",
    "pr_df['score_y'] = pr_df['score_y'].fillna(0)\n",
    "pr_df['score'] = pr_df['score_x']+pr_df['score_y']\n",
    "pr_df = pr_df[['cust_id', 'score']]\n",
    "\n",
    "# Exporting\n",
    "pr_df.to_parquet(DATAPATH / 'pagerank_1.parquet')\n",
    "pr_df.sample(3)"
   ]
  },
  {
   "cell_type": "markdown",
   "id": "21192d75-7058-4bc2-b2d6-ec11e7095b9b",
   "metadata": {},
   "source": [
    "# 2. Some better way using networkx"
   ]
  },
  {
   "cell_type": "markdown",
   "id": "633721e6-cf0d-4cd7-9df0-28a3d0316785",
   "metadata": {},
   "source": [
    "# 3. Zhang et al. Method\n",
    "This method uses the pagerank technique outlined in [Zhang *et al.,* 2022](https://arxiv.org/abs/2104.02764). \n",
    "\n",
    "Mainly: \n",
    "\n",
    "Let $M$ be a transition matrix with: \n",
    "$$m_{ij} = \\begin{cases}\n",
    "    \\theta w_{ji}/s_j^{out} + (1-\\theta)a_{ji}/d_j^{out} && \\texttt{if}\\; d_j^{out}\\neq 0\\\\\n",
    "    \\beta_{i}/\\sum_{i\\in V}\\beta_i && \\texttt{if}\\; d_j^{out}=0\n",
    "\\end{cases}$$\n",
    "Where: \n",
    "- $\\theta$ is a tunable parameter that represents how important weights should be in the pagerank alg\n",
    "- $w_{ji}$ is the weight of an edge from node $j \\rightarrow i$\n",
    "- $s_j^{out} = \\sum_{v \\in V|j \\rightarrow v}w_{jv}$ is the \"strength\" of outgoing edges from node $j$\n",
    "- $a_{ji}$ = $1 \\:\\texttt{if}\\: j \\rightarrow i \\:\\texttt{else}\\: 0$\n",
    "- $d_j^{out} = \\sum_{v \\in V|j \\rightarrow v}a_{jv}$\n",
    "- $\\beta_i$ is the node importance score\n",
    "  \n",
    "\n",
    "\n",
    "Then the pagerank can be calculated with power iterations on\n",
    "$$P=\\gamma MP + (1-\\gamma)\\boldsymbol{\\beta}/||\\boldsymbol{\\beta}||_1$$\n",
    "\n",
    "Where:\n",
    "- $1-\\gamma$ is a tunable parameter representing the probability of restarting a random walk (typically 0.8-0.9)\n",
    "\n",
    "---\n",
    "*note the other formulation in the paper results in a dense transition matrix that is nxn.... too big*\n",
    "\n",
    "*note that for $m_{ij}$, $i$ is the target and $j$ is the source*"
   ]
  },
  {
   "cell_type": "code",
   "execution_count": 5,
   "id": "a1b46f95-cf7e-4c31-b530-35bb784e7e75",
   "metadata": {},
   "outputs": [],
   "source": [
    "THETA = 0.5\n",
    "GAMMA = 0.85\n",
    "\n",
    "DATAPATH = Path('../data/processed')\n",
    "\n",
    "n_df = pd.read_parquet(DATAPATH / 'node_score.parquet')\n",
    "e_df = pd.read_parquet(DATAPATH / 'temp_edge_score.parquet')"
   ]
  },
  {
   "cell_type": "markdown",
   "id": "6452c23d-0ff9-4ea8-84b6-e0a6a4e752d7",
   "metadata": {},
   "source": [
    "## Constructing $\\boldsymbol{\\beta}/||\\boldsymbol{\\beta}||_1$"
   ]
  },
  {
   "cell_type": "code",
   "execution_count": 6,
   "id": "f6e38a9d-d87d-47df-a950-ea2e0614c03d",
   "metadata": {},
   "outputs": [],
   "source": [
    "# Get all nodes in the graph\n",
    "node_list = []\n",
    "node_list.extend(e_df.cust_id_sender.tolist() + e_df.cust_id_receiver.tolist())\n",
    "node_list = list(set(node_list)) #hack to remove duplicates"
   ]
  },
  {
   "cell_type": "code",
   "execution_count": 7,
   "id": "d9da848d-28fa-4ba7-a223-01ab53da7074",
   "metadata": {},
   "outputs": [
    {
     "data": {
      "text/html": [
       "<div>\n",
       "<style scoped>\n",
       "    .dataframe tbody tr th:only-of-type {\n",
       "        vertical-align: middle;\n",
       "    }\n",
       "\n",
       "    .dataframe tbody tr th {\n",
       "        vertical-align: top;\n",
       "    }\n",
       "\n",
       "    .dataframe thead th {\n",
       "        text-align: right;\n",
       "    }\n",
       "</style>\n",
       "<table border=\"1\" class=\"dataframe\">\n",
       "  <thead>\n",
       "    <tr style=\"text-align: right;\">\n",
       "      <th></th>\n",
       "      <th>cust_id</th>\n",
       "      <th>b_i</th>\n",
       "    </tr>\n",
       "  </thead>\n",
       "  <tbody>\n",
       "    <tr>\n",
       "      <th>166135</th>\n",
       "      <td>CUST75045024</td>\n",
       "      <td>0.000094</td>\n",
       "    </tr>\n",
       "    <tr>\n",
       "      <th>3588</th>\n",
       "      <td>CUST18423426</td>\n",
       "      <td>0.000094</td>\n",
       "    </tr>\n",
       "    <tr>\n",
       "      <th>49033</th>\n",
       "      <td>CUST40682551</td>\n",
       "      <td>0.000094</td>\n",
       "    </tr>\n",
       "  </tbody>\n",
       "</table>\n",
       "</div>"
      ],
      "text/plain": [
       "             cust_id       b_i\n",
       "166135  CUST75045024  0.000094\n",
       "3588    CUST18423426  0.000094\n",
       "49033   CUST40682551  0.000094"
      ]
     },
     "execution_count": 7,
     "metadata": {},
     "output_type": "execute_result"
    }
   ],
   "source": [
    "# Construct B\n",
    "b_df = pd.DataFrame(data={'cust_id':node_list})\n",
    "b_df = b_df.merge(n_df, on='cust_id', how='left')\n",
    "b_df = b_df.rename(columns={'score':'b_i'})\n",
    "b_df = b_df.fillna(0)\n",
    "\n",
    "one_norm = abs(b_df['b_i']).sum()\n",
    "\n",
    "b_df['b_i'] = b_df['b_i'] / one_norm\n",
    "\n",
    "b_df.sort_values('b_i', ascending=False).head(3)"
   ]
  },
  {
   "cell_type": "markdown",
   "id": "94ec027c-8c55-4a4a-81ee-2d2275cd2b4a",
   "metadata": {},
   "source": [
    "## Node Encoding\n",
    "This section encodes the cust_ids ordinally."
   ]
  },
  {
   "cell_type": "code",
   "execution_count": 8,
   "id": "c43742b6-a5f3-48ea-a997-cb989d64106e",
   "metadata": {},
   "outputs": [
    {
     "data": {
      "text/html": [
       "<div>\n",
       "<style scoped>\n",
       "    .dataframe tbody tr th:only-of-type {\n",
       "        vertical-align: middle;\n",
       "    }\n",
       "\n",
       "    .dataframe tbody tr th {\n",
       "        vertical-align: top;\n",
       "    }\n",
       "\n",
       "    .dataframe thead th {\n",
       "        text-align: right;\n",
       "    }\n",
       "</style>\n",
       "<table border=\"1\" class=\"dataframe\">\n",
       "  <thead>\n",
       "    <tr style=\"text-align: right;\">\n",
       "      <th></th>\n",
       "      <th>cust_id_sender</th>\n",
       "      <th>cust_id_receiver</th>\n",
       "      <th>trxn_id</th>\n",
       "      <th>trxn_type</th>\n",
       "      <th>score</th>\n",
       "    </tr>\n",
       "  </thead>\n",
       "  <tbody>\n",
       "    <tr>\n",
       "      <th>303305</th>\n",
       "      <td>155360</td>\n",
       "      <td>198782</td>\n",
       "      <td>VBTQ98493205</td>\n",
       "      <td>wire</td>\n",
       "      <td>0.616436</td>\n",
       "    </tr>\n",
       "    <tr>\n",
       "      <th>86917</th>\n",
       "      <td>163771</td>\n",
       "      <td>180151</td>\n",
       "      <td>LZBD31039644</td>\n",
       "      <td>wire</td>\n",
       "      <td>0.005909</td>\n",
       "    </tr>\n",
       "    <tr>\n",
       "      <th>354983</th>\n",
       "      <td>117751</td>\n",
       "      <td>239808</td>\n",
       "      <td>EKTS47382358</td>\n",
       "      <td>wire</td>\n",
       "      <td>0.595851</td>\n",
       "    </tr>\n",
       "  </tbody>\n",
       "</table>\n",
       "</div>"
      ],
      "text/plain": [
       "        cust_id_sender  cust_id_receiver       trxn_id trxn_type     score\n",
       "303305          155360            198782  VBTQ98493205      wire  0.616436\n",
       "86917           163771            180151  LZBD31039644      wire  0.005909\n",
       "354983          117751            239808  EKTS47382358      wire  0.595851"
      ]
     },
     "execution_count": 8,
     "metadata": {},
     "output_type": "execute_result"
    }
   ],
   "source": [
    "le = LabelEncoder()\n",
    "le.fit(node_list)\n",
    "\n",
    "e_df['cust_id_sender'] = le.transform(e_df['cust_id_sender'])\n",
    "e_df['cust_id_receiver'] = le.transform(e_df['cust_id_receiver'])\n",
    "\n",
    "b_df['cust_id'] = le.transform(b_df['cust_id'])\n",
    "\n",
    "e_df.sample(3)"
   ]
  },
  {
   "cell_type": "markdown",
   "id": "df2b898d-f086-43e6-940d-7431d9abf66c",
   "metadata": {},
   "source": [
    "## Constructing $M$\n",
    "*note that for $m_{ij}$, $i$ is the target node and $j$ is the source node*"
   ]
  },
  {
   "cell_type": "code",
   "execution_count": 9,
   "id": "d3ce740d-914d-4d49-aee1-e1a7dbe19c4d",
   "metadata": {},
   "outputs": [],
   "source": [
    "# Combine identical edges by adding weights (multidigraph -> digraph)\n",
    "e_df = e_df[['cust_id_sender', 'cust_id_receiver', 'score']].copy()\n",
    "e_df = e_df.groupby(['cust_id_sender', 'cust_id_receiver'], as_index=False).sum()"
   ]
  },
  {
   "cell_type": "code",
   "execution_count": 10,
   "id": "c33008b5-31d1-42be-b60f-504b34e97c62",
   "metadata": {},
   "outputs": [
    {
     "data": {
      "text/html": [
       "<div>\n",
       "<style scoped>\n",
       "    .dataframe tbody tr th:only-of-type {\n",
       "        vertical-align: middle;\n",
       "    }\n",
       "\n",
       "    .dataframe tbody tr th {\n",
       "        vertical-align: top;\n",
       "    }\n",
       "\n",
       "    .dataframe thead th {\n",
       "        text-align: right;\n",
       "    }\n",
       "</style>\n",
       "<table border=\"1\" class=\"dataframe\">\n",
       "  <thead>\n",
       "    <tr style=\"text-align: right;\">\n",
       "      <th></th>\n",
       "      <th>cust_id_sender</th>\n",
       "      <th>cust_id_receiver</th>\n",
       "      <th>score</th>\n",
       "      <th>s_j</th>\n",
       "      <th>d_j</th>\n",
       "      <th>cust_id</th>\n",
       "      <th>b_i</th>\n",
       "    </tr>\n",
       "  </thead>\n",
       "  <tbody>\n",
       "    <tr>\n",
       "      <th>126241</th>\n",
       "      <td>66044</td>\n",
       "      <td>110619</td>\n",
       "      <td>0.980562</td>\n",
       "      <td>5.275213</td>\n",
       "      <td>8</td>\n",
       "      <td>110619</td>\n",
       "      <td>0.0</td>\n",
       "    </tr>\n",
       "    <tr>\n",
       "      <th>258798</th>\n",
       "      <td>136051</td>\n",
       "      <td>236557</td>\n",
       "      <td>0.135476</td>\n",
       "      <td>4.750757</td>\n",
       "      <td>10</td>\n",
       "      <td>236557</td>\n",
       "      <td>0.0</td>\n",
       "    </tr>\n",
       "    <tr>\n",
       "      <th>296414</th>\n",
       "      <td>155966</td>\n",
       "      <td>114781</td>\n",
       "      <td>0.434054</td>\n",
       "      <td>1.560070</td>\n",
       "      <td>3</td>\n",
       "      <td>114781</td>\n",
       "      <td>0.0</td>\n",
       "    </tr>\n",
       "  </tbody>\n",
       "</table>\n",
       "</div>"
      ],
      "text/plain": [
       "        cust_id_sender  cust_id_receiver     score       s_j  d_j  cust_id  \\\n",
       "126241           66044            110619  0.980562  5.275213    8   110619   \n",
       "258798          136051            236557  0.135476  4.750757   10   236557   \n",
       "296414          155966            114781  0.434054  1.560070    3   114781   \n",
       "\n",
       "        b_i  \n",
       "126241  0.0  \n",
       "258798  0.0  \n",
       "296414  0.0  "
      ]
     },
     "execution_count": 10,
     "metadata": {},
     "output_type": "execute_result"
    }
   ],
   "source": [
    "#Calculate s_j\n",
    "s_df = e_df.groupby(['cust_id_sender'], as_index=False)['score'].sum()\n",
    "s_df = s_df.rename(columns={'score':'s_j'})\n",
    "e_df = e_df.merge(s_df, on='cust_id_sender', how='left')\n",
    "\n",
    "#Calculate d_j\n",
    "d_df = e_df.groupby(['cust_id_sender'], as_index=False)['score'].count()\n",
    "d_df = d_df.rename(columns={'score':'d_j'})\n",
    "e_df = e_df.merge(d_df, on='cust_id_sender', how='left')\n",
    "\n",
    "#Merge b_i\n",
    "e_df = e_df.merge(b_df, how='left', left_on='cust_id_receiver', right_on='cust_id')\n",
    "e_df.sample(3)"
   ]
  },
  {
   "cell_type": "code",
   "execution_count": 11,
   "id": "1c1bb1c6-3be3-4db6-a31f-1dff8b87d51e",
   "metadata": {},
   "outputs": [
    {
     "data": {
      "text/html": [
       "<div>\n",
       "<style scoped>\n",
       "    .dataframe tbody tr th:only-of-type {\n",
       "        vertical-align: middle;\n",
       "    }\n",
       "\n",
       "    .dataframe tbody tr th {\n",
       "        vertical-align: top;\n",
       "    }\n",
       "\n",
       "    .dataframe thead th {\n",
       "        text-align: right;\n",
       "    }\n",
       "</style>\n",
       "<table border=\"1\" class=\"dataframe\">\n",
       "  <thead>\n",
       "    <tr style=\"text-align: right;\">\n",
       "      <th></th>\n",
       "      <th>cust_id_sender</th>\n",
       "      <th>cust_id_receiver</th>\n",
       "      <th>score</th>\n",
       "      <th>s_j</th>\n",
       "      <th>d_j</th>\n",
       "      <th>cust_id</th>\n",
       "      <th>b_i</th>\n",
       "      <th>m</th>\n",
       "    </tr>\n",
       "  </thead>\n",
       "  <tbody>\n",
       "    <tr>\n",
       "      <th>249647</th>\n",
       "      <td>131112</td>\n",
       "      <td>14911</td>\n",
       "      <td>0.995885</td>\n",
       "      <td>3.911437</td>\n",
       "      <td>7</td>\n",
       "      <td>14911</td>\n",
       "      <td>0.000047</td>\n",
       "      <td>0.198733</td>\n",
       "    </tr>\n",
       "    <tr>\n",
       "      <th>135770</th>\n",
       "      <td>71179</td>\n",
       "      <td>106430</td>\n",
       "      <td>0.916023</td>\n",
       "      <td>3.612774</td>\n",
       "      <td>4</td>\n",
       "      <td>106430</td>\n",
       "      <td>0.000031</td>\n",
       "      <td>0.251776</td>\n",
       "    </tr>\n",
       "    <tr>\n",
       "      <th>38932</th>\n",
       "      <td>20136</td>\n",
       "      <td>238025</td>\n",
       "      <td>0.890713</td>\n",
       "      <td>4.612946</td>\n",
       "      <td>9</td>\n",
       "      <td>238025</td>\n",
       "      <td>0.000000</td>\n",
       "      <td>0.152101</td>\n",
       "    </tr>\n",
       "  </tbody>\n",
       "</table>\n",
       "</div>"
      ],
      "text/plain": [
       "        cust_id_sender  cust_id_receiver     score       s_j  d_j  cust_id  \\\n",
       "249647          131112             14911  0.995885  3.911437    7    14911   \n",
       "135770           71179            106430  0.916023  3.612774    4   106430   \n",
       "38932            20136            238025  0.890713  4.612946    9   238025   \n",
       "\n",
       "             b_i         m  \n",
       "249647  0.000047  0.198733  \n",
       "135770  0.000031  0.251776  \n",
       "38932   0.000000  0.152101  "
      ]
     },
     "execution_count": 11,
     "metadata": {},
     "output_type": "execute_result"
    }
   ],
   "source": [
    "def calc_m(r): \n",
    "    if r.d_j == 0: \n",
    "        m = b_i\n",
    "    else:\n",
    "        m = THETA*r.score/r.s_j + (1-THETA)/r.d_j\n",
    "    return m\n",
    "\n",
    "#calculate m_ij for sender j, receiver i\n",
    "e_df['m'] = e_df.apply(lambda r: calc_m(r), axis=1)\n",
    "e_df.sample(3)"
   ]
  },
  {
   "cell_type": "markdown",
   "id": "4da69d5b-0a20-46fa-a495-b1f26a55a21e",
   "metadata": {},
   "source": [
    "## Pagerank"
   ]
  },
  {
   "cell_type": "code",
   "execution_count": 12,
   "id": "f892e140-700e-4eba-b736-d417d34a5d70",
   "metadata": {},
   "outputs": [
    {
     "name": "stdout",
     "output_type": "stream",
     "text": [
      "M at i=243015 and j=1745 is 0.1675836494070475\n"
     ]
    }
   ],
   "source": [
    "i = e_df['cust_id_receiver'].values\n",
    "j = e_df['cust_id_sender'].values\n",
    "m = e_df['m'].values\n",
    "\n",
    "N = b_df.shape[0]\n",
    "B = b_df.sort_values('cust_id')['b_i'].values\n",
    "\n",
    "# Construct sparse matrix\n",
    "M = coo_array((m,(i,j)), shape=(N,N))\n",
    "\n",
    "# Verify that data is stored correctly\n",
    "test_i = 243015\n",
    "test_j = 1745\n",
    "print(f'M at i={test_i} and j={test_j} is {M.tocsr()[test_i,test_j]}')\n",
    "\n",
    "# Pagerank\n",
    "P = np.full(N, 1/N)\n",
    "max_diff = 1 #TODO implement\n",
    "iter = 0 #TODO implement\n",
    "for i in range(100):\n",
    "    iter += 1\n",
    "    P_int = GAMMA*M.dot(P) + (1-GAMMA)*B\n",
    "    max_diff = np.absolute(P-P_int).max()\n",
    "    P = P_int\n",
    "\n",
    "# Scaling\n",
    "P = (P - P.min())/(P.max() - P.min())"
   ]
  },
  {
   "cell_type": "code",
   "execution_count": 13,
   "id": "e88c7b2c-35ba-43b2-9fcd-d66b78e60195",
   "metadata": {},
   "outputs": [],
   "source": [
    "# Exporting\n",
    "P_df = pd.DataFrame(data=P, columns=['score'])\n",
    "P_df['cust_id'] = P_df.index\n",
    "P_df['cust_id'] = le.inverse_transform(P_df['cust_id']) #transform back to actual IDS\n",
    "P_df = P_df[['cust_id','score']]\n",
    "P_df.to_parquet(DATAPATH / 'pagerank_3.parquet')"
   ]
  }
 ],
 "metadata": {
  "kernelspec": {
   "display_name": "Python [conda env:bigdata]",
   "language": "python",
   "name": "conda-env-bigdata-py"
  },
  "language_info": {
   "codemirror_mode": {
    "name": "ipython",
    "version": 3
   },
   "file_extension": ".py",
   "mimetype": "text/x-python",
   "name": "python",
   "nbconvert_exporter": "python",
   "pygments_lexer": "ipython3",
   "version": "3.11.5"
  }
 },
 "nbformat": 4,
 "nbformat_minor": 5
}
