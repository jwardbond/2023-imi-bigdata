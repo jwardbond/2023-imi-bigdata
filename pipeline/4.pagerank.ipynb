{
 "cells": [
  {
   "cell_type": "code",
   "execution_count": 1,
   "id": "5dfea226-5f01-48bd-a0bd-8abd9d5206af",
   "metadata": {},
   "outputs": [],
   "source": [
    "from sklearn.preprocessing import LabelEncoder\n",
    "from scipy.sparse import coo_array\n",
    "from pathlib import Path\n",
    "import networkx as nx\n",
    "import pandas as pd\n",
    "import numpy as np"
   ]
  },
  {
   "cell_type": "markdown",
   "id": "4493be64-7605-45cd-9dde-560d7c5522ae",
   "metadata": {},
   "source": [
    "# TODO \n",
    "- May need to find a better way of incorporating # of transactions\n",
    "- Method 2 (multiplicative)\n",
    "- CHANGE EDGE DATASETS TO USE ACTUAL DATA\n",
    "- In 1. Add starting suspicions"
   ]
  },
  {
   "cell_type": "markdown",
   "id": "7914ab7e-e930-43d8-b860-bcce7867125b",
   "metadata": {},
   "source": [
    "# 1. Appending Node Scores\n",
    "1. Calculate pagerank with edge score only\n",
    "2. Scale pageranks by min and max pageranks\n",
    "3. Add node scores to pageranks"
   ]
  },
  {
   "cell_type": "code",
   "execution_count": 2,
   "id": "498e8bb4-e774-475c-a125-a5a750fc7fef",
   "metadata": {},
   "outputs": [],
   "source": [
    "DATAPATH = Path('../data/processed')\n",
    "\n",
    "n_df = pd.read_parquet(DATAPATH / 'node_score.parquet')\n",
    "e_df = pd.read_parquet(DATAPATH / 'temp_edge_score.parquet')"
   ]
  },
  {
   "cell_type": "code",
   "execution_count": 3,
   "id": "78d30053-d258-4e05-8a3e-0f7fcbdbf02b",
   "metadata": {},
   "outputs": [],
   "source": [
    "# Combine identical edges\n",
    "e_df = e_df.groupby(['cust_id_sender', 'cust_id_receiver'], as_index=False)['score'].sum()\n",
    "\n",
    "# Construct graph\n",
    "G = nx.from_pandas_edgelist(e_df, 'cust_id_sender', 'cust_id_receiver', edge_attr='score', create_using=nx.DiGraph())\n",
    "\n",
    "# Pagerank\n",
    "pr = nx.pagerank(G, weight='score')"
   ]
  },
  {
   "cell_type": "code",
   "execution_count": 17,
   "id": "8ee6d77f-f281-40bb-b7a1-fb34e5adfc90",
   "metadata": {},
   "outputs": [
    {
     "data": {
      "text/html": [
       "<div>\n",
       "<style scoped>\n",
       "    .dataframe tbody tr th:only-of-type {\n",
       "        vertical-align: middle;\n",
       "    }\n",
       "\n",
       "    .dataframe tbody tr th {\n",
       "        vertical-align: top;\n",
       "    }\n",
       "\n",
       "    .dataframe thead th {\n",
       "        text-align: right;\n",
       "    }\n",
       "</style>\n",
       "<table border=\"1\" class=\"dataframe\">\n",
       "  <thead>\n",
       "    <tr style=\"text-align: right;\">\n",
       "      <th></th>\n",
       "      <th>cust_id</th>\n",
       "      <th>score</th>\n",
       "    </tr>\n",
       "  </thead>\n",
       "  <tbody>\n",
       "    <tr>\n",
       "      <th>226904</th>\n",
       "      <td>EXTERNAL388508</td>\n",
       "      <td>0.000000</td>\n",
       "    </tr>\n",
       "    <tr>\n",
       "      <th>110410</th>\n",
       "      <td>CUST43942889</td>\n",
       "      <td>0.259206</td>\n",
       "    </tr>\n",
       "    <tr>\n",
       "      <th>119704</th>\n",
       "      <td>CUST48571588</td>\n",
       "      <td>0.081349</td>\n",
       "    </tr>\n",
       "  </tbody>\n",
       "</table>\n",
       "</div>"
      ],
      "text/plain": [
       "               cust_id     score\n",
       "226904  EXTERNAL388508  0.000000\n",
       "110410    CUST43942889  0.259206\n",
       "119704    CUST48571588  0.081349"
      ]
     },
     "execution_count": 17,
     "metadata": {},
     "output_type": "execute_result"
    }
   ],
   "source": [
    "# Scaling\n",
    "pr_df = pd.DataFrame.from_dict(pr, orient='index').reset_index()\n",
    "pr_df = pr_df.rename(columns={'index': 'cust_id', 0:'score'})\n",
    "\n",
    "max_score = pr_df['score'].max()\n",
    "min_score = pr_df['score'].min()\n",
    "pr_df['score'] = (pr_df['score'] - min_score)/(max_score - min_score)\n",
    "\n",
    "# Adding node scores\n",
    "# pr_df = pr_df.merge(n_df, on='cust_id', how='left')\n",
    "# pr_df['score_y'] = pr_df['score_y'].fillna(0)\n",
    "# pr_df['score'] = pr_df['score_x']+pr_df['score_y']\n",
    "pr_df = pr_df[['cust_id', 'score']]\n",
    "\n",
    "# Exporting\n",
    "pr_df.to_parquet(DATAPATH / 'pagerank_1.parquet')\n",
    "pr_df.sample(3)"
   ]
  },
  {
   "cell_type": "markdown",
   "id": "21192d75-7058-4bc2-b2d6-ec11e7095b9b",
   "metadata": {},
   "source": [
    "# 2. Some better way using networkx"
   ]
  },
  {
   "cell_type": "markdown",
   "id": "633721e6-cf0d-4cd7-9df0-28a3d0316785",
   "metadata": {},
   "source": [
    "# 3. Zhang et al. Method\n",
    "This method uses the pagerank technique outlined in [Zhang *et al.,* 2022](https://arxiv.org/abs/2104.02764). \n",
    "\n",
    "Mainly: \n",
    "\n",
    "Let $M$ be a transition matrix with: \n",
    "$$m_{ij} = \\begin{cases}\n",
    "    \\theta w_{ji}/s_j^{out} + (1-\\theta)a_{ji}/d_j^{out} && \\texttt{if}\\; d_j^{out}\\neq 0\\\\\n",
    "    \\beta_{i}/\\sum_{i\\in V}\\beta_i && \\texttt{if}\\; d_j^{out}=0\n",
    "\\end{cases}$$\n",
    "Where: \n",
    "- $\\theta$ is a tunable parameter that represents how important weights should be in the pagerank alg\n",
    "- $w_{ji}$ is the weight of an edge from node $j \\rightarrow i$\n",
    "- $s_j^{out} = \\sum_{v \\in V|j \\rightarrow v}w_{jv}$ is the \"strength\" of outgoing edges from node $j$\n",
    "- $a_{ji}$ = $1 \\:\\texttt{if}\\: j \\rightarrow i \\:\\texttt{else}\\: 0$\n",
    "- $d_j^{out} = \\sum_{v \\in V|j \\rightarrow v}a_{jv}$\n",
    "- $\\beta_i$ is the node importance score\n",
    "  \n",
    "\n",
    "\n",
    "Then the pagerank can be calculated with power iterations on\n",
    "$$P=\\gamma MP + (1-\\gamma)\\boldsymbol{\\beta}/||\\boldsymbol{\\beta}||_1$$\n",
    "\n",
    "Where:\n",
    "- $1-\\gamma$ is a tunable parameter representing the probability of restarting a random walk (typically 0.8-0.9)\n",
    "\n",
    "---\n",
    "*note the other formulation in the paper results in a dense transition matrix that is nxn.... too big*\n",
    "\n",
    "*note that for $m_{ij}$, $i$ is the target and $j$ is the source*"
   ]
  },
  {
   "cell_type": "code",
   "execution_count": 65,
   "id": "a1b46f95-cf7e-4c31-b530-35bb784e7e75",
   "metadata": {},
   "outputs": [],
   "source": [
    "THETA = 0\n",
    "GAMMA = 0.85\n",
    "\n",
    "DATAPATH = Path('../data/processed')\n",
    "\n",
    "n_df = pd.read_parquet(DATAPATH / 'node_score.parquet')\n",
    "e_df = pd.read_parquet(DATAPATH / 'temp_edge_score.parquet')\n",
    "e_df = e_df[['cust_id_sender', 'cust_id_receiver', 'score']].copy()"
   ]
  },
  {
   "cell_type": "markdown",
   "id": "6452c23d-0ff9-4ea8-84b6-e0a6a4e752d7",
   "metadata": {},
   "source": [
    "## Constructing $\\boldsymbol{\\beta}/||\\boldsymbol{\\beta}||_1$"
   ]
  },
  {
   "cell_type": "code",
   "execution_count": 66,
   "id": "f6e38a9d-d87d-47df-a950-ea2e0614c03d",
   "metadata": {},
   "outputs": [],
   "source": [
    "# Get all nodes in the graph\n",
    "node_list = []\n",
    "node_list.extend(e_df.cust_id_sender.tolist() + e_df.cust_id_receiver.tolist())\n",
    "node_list = list(set(node_list)) #hack to remove duplicates"
   ]
  },
  {
   "cell_type": "code",
   "execution_count": 67,
   "id": "d9da848d-28fa-4ba7-a223-01ab53da7074",
   "metadata": {},
   "outputs": [
    {
     "data": {
      "text/html": [
       "<div>\n",
       "<style scoped>\n",
       "    .dataframe tbody tr th:only-of-type {\n",
       "        vertical-align: middle;\n",
       "    }\n",
       "\n",
       "    .dataframe tbody tr th {\n",
       "        vertical-align: top;\n",
       "    }\n",
       "\n",
       "    .dataframe thead th {\n",
       "        text-align: right;\n",
       "    }\n",
       "</style>\n",
       "<table border=\"1\" class=\"dataframe\">\n",
       "  <thead>\n",
       "    <tr style=\"text-align: right;\">\n",
       "      <th></th>\n",
       "      <th>cust_id</th>\n",
       "      <th>b_i</th>\n",
       "    </tr>\n",
       "  </thead>\n",
       "  <tbody>\n",
       "    <tr>\n",
       "      <th>90706</th>\n",
       "      <td>CUST20015461</td>\n",
       "      <td>0.000093</td>\n",
       "    </tr>\n",
       "    <tr>\n",
       "      <th>166751</th>\n",
       "      <td>CUST47228718</td>\n",
       "      <td>0.000093</td>\n",
       "    </tr>\n",
       "    <tr>\n",
       "      <th>102358</th>\n",
       "      <td>CUST43500432</td>\n",
       "      <td>0.000093</td>\n",
       "    </tr>\n",
       "  </tbody>\n",
       "</table>\n",
       "</div>"
      ],
      "text/plain": [
       "             cust_id       b_i\n",
       "90706   CUST20015461  0.000093\n",
       "166751  CUST47228718  0.000093\n",
       "102358  CUST43500432  0.000093"
      ]
     },
     "execution_count": 67,
     "metadata": {},
     "output_type": "execute_result"
    }
   ],
   "source": [
    "# Construct B\n",
    "b_df = pd.DataFrame(data={'cust_id':node_list})\n",
    "b_df = b_df.merge(n_df, on='cust_id', how='left')\n",
    "b_df = b_df.rename(columns={'score':'b_i'})\n",
    "b_df = b_df.fillna(0)\n",
    "\n",
    "one_norm = abs(b_df['b_i']).sum()\n",
    "\n",
    "b_df['b_i'] = b_df['b_i'] / one_norm\n",
    "\n",
    "b_df.sort_values('b_i', ascending=False).head(3)"
   ]
  },
  {
   "cell_type": "markdown",
   "id": "94ec027c-8c55-4a4a-81ee-2d2275cd2b4a",
   "metadata": {},
   "source": [
    "## Node Encoding\n",
    "This section encodes the cust_ids ordinally."
   ]
  },
  {
   "cell_type": "code",
   "execution_count": 68,
   "id": "c43742b6-a5f3-48ea-a997-cb989d64106e",
   "metadata": {},
   "outputs": [
    {
     "data": {
      "text/html": [
       "<div>\n",
       "<style scoped>\n",
       "    .dataframe tbody tr th:only-of-type {\n",
       "        vertical-align: middle;\n",
       "    }\n",
       "\n",
       "    .dataframe tbody tr th {\n",
       "        vertical-align: top;\n",
       "    }\n",
       "\n",
       "    .dataframe thead th {\n",
       "        text-align: right;\n",
       "    }\n",
       "</style>\n",
       "<table border=\"1\" class=\"dataframe\">\n",
       "  <thead>\n",
       "    <tr style=\"text-align: right;\">\n",
       "      <th></th>\n",
       "      <th>cust_id_sender</th>\n",
       "      <th>cust_id_receiver</th>\n",
       "      <th>score</th>\n",
       "    </tr>\n",
       "  </thead>\n",
       "  <tbody>\n",
       "    <tr>\n",
       "      <th>530362</th>\n",
       "      <td>121775</td>\n",
       "      <td>13056</td>\n",
       "      <td>0.558058</td>\n",
       "    </tr>\n",
       "    <tr>\n",
       "      <th>255618</th>\n",
       "      <td>87531</td>\n",
       "      <td>247782</td>\n",
       "      <td>0.890197</td>\n",
       "    </tr>\n",
       "    <tr>\n",
       "      <th>133038</th>\n",
       "      <td>259885</td>\n",
       "      <td>72</td>\n",
       "      <td>0.620701</td>\n",
       "    </tr>\n",
       "  </tbody>\n",
       "</table>\n",
       "</div>"
      ],
      "text/plain": [
       "        cust_id_sender  cust_id_receiver     score\n",
       "530362          121775             13056  0.558058\n",
       "255618           87531            247782  0.890197\n",
       "133038          259885                72  0.620701"
      ]
     },
     "execution_count": 68,
     "metadata": {},
     "output_type": "execute_result"
    }
   ],
   "source": [
    "le = LabelEncoder()\n",
    "le.fit(node_list)\n",
    "\n",
    "e_df['cust_id_sender'] = le.transform(e_df['cust_id_sender'])\n",
    "e_df['cust_id_receiver'] = le.transform(e_df['cust_id_receiver'])\n",
    "\n",
    "b_df['cust_id'] = le.transform(b_df['cust_id'])\n",
    "\n",
    "e_df.sample(3)"
   ]
  },
  {
   "cell_type": "markdown",
   "id": "df2b898d-f086-43e6-940d-7431d9abf66c",
   "metadata": {},
   "source": [
    "## Constructing $M$\n",
    "*note that for $m_{ij}$, $i$ is the target node and $j$ is the source node*"
   ]
  },
  {
   "cell_type": "code",
   "execution_count": 69,
   "id": "c33008b5-31d1-42be-b60f-504b34e97c62",
   "metadata": {},
   "outputs": [
    {
     "data": {
      "text/html": [
       "<div>\n",
       "<style scoped>\n",
       "    .dataframe tbody tr th:only-of-type {\n",
       "        vertical-align: middle;\n",
       "    }\n",
       "\n",
       "    .dataframe tbody tr th {\n",
       "        vertical-align: top;\n",
       "    }\n",
       "\n",
       "    .dataframe thead th {\n",
       "        text-align: right;\n",
       "    }\n",
       "</style>\n",
       "<table border=\"1\" class=\"dataframe\">\n",
       "  <thead>\n",
       "    <tr style=\"text-align: right;\">\n",
       "      <th></th>\n",
       "      <th>cust_id_sender</th>\n",
       "      <th>cust_id_receiver</th>\n",
       "      <th>score</th>\n",
       "      <th>w_ji</th>\n",
       "      <th>a_ji</th>\n",
       "      <th>s_j</th>\n",
       "      <th>d_j</th>\n",
       "      <th>cust_id</th>\n",
       "      <th>b_i</th>\n",
       "    </tr>\n",
       "  </thead>\n",
       "  <tbody>\n",
       "    <tr>\n",
       "      <th>374800</th>\n",
       "      <td>132776</td>\n",
       "      <td>98544</td>\n",
       "      <td>0.531895</td>\n",
       "      <td>0.531895</td>\n",
       "      <td>1</td>\n",
       "      <td>1.802538</td>\n",
       "      <td>5</td>\n",
       "      <td>98544</td>\n",
       "      <td>0.0</td>\n",
       "    </tr>\n",
       "    <tr>\n",
       "      <th>440834</th>\n",
       "      <td>44193</td>\n",
       "      <td>6071</td>\n",
       "      <td>0.870349</td>\n",
       "      <td>0.870349</td>\n",
       "      <td>1</td>\n",
       "      <td>3.996293</td>\n",
       "      <td>6</td>\n",
       "      <td>6071</td>\n",
       "      <td>0.0</td>\n",
       "    </tr>\n",
       "    <tr>\n",
       "      <th>191747</th>\n",
       "      <td>257565</td>\n",
       "      <td>27457</td>\n",
       "      <td>0.847510</td>\n",
       "      <td>0.847510</td>\n",
       "      <td>1</td>\n",
       "      <td>1.460754</td>\n",
       "      <td>2</td>\n",
       "      <td>27457</td>\n",
       "      <td>0.0</td>\n",
       "    </tr>\n",
       "  </tbody>\n",
       "</table>\n",
       "</div>"
      ],
      "text/plain": [
       "        cust_id_sender  cust_id_receiver     score      w_ji  a_ji       s_j  \\\n",
       "374800          132776             98544  0.531895  0.531895     1  1.802538   \n",
       "440834           44193              6071  0.870349  0.870349     1  3.996293   \n",
       "191747          257565             27457  0.847510  0.847510     1  1.460754   \n",
       "\n",
       "        d_j  cust_id  b_i  \n",
       "374800    5    98544  0.0  \n",
       "440834    6     6071  0.0  \n",
       "191747    2    27457  0.0  "
      ]
     },
     "execution_count": 69,
     "metadata": {},
     "output_type": "execute_result"
    }
   ],
   "source": [
    "#Calculate w_ji\n",
    "w_df = e_df.groupby(['cust_id_sender', 'cust_id_receiver'], as_index=False)['score'].sum()\n",
    "w_df = w_df.rename(columns={'score':'w_ji'})\n",
    "e_df = e_df.merge(w_df, on=['cust_id_sender', 'cust_id_receiver'], how='left')\n",
    "\n",
    "#Calculate a_ji\n",
    "a_df = e_df.groupby(['cust_id_sender', 'cust_id_receiver'], as_index=False)['score'].count()\n",
    "a_df = a_df.rename(columns={'score':'a_ji'})\n",
    "e_df = e_df.merge(a_df, on=['cust_id_sender', 'cust_id_receiver'], how='left')\n",
    "\n",
    "#Calculate s_j\n",
    "s_df = e_df.groupby(['cust_id_sender'], as_index=False)['score'].sum()\n",
    "s_df = s_df.rename(columns={'score':'s_j'})\n",
    "e_df = e_df.merge(s_df, on='cust_id_sender', how='left')\n",
    "\n",
    "#Calculate d_j\n",
    "d_df = e_df.groupby(['cust_id_sender'], as_index=False)['score'].count()\n",
    "d_df = d_df.rename(columns={'score':'d_j'})\n",
    "e_df = e_df.merge(d_df, on='cust_id_sender', how='left')\n",
    "\n",
    "#Merge b_i\n",
    "e_df = e_df.merge(b_df, how='left', left_on='cust_id_receiver', right_on='cust_id')\n",
    "e_df.sample(3)"
   ]
  },
  {
   "cell_type": "code",
   "execution_count": null,
   "id": "a03c3ebd-dac6-4a8d-b3d4-f48df33f1e53",
   "metadata": {},
   "outputs": [],
   "source": [
    "def calc_m(r): \n",
    "    if r.d_j == 0: \n",
    "        m = b_i\n",
    "    else:\n",
    "        m = THETA*r.w_ji/r.s_j + (1-THETA)*r.a_ji/r.d_j\n",
    "    return m\n",
    "\n",
    "#calculate m_ij for sender j, receiver i\n",
    "e_df['m'] = e_df.apply(lambda r: calc_m(r), axis=1)\n",
    "e_df.sample(3)"
   ]
  },
  {
   "cell_type": "markdown",
   "id": "4da69d5b-0a20-46fa-a495-b1f26a55a21e",
   "metadata": {},
   "source": [
    "## Pagerank"
   ]
  },
  {
   "cell_type": "code",
   "execution_count": null,
   "id": "f892e140-700e-4eba-b736-d417d34a5d70",
   "metadata": {},
   "outputs": [],
   "source": [
    "i = e_df['cust_id_receiver'].values\n",
    "j = e_df['cust_id_sender'].values\n",
    "m = e_df['m'].values\n",
    "\n",
    "N = b_df.shape[0]\n",
    "B = b_df.sort_values('cust_id')['b_i'].values\n",
    "\n",
    "# Construct sparse matrix\n",
    "M = coo_array((m,(i,j)), shape=(N,N))\n",
    "\n",
    "# Verify that data is stored correctly\n",
    "test_i = 35453\n",
    "test_j = 238577\n",
    "print(f'M at i={test_i} and j={test_j} is {M.tocsr()[test_i,test_j]}')\n",
    "\n",
    "# Pagerank\n",
    "P = np.full(N, 1/N)\n",
    "max_diff = 1 #TODO implement\n",
    "iter = 0 #TODO implement\n",
    "for i in range(100):\n",
    "    iter += 1\n",
    "    P_int = GAMMA*M.dot(P) + (1-GAMMA)*B\n",
    "    max_diff = np.absolute(P-P_int).max()\n",
    "    P = P_int\n",
    "\n",
    "# Scaling\n",
    "P = (P - P.min())/(P.max() - P.min())"
   ]
  },
  {
   "cell_type": "code",
   "execution_count": null,
   "id": "e88c7b2c-35ba-43b2-9fcd-d66b78e60195",
   "metadata": {},
   "outputs": [],
   "source": [
    "# Exporting\n",
    "P_df = pd.DataFrame(data=P, columns=['score'])\n",
    "P_df['cust_id'] = P_df.index\n",
    "P_df['cust_id'] = le.inverse_transform(P_df['cust_id']) #transform back to actual IDS\n",
    "P_df = P_df[['cust_id','score']]\n",
    "P_df.to_parquet(DATAPATH / 'pagerank_3.parquet')"
   ]
  },
  {
   "cell_type": "markdown",
   "id": "ecd2c6de-4df0-4542-990b-dbe9c4fa8d15",
   "metadata": {},
   "source": [
    "# Vis"
   ]
  },
  {
   "cell_type": "code",
   "execution_count": 55,
   "id": "5ce0838f-edd8-465f-813d-1e10e39ce345",
   "metadata": {},
   "outputs": [
    {
     "name": "stdout",
     "output_type": "stream",
     "text": [
      "kaleido version: 0.1.0.post1\n"
     ]
    }
   ],
   "source": [
    "import plotly.graph_objects as go\n",
    "from plotly.subplots import make_subplots\n",
    "import plotly.express as px\n",
    "import plotly.io as pio\n",
    "import kaleido \n",
    "print('kaleido version:', kaleido.__version__)\n",
    "\n",
    "#Inline figures\n",
    "pio.renderers.default = 'iframe'\n",
    "\n",
    "#Themeing\n",
    "# mcolors = px.colors.qualitative.Dark24\n",
    "\n",
    "pio.templates['custom'] = go.layout.Template(\n",
    "    layout=dict(\n",
    "        xaxis=dict(ticks='outside', tickcolor='lightgray', showgrid=False, showline=True),\n",
    "        yaxis=dict(ticks='outside', tickcolor='lightgray', showgrid=False, showline=True, mirror=True),\n",
    "        yaxis2=dict(ticks='outside', tickcolor='lightgray', showgrid=False,),\n",
    "        # colorway=mcolors,\n",
    "    )\n",
    "\n",
    ")\n",
    "\n",
    "pio.templates.default = 'plotly_white+custom'"
   ]
  },
  {
   "cell_type": "code",
   "execution_count": 56,
   "id": "0eede181-ff34-4593-8df9-c009739f0e56",
   "metadata": {},
   "outputs": [
    {
     "data": {
      "text/html": [
       "<iframe\n",
       "    scrolling=\"no\"\n",
       "    width=\"100%\"\n",
       "    height=\"545px\"\n",
       "    src=\"iframe_figures/figure_56.html\"\n",
       "    frameborder=\"0\"\n",
       "    allowfullscreen\n",
       "></iframe>\n"
      ]
     },
     "metadata": {},
     "output_type": "display_data"
    }
   ],
   "source": [
    "fig = px.histogram(P_df[P_df['score']>=0.5], x='score')\n",
    "fig.show()\n"
   ]
  },
  {
   "cell_type": "code",
   "execution_count": 33,
   "id": "f7284259-f39d-4781-ac11-c9971009c151",
   "metadata": {},
   "outputs": [
    {
     "data": {
      "text/html": [
       "<iframe\n",
       "    scrolling=\"no\"\n",
       "    width=\"100%\"\n",
       "    height=\"545px\"\n",
       "    src=\"iframe_figures/figure_33.html\"\n",
       "    frameborder=\"0\"\n",
       "    allowfullscreen\n",
       "></iframe>\n"
      ]
     },
     "metadata": {},
     "output_type": "display_data"
    }
   ],
   "source": [
    "fig = px.histogram(n_df, x='score')\n",
    "fig.show()\n"
   ]
  },
  {
   "cell_type": "code",
   "execution_count": 34,
   "id": "5f143aed-8b12-4000-854a-454316859b06",
   "metadata": {},
   "outputs": [
    {
     "data": {
      "text/html": [
       "<iframe\n",
       "    scrolling=\"no\"\n",
       "    width=\"100%\"\n",
       "    height=\"545px\"\n",
       "    src=\"iframe_figures/figure_34.html\"\n",
       "    frameborder=\"0\"\n",
       "    allowfullscreen\n",
       "></iframe>\n"
      ]
     },
     "metadata": {},
     "output_type": "display_data"
    }
   ],
   "source": [
    "fig = px.histogram(P_df, x='score')\n",
    "fig.show()"
   ]
  },
  {
   "cell_type": "code",
   "execution_count": null,
   "id": "adf218bf-7610-4122-bb78-c05c5acbd882",
   "metadata": {},
   "outputs": [],
   "source": []
  }
 ],
 "metadata": {
  "kernelspec": {
   "display_name": "Python [conda env:bigdata]",
   "language": "python",
   "name": "conda-env-bigdata-py"
  },
  "language_info": {
   "codemirror_mode": {
    "name": "ipython",
    "version": 3
   },
   "file_extension": ".py",
   "mimetype": "text/x-python",
   "name": "python",
   "nbconvert_exporter": "python",
   "pygments_lexer": "ipython3",
   "version": "3.11.5"
  }
 },
 "nbformat": 4,
 "nbformat_minor": 5
}
