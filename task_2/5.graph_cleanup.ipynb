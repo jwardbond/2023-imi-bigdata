{
 "cells": [
  {
   "cell_type": "code",
   "execution_count": 25,
   "id": "863a9e22-12da-47ec-af0c-d44a14f9cb38",
   "metadata": {},
   "outputs": [],
   "source": [
    "import numpy as np\n",
    "import pandas as pd\n",
    "\n",
    "from pathlib import Path"
   ]
  },
  {
   "cell_type": "markdown",
   "id": "e79f31b8-3b37-4a6c-a402-05c790465341",
   "metadata": {},
   "source": [
    "# Graph Cleanup\n",
    "This notebook puts data in a convenient format for creating the final graph."
   ]
  },
  {
   "cell_type": "code",
   "execution_count": 26,
   "id": "9edeca98-00e9-41e2-8ffa-1e2a83ff1fb2",
   "metadata": {},
   "outputs": [],
   "source": [
    "DATAPATH = Path('../data/processed/')\n",
    "PRPATH = DATAPATH / 'pagerank_rev_edge.parquet' #Can change this depending on which pagerank output you want\n",
    "KYCPATH = DATAPATH / 'kyc.parquet'\n",
    "EPATH = DATAPATH / 'emt.parquet'\n",
    "WPATH = DATAPATH / 'wire.parquet'"
   ]
  },
  {
   "cell_type": "code",
   "execution_count": 29,
   "id": "8c9b99d4-1fcf-4941-a824-2b364dbc2cf0",
   "metadata": {},
   "outputs": [
    {
     "name": "stdout",
     "output_type": "stream",
     "text": [
      "Node list length: 300008\n"
     ]
    }
   ],
   "source": [
    "# Load all nodes\n",
    "node_df = pd.read_parquet(PRPATH)\n",
    "\n",
    "# Join with kyc data and add country column\n",
    "kyc_df = pd.read_parquet(KYCPATH)\n",
    "kyc_df['country'] = 'CA'\n",
    "node_df = pd.merge(node_df, kyc_df, how='left', on='cust_id')\n",
    "\n",
    "# Get additional countries from wiretransfer data\n",
    "wdf = pd.read_parquet(WPATH)\n",
    "s1 = wdf[['cust_id_sender', 'country_sender']].copy().rename(columns={'cust_id_sender':'cust_id', 'country_sender':'country'})\n",
    "s2 = wdf[['cust_id_receiver', 'country_receiver']].copy().rename(columns={'cust_id_receiver':'cust_id', 'country_receiver':'country'})\n",
    "countries = pd.concat([s1,s2])\n",
    "countries = countries.drop_duplicates()\n",
    "\n",
    "node_df = pd.merge(node_df, countries, how='left', on='cust_id')\n",
    "node_df['country_x'] = node_df['country_x'].combine_first(node_df['country_y'])\n",
    "node_df['country'] = node_df['country_x']\n",
    "node_df = node_df.drop(columns=['country_x', 'country_y'])\n",
    "\n",
    "#exporting \n",
    "node_df.to_parquet(DATAPATH / 'nodes.parquet', index=False)\n",
    "print(f\"Node list length: {len(node_df)}\")"
   ]
  },
  {
   "cell_type": "code",
   "execution_count": null,
   "id": "7ae8d1b0",
   "metadata": {},
   "outputs": [],
   "source": []
  }
 ],
 "metadata": {
  "kernelspec": {
   "display_name": "Python [conda env:imibigdata]",
   "language": "python",
   "name": "conda-env-imibigdata-py"
  },
  "language_info": {
   "codemirror_mode": {
    "name": "ipython",
    "version": 3
   },
   "file_extension": ".py",
   "mimetype": "text/x-python",
   "name": "python",
   "nbconvert_exporter": "python",
   "pygments_lexer": "ipython3",
   "version": "3.12.1"
  }
 },
 "nbformat": 4,
 "nbformat_minor": 5
}
